{
 "cells": [
  {
   "cell_type": "markdown",
   "id": "9ac888a9-1593-48c5-97d0-a5fa73f51d5f",
   "metadata": {},
   "source": [
    "# *args and **kwargs"
   ]
  },
  {
   "cell_type": "markdown",
   "id": "66fe4a3a-2693-42f0-a20e-ca59e2e15abc",
   "metadata": {},
   "source": [
    "# Two types of arguments in Python\n",
    "\n",
    "- Positional arguments\n",
    "- Keyword arguments\n",
    "\n",
    "Arguments are the values that we pass when we invoke a function. Parameters are the variables in the function that get the arguments assigned to them."
   ]
  },
  {
   "cell_type": "code",
   "execution_count": 2,
   "id": "bd71c8fa-cce9-405a-944b-997d7c98fad5",
   "metadata": {},
   "outputs": [],
   "source": [
    "def myfunc(x, y):\n",
    "    return f'{x=}, {y=}'"
   ]
  },
  {
   "cell_type": "code",
   "execution_count": 3,
   "id": "1d64f088-5d2f-4ff4-867a-e7adbca6807e",
   "metadata": {},
   "outputs": [
    {
     "data": {
      "text/plain": [
       "'x=10, y=20'"
      ]
     },
     "execution_count": 3,
     "metadata": {},
     "output_type": "execute_result"
    }
   ],
   "source": [
    "# parameters: x   y\n",
    "# arguments:  10  20\n",
    "\n",
    "myfunc(10, 20)   # positional arguments"
   ]
  },
  {
   "cell_type": "code",
   "execution_count": 4,
   "id": "b86c2a1d-afe7-42ae-8bae-b8f281882dfb",
   "metadata": {},
   "outputs": [
    {
     "ename": "TypeError",
     "evalue": "myfunc() takes 2 positional arguments but 3 were given",
     "output_type": "error",
     "traceback": [
      "\u001b[1;31m---------------------------------------------------------------------------\u001b[0m",
      "\u001b[1;31mTypeError\u001b[0m                                 Traceback (most recent call last)",
      "Cell \u001b[1;32mIn[4], line 4\u001b[0m\n\u001b[0;32m      1\u001b[0m \u001b[38;5;66;03m# what if I want to pass any number of arguments?\u001b[39;00m\n\u001b[0;32m      2\u001b[0m \u001b[38;5;66;03m# Python knows how many arguments I'm supposed to pass to a function -- if I pass too many, I'll get an error\u001b[39;00m\n\u001b[1;32m----> 4\u001b[0m \u001b[43mmyfunc\u001b[49m\u001b[43m(\u001b[49m\u001b[38;5;241;43m10\u001b[39;49m\u001b[43m,\u001b[49m\u001b[43m \u001b[49m\u001b[38;5;241;43m20\u001b[39;49m\u001b[43m,\u001b[49m\u001b[43m \u001b[49m\u001b[38;5;241;43m30\u001b[39;49m\u001b[43m)\u001b[49m\n",
      "\u001b[1;31mTypeError\u001b[0m: myfunc() takes 2 positional arguments but 3 were given"
     ]
    }
   ],
   "source": [
    "# what if I want to pass any number of arguments?\n",
    "# Python knows how many arguments I'm supposed to pass to a function -- if I pass too many, I'll get an error\n",
    "\n",
    "myfunc(10, 20, 30)"
   ]
  },
  {
   "cell_type": "code",
   "execution_count": 5,
   "id": "111919ef-265b-451d-85b6-b8f0f117b172",
   "metadata": {},
   "outputs": [],
   "source": [
    "# if I really insist on getting any number of arguments, then I'll need a parameter\n",
    "# that can accept a variable number of arguments\n",
    "\n",
    "# that is *args \n",
    "\n",
    "def myfunc(x, *args):\n",
    "    return f'{x=}, {args=}'"
   ]
  },
  {
   "cell_type": "code",
   "execution_count": 6,
   "id": "207e8bc0-067b-4912-b2b3-e2a1f654578e",
   "metadata": {},
   "outputs": [
    {
     "ename": "TypeError",
     "evalue": "myfunc() missing 1 required positional argument: 'x'",
     "output_type": "error",
     "traceback": [
      "\u001b[1;31m---------------------------------------------------------------------------\u001b[0m",
      "\u001b[1;31mTypeError\u001b[0m                                 Traceback (most recent call last)",
      "Cell \u001b[1;32mIn[6], line 1\u001b[0m\n\u001b[1;32m----> 1\u001b[0m \u001b[43mmyfunc\u001b[49m\u001b[43m(\u001b[49m\u001b[43m)\u001b[49m\n",
      "\u001b[1;31mTypeError\u001b[0m: myfunc() missing 1 required positional argument: 'x'"
     ]
    }
   ],
   "source": [
    "myfunc()"
   ]
  },
  {
   "cell_type": "code",
   "execution_count": 7,
   "id": "0ef5d738-c600-419b-9185-78bf2155ba72",
   "metadata": {},
   "outputs": [
    {
     "data": {
      "text/plain": [
       "'x=10, args=()'"
      ]
     },
     "execution_count": 7,
     "metadata": {},
     "output_type": "execute_result"
    }
   ],
   "source": [
    "myfunc(10)"
   ]
  },
  {
   "cell_type": "code",
   "execution_count": 8,
   "id": "5df0e177-1535-47d7-a2d6-02453a49638c",
   "metadata": {},
   "outputs": [
    {
     "data": {
      "text/plain": [
       "'x=10, args=(20, 30, 40, 50)'"
      ]
     },
     "execution_count": 8,
     "metadata": {},
     "output_type": "execute_result"
    }
   ],
   "source": [
    "myfunc(10, 20, 30, 40, 50)"
   ]
  },
  {
   "cell_type": "markdown",
   "id": "e8412d2b-6d67-46ca-9418-54cd02b056de",
   "metadata": {},
   "source": [
    "# Keyword arguments\n",
    "\n",
    "If we call a function, and pass one or more arguments in the form of `name=value`, those are known as keyword arguments. We tell Python which arguments should be assigned to which parameters."
   ]
  },
  {
   "cell_type": "code",
   "execution_count": 9,
   "id": "5a463429-2544-4668-834b-0d74aa809df4",
   "metadata": {},
   "outputs": [],
   "source": [
    "def mydiv(x, y):\n",
    "    print(f'{x=}, {y=}')\n",
    "    return x / y"
   ]
  },
  {
   "cell_type": "code",
   "execution_count": 11,
   "id": "c4d8d871-5e88-478d-b826-a53edaca8c9d",
   "metadata": {},
   "outputs": [
    {
     "name": "stdout",
     "output_type": "stream",
     "text": [
      "x=10, y=5\n"
     ]
    },
    {
     "data": {
      "text/plain": [
       "2.0"
      ]
     },
     "execution_count": 11,
     "metadata": {},
     "output_type": "execute_result"
    }
   ],
   "source": [
    "# parameters: x   y\n",
    "# argumentse: 10 5\n",
    "\n",
    "mydiv(10, 5)  # positional arguments\n",
    "\n"
   ]
  },
  {
   "cell_type": "code",
   "execution_count": 12,
   "id": "6475098c-1648-4765-89ec-99746bf06045",
   "metadata": {},
   "outputs": [
    {
     "name": "stdout",
     "output_type": "stream",
     "text": [
      "x=10, y=5\n"
     ]
    },
    {
     "data": {
      "text/plain": [
       "2.0"
      ]
     },
     "execution_count": 12,
     "metadata": {},
     "output_type": "execute_result"
    }
   ],
   "source": [
    "# parameters: x  y\n",
    "# arguments:  10  5\n",
    "\n",
    "mydiv(x=10, y=5)  # now they're both keyword arguments!"
   ]
  },
  {
   "cell_type": "code",
   "execution_count": 13,
   "id": "e7fab45f-a399-4e8e-bca8-8da5fa374e7e",
   "metadata": {},
   "outputs": [
    {
     "name": "stdout",
     "output_type": "stream",
     "text": [
      "x=5, y=10\n"
     ]
    },
    {
     "data": {
      "text/plain": [
       "0.5"
      ]
     },
     "execution_count": 13,
     "metadata": {},
     "output_type": "execute_result"
    }
   ],
   "source": [
    "# parameters: x  y\n",
    "# arguments:  5  10\n",
    "\n",
    "mydiv(y=10, x=5)  # now they're both keyword arguments!"
   ]
  },
  {
   "cell_type": "code",
   "execution_count": 14,
   "id": "71504054-ace9-4ac1-ab53-33a7c80163d3",
   "metadata": {},
   "outputs": [],
   "source": [
    "def myfunc(**kwargs):   # kwargs will be a dict whose keys are the kwargs name, and values are kwarg values\n",
    "    for key, value in kwargs.items():\n",
    "        print(f'\\t{key}:{value}')"
   ]
  },
  {
   "cell_type": "code",
   "execution_count": 15,
   "id": "cf69739e-6ab9-47d5-9f6a-33960a62dc3a",
   "metadata": {},
   "outputs": [
    {
     "name": "stdout",
     "output_type": "stream",
     "text": [
      "\ta:10\n",
      "\tb:20\n",
      "\tc:30\n"
     ]
    }
   ],
   "source": [
    "myfunc(a=10, b=20, c=30)"
   ]
  },
  {
   "cell_type": "code",
   "execution_count": 16,
   "id": "75f6ff71-8473-495f-ae81-8c102b85356c",
   "metadata": {},
   "outputs": [
    {
     "ename": "TypeError",
     "evalue": "myfunc() takes 0 positional arguments but 3 were given",
     "output_type": "error",
     "traceback": [
      "\u001b[1;31m---------------------------------------------------------------------------\u001b[0m",
      "\u001b[1;31mTypeError\u001b[0m                                 Traceback (most recent call last)",
      "Cell \u001b[1;32mIn[16], line 1\u001b[0m\n\u001b[1;32m----> 1\u001b[0m \u001b[43mmyfunc\u001b[49m\u001b[43m(\u001b[49m\u001b[38;5;241;43m10\u001b[39;49m\u001b[43m,\u001b[49m\u001b[43m \u001b[49m\u001b[38;5;241;43m20\u001b[39;49m\u001b[43m,\u001b[49m\u001b[43m \u001b[49m\u001b[38;5;241;43m30\u001b[39;49m\u001b[43m)\u001b[49m\n",
      "\u001b[1;31mTypeError\u001b[0m: myfunc() takes 0 positional arguments but 3 were given"
     ]
    }
   ],
   "source": [
    "myfunc(10, 20, 30)"
   ]
  },
  {
   "cell_type": "code",
   "execution_count": 17,
   "id": "3ee6ca5d-0c96-4a20-8db5-48dc695b99ba",
   "metadata": {},
   "outputs": [],
   "source": [
    "def myfunc(x, *args, **kwargs):\n",
    "    return f'{x=}, {args=}, {kwargs=}'"
   ]
  },
  {
   "cell_type": "code",
   "execution_count": 18,
   "id": "beed8e20-8aef-435d-9440-e6933402d017",
   "metadata": {},
   "outputs": [
    {
     "data": {
      "text/plain": [
       "\"x=10, args=(20, 30, 40), kwargs={'a': 100, 'b': 200, 'c': 300}\""
      ]
     },
     "execution_count": 18,
     "metadata": {},
     "output_type": "execute_result"
    }
   ],
   "source": [
    "myfunc(10, 20, 30, 40, a=100, b=200, c=300)"
   ]
  },
  {
   "cell_type": "code",
   "execution_count": null,
   "id": "cb722112-7081-4e0f-9d33-c12089cff664",
   "metadata": {},
   "outputs": [],
   "source": []
  }
 ],
 "metadata": {
  "kernelspec": {
   "display_name": "Python 3 (ipykernel)",
   "language": "python",
   "name": "python3"
  },
  "language_info": {
   "codemirror_mode": {
    "name": "ipython",
    "version": 3
   },
   "file_extension": ".py",
   "mimetype": "text/x-python",
   "name": "python",
   "nbconvert_exporter": "python",
   "pygments_lexer": "ipython3",
   "version": "3.11.4"
  }
 },
 "nbformat": 4,
 "nbformat_minor": 5
}
