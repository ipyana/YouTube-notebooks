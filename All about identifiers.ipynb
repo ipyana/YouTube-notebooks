{
 "cells": [
  {
   "cell_type": "markdown",
   "id": "2df87a4b",
   "metadata": {},
   "source": [
    "# Identifiers\n",
    "\n",
    "- Variable names\n",
    "- Function names\n",
    "- Module names\n",
    "- Class names\n",
    "\n",
    "1. What is a legit identifier? \n",
    "2. What are the conventions for identifiers of different types?"
   ]
  },
  {
   "cell_type": "markdown",
   "id": "2ae7c049",
   "metadata": {},
   "source": [
    "# Identifiers -- what can they be called?\n",
    "\n",
    "Any combination of\n",
    "\n",
    "- Letters (in theory, any Unicode character)\n",
    "- Numbers (except as the first character)\n",
    "- Underscores (`_`)"
   ]
  },
  {
   "cell_type": "code",
   "execution_count": 1,
   "id": "a91487ad",
   "metadata": {},
   "outputs": [],
   "source": [
    "x = 100\n",
    "\n",
    "x3 = 200\n",
    "\n",
    "abc_def_123 = [10, 20, 30]"
   ]
  },
  {
   "cell_type": "code",
   "execution_count": 2,
   "id": "df340c47",
   "metadata": {},
   "outputs": [
    {
     "ename": "SyntaxError",
     "evalue": "invalid decimal literal (1133897598.py, line 1)",
     "output_type": "error",
     "traceback": [
      "\u001b[0;36m  File \u001b[0;32m\"/var/folders/rr/0mnyyv811fs5vyp22gf4fxk00000gn/T/ipykernel_70750/1133897598.py\"\u001b[0;36m, line \u001b[0;32m1\u001b[0m\n\u001b[0;31m    5x = 100\u001b[0m\n\u001b[0m    ^\u001b[0m\n\u001b[0;31mSyntaxError\u001b[0m\u001b[0;31m:\u001b[0m invalid decimal literal\n"
     ]
    }
   ],
   "source": [
    "5x = 100"
   ]
  },
  {
   "cell_type": "code",
   "execution_count": 4,
   "id": "d9a3ae01",
   "metadata": {},
   "outputs": [
    {
     "data": {
      "text/plain": [
       "'Hello, out there'"
      ]
     },
     "execution_count": 4,
     "metadata": {},
     "output_type": "execute_result"
    }
   ],
   "source": [
    "# In Python, we normally use snake_case: lowercase letters and _ between words\n",
    "\n",
    "def hello(first_name, last_name):\n",
    "    return f'Hello, {first_name} {last_name}'\n",
    "\n",
    "hello('out', 'there')"
   ]
  },
  {
   "cell_type": "markdown",
   "id": "6187a39c",
   "metadata": {},
   "source": [
    "# Class names\n",
    "\n",
    "These are normally written in CamelCase.\n",
    "\n"
   ]
  },
  {
   "cell_type": "code",
   "execution_count": 6,
   "id": "643d6c5a",
   "metadata": {},
   "outputs": [],
   "source": [
    "class SmallCompany:  # camel case for the class name\n",
    "    def __init__(self, name):\n",
    "        self.company_name = name   # snake case for both the variable (name) and the attribute (company_name)"
   ]
  },
  {
   "cell_type": "code",
   "execution_count": 7,
   "id": "c1769437",
   "metadata": {},
   "outputs": [],
   "source": [
    "_ = 5"
   ]
  },
  {
   "cell_type": "code",
   "execution_count": 8,
   "id": "e24044bf",
   "metadata": {},
   "outputs": [
    {
     "data": {
      "text/plain": [
       "5"
      ]
     },
     "execution_count": 8,
     "metadata": {},
     "output_type": "execute_result"
    }
   ],
   "source": [
    "_"
   ]
  },
  {
   "cell_type": "code",
   "execution_count": 9,
   "id": "68b86a90",
   "metadata": {},
   "outputs": [],
   "source": [
    "mylist = [10, 20, 30]\n",
    "\n",
    "first, _, last = mylist    # tuple unpacking"
   ]
  },
  {
   "cell_type": "code",
   "execution_count": 10,
   "id": "77e07728",
   "metadata": {},
   "outputs": [
    {
     "data": {
      "text/plain": [
       "10"
      ]
     },
     "execution_count": 10,
     "metadata": {},
     "output_type": "execute_result"
    }
   ],
   "source": [
    "first"
   ]
  },
  {
   "cell_type": "code",
   "execution_count": 11,
   "id": "b53508fd",
   "metadata": {},
   "outputs": [
    {
     "data": {
      "text/plain": [
       "30"
      ]
     },
     "execution_count": 11,
     "metadata": {},
     "output_type": "execute_result"
    }
   ],
   "source": [
    "last"
   ]
  },
  {
   "cell_type": "code",
   "execution_count": 12,
   "id": "20598d62",
   "metadata": {},
   "outputs": [
    {
     "data": {
      "text/plain": [
       "20"
      ]
     },
     "execution_count": 12,
     "metadata": {},
     "output_type": "execute_result"
    }
   ],
   "source": [
    "_"
   ]
  },
  {
   "cell_type": "code",
   "execution_count": 13,
   "id": "2d8a4d92",
   "metadata": {},
   "outputs": [],
   "source": [
    "mylist = [10, 20, 30, 40, 50, 60]\n",
    "\n",
    "first, *_, last = mylist    # tuple unpacking"
   ]
  },
  {
   "cell_type": "code",
   "execution_count": 14,
   "id": "c48196b9",
   "metadata": {},
   "outputs": [
    {
     "data": {
      "text/plain": [
       "10"
      ]
     },
     "execution_count": 14,
     "metadata": {},
     "output_type": "execute_result"
    }
   ],
   "source": [
    "first"
   ]
  },
  {
   "cell_type": "code",
   "execution_count": 15,
   "id": "7a47c308",
   "metadata": {},
   "outputs": [
    {
     "data": {
      "text/plain": [
       "60"
      ]
     },
     "execution_count": 15,
     "metadata": {},
     "output_type": "execute_result"
    }
   ],
   "source": [
    "last"
   ]
  },
  {
   "cell_type": "code",
   "execution_count": 16,
   "id": "09456af7",
   "metadata": {},
   "outputs": [
    {
     "data": {
      "text/plain": [
       "[20, 30, 40, 50]"
      ]
     },
     "execution_count": 16,
     "metadata": {},
     "output_type": "execute_result"
    }
   ],
   "source": [
    "_"
   ]
  },
  {
   "cell_type": "code",
   "execution_count": 17,
   "id": "c40385ac",
   "metadata": {},
   "outputs": [
    {
     "name": "stdout",
     "output_type": "stream",
     "text": [
      "Hooray!\n",
      "Hooray!\n",
      "Hooray!\n"
     ]
    }
   ],
   "source": [
    "for _ in range(3):\n",
    "    print('Hooray!')"
   ]
  },
  {
   "cell_type": "code",
   "execution_count": 18,
   "id": "d9494f9e",
   "metadata": {},
   "outputs": [
    {
     "name": "stdout",
     "output_type": "stream",
     "text": [
      "Hello, Reuven!\n"
     ]
    }
   ],
   "source": [
    "class Person:\n",
    "    def __init__(self, name):  # Python slang -- \"dunder init\" == \"double underscore, before and after init\"\n",
    "        self.name = name\n",
    "        \n",
    "    def greet(self):\n",
    "        return f'Hello, {self.name}!'\n",
    "        \n",
    "p = Person('Reuven')        \n",
    "print(p.greet())"
   ]
  },
  {
   "cell_type": "markdown",
   "id": "e141fc23",
   "metadata": {},
   "source": [
    "# Dunders\n",
    "\n",
    "If you define a variable or function (or method) with a \"dunder name,\" you're basically saying that you want Python to use this value at some specified point in the program's execution, as per a specification.\n",
    "\n",
    "Meaning: Python looks for particular dunders at particular times. If you have defined it, then it'll be used.\n",
    "\n",
    "In classes, you can define lots of dunder methods (sometimes known as \"magic methods\"):\n",
    "- `__int__` (convert to int)\n",
    "- `__eq__` (for equality)\n",
    "- `__add__` (for `+`)\n",
    "- `__len__` (for length)\n",
    "- `__str__` (for turning to a string)"
   ]
  },
  {
   "cell_type": "code",
   "execution_count": 19,
   "id": "f05053b0",
   "metadata": {},
   "outputs": [],
   "source": [
    "import random"
   ]
  },
  {
   "cell_type": "code",
   "execution_count": 20,
   "id": "eee4ab8b",
   "metadata": {},
   "outputs": [
    {
     "data": {
      "text/plain": [
       "['BPF',\n",
       " 'LOG4',\n",
       " 'NV_MAGICCONST',\n",
       " 'RECIP_BPF',\n",
       " 'Random',\n",
       " 'SG_MAGICCONST',\n",
       " 'SystemRandom',\n",
       " 'TWOPI',\n",
       " '_ONE',\n",
       " '_Sequence',\n",
       " '_Set',\n",
       " '__all__',\n",
       " '__builtins__',\n",
       " '__cached__',\n",
       " '__doc__',\n",
       " '__file__',\n",
       " '__loader__',\n",
       " '__name__',\n",
       " '__package__',\n",
       " '__spec__',\n",
       " '_accumulate',\n",
       " '_acos',\n",
       " '_bisect',\n",
       " '_ceil',\n",
       " '_cos',\n",
       " '_e',\n",
       " '_exp',\n",
       " '_floor',\n",
       " '_index',\n",
       " '_inst',\n",
       " '_isfinite',\n",
       " '_log',\n",
       " '_os',\n",
       " '_pi',\n",
       " '_random',\n",
       " '_repeat',\n",
       " '_sha512',\n",
       " '_sin',\n",
       " '_sqrt',\n",
       " '_test',\n",
       " '_test_generator',\n",
       " '_urandom',\n",
       " '_warn',\n",
       " 'betavariate',\n",
       " 'choice',\n",
       " 'choices',\n",
       " 'expovariate',\n",
       " 'gammavariate',\n",
       " 'gauss',\n",
       " 'getrandbits',\n",
       " 'getstate',\n",
       " 'lognormvariate',\n",
       " 'normalvariate',\n",
       " 'paretovariate',\n",
       " 'randbytes',\n",
       " 'randint',\n",
       " 'random',\n",
       " 'randrange',\n",
       " 'sample',\n",
       " 'seed',\n",
       " 'setstate',\n",
       " 'shuffle',\n",
       " 'triangular',\n",
       " 'uniform',\n",
       " 'vonmisesvariate',\n",
       " 'weibullvariate']"
      ]
     },
     "execution_count": 20,
     "metadata": {},
     "output_type": "execute_result"
    }
   ],
   "source": [
    "dir(random)"
   ]
  },
  {
   "cell_type": "code",
   "execution_count": 21,
   "id": "9c9ed0c8",
   "metadata": {},
   "outputs": [],
   "source": [
    "# Python doesn't have constants\n",
    "# but we pretend we do with ALL_CAPS\n",
    "\n",
    "NAME = 'Reuven'"
   ]
  },
  {
   "cell_type": "code",
   "execution_count": 22,
   "id": "63ac6545",
   "metadata": {},
   "outputs": [
    {
     "data": {
      "text/plain": [
       "str"
      ]
     },
     "execution_count": 22,
     "metadata": {},
     "output_type": "execute_result"
    }
   ],
   "source": [
    "type(NAME)"
   ]
  },
  {
   "cell_type": "code",
   "execution_count": 23,
   "id": "6c9a80a4",
   "metadata": {},
   "outputs": [],
   "source": [
    "NAME = 'Someone else'"
   ]
  },
  {
   "cell_type": "code",
   "execution_count": 24,
   "id": "b9a0bf73",
   "metadata": {},
   "outputs": [
    {
     "name": "stdout",
     "output_type": "stream",
     "text": [
      "Someone else\n"
     ]
    }
   ],
   "source": [
    "print(NAME)"
   ]
  },
  {
   "cell_type": "code",
   "execution_count": 26,
   "id": "1510b327",
   "metadata": {},
   "outputs": [],
   "source": [
    "# by convention, variables that begin with a single _ are considered \"private\"\n",
    "\n",
    "_x = 10  # what is this?"
   ]
  },
  {
   "cell_type": "code",
   "execution_count": 27,
   "id": "0d8a6aea",
   "metadata": {},
   "outputs": [],
   "source": [
    "# from MODULE import * "
   ]
  },
  {
   "cell_type": "code",
   "execution_count": 34,
   "id": "09634cdc",
   "metadata": {},
   "outputs": [],
   "source": [
    "class Person:\n",
    "    def __init__(self, name, bank):\n",
    "        self.name = name\n",
    "        self.__bank = bank   # name mangling -- start with __ --> _CLASS__NAME\n",
    "        \n",
    "    def get_bank(self):\n",
    "        return f'Your bank is {self.__bank}'\n",
    "        \n",
    "p = Person('Reuven', 'Leumi')        "
   ]
  },
  {
   "cell_type": "code",
   "execution_count": 35,
   "id": "10c0629b",
   "metadata": {},
   "outputs": [
    {
     "data": {
      "text/plain": [
       "'Reuven'"
      ]
     },
     "execution_count": 35,
     "metadata": {},
     "output_type": "execute_result"
    }
   ],
   "source": [
    "p.name"
   ]
  },
  {
   "cell_type": "code",
   "execution_count": 36,
   "id": "2f0a5710",
   "metadata": {},
   "outputs": [
    {
     "ename": "AttributeError",
     "evalue": "'Person' object has no attribute '__bank'",
     "output_type": "error",
     "traceback": [
      "\u001b[0;31m---------------------------------------------------------------------------\u001b[0m",
      "\u001b[0;31mAttributeError\u001b[0m                            Traceback (most recent call last)",
      "\u001b[0;32m/var/folders/rr/0mnyyv811fs5vyp22gf4fxk00000gn/T/ipykernel_70750/1403129314.py\u001b[0m in \u001b[0;36m<module>\u001b[0;34m\u001b[0m\n\u001b[0;32m----> 1\u001b[0;31m \u001b[0mp\u001b[0m\u001b[0;34m.\u001b[0m\u001b[0m__bank\u001b[0m\u001b[0;34m\u001b[0m\u001b[0;34m\u001b[0m\u001b[0m\n\u001b[0m",
      "\u001b[0;31mAttributeError\u001b[0m: 'Person' object has no attribute '__bank'"
     ]
    }
   ],
   "source": [
    "p.__bank"
   ]
  },
  {
   "cell_type": "code",
   "execution_count": 37,
   "id": "8e182399",
   "metadata": {},
   "outputs": [
    {
     "data": {
      "text/plain": [
       "'Your bank is Leumi'"
      ]
     },
     "execution_count": 37,
     "metadata": {},
     "output_type": "execute_result"
    }
   ],
   "source": [
    "p.get_bank()"
   ]
  },
  {
   "cell_type": "code",
   "execution_count": 32,
   "id": "9b9afdbe",
   "metadata": {},
   "outputs": [
    {
     "data": {
      "text/plain": [
       "['_Person__bank',\n",
       " '__class__',\n",
       " '__delattr__',\n",
       " '__dict__',\n",
       " '__dir__',\n",
       " '__doc__',\n",
       " '__eq__',\n",
       " '__format__',\n",
       " '__ge__',\n",
       " '__getattribute__',\n",
       " '__gt__',\n",
       " '__hash__',\n",
       " '__init__',\n",
       " '__init_subclass__',\n",
       " '__le__',\n",
       " '__lt__',\n",
       " '__module__',\n",
       " '__ne__',\n",
       " '__new__',\n",
       " '__reduce__',\n",
       " '__reduce_ex__',\n",
       " '__repr__',\n",
       " '__setattr__',\n",
       " '__sizeof__',\n",
       " '__str__',\n",
       " '__subclasshook__',\n",
       " '__weakref__',\n",
       " 'name']"
      ]
     },
     "execution_count": 32,
     "metadata": {},
     "output_type": "execute_result"
    }
   ],
   "source": [
    "dir(p)"
   ]
  },
  {
   "cell_type": "code",
   "execution_count": 33,
   "id": "79afb0d9",
   "metadata": {},
   "outputs": [
    {
     "data": {
      "text/plain": [
       "'Leumi'"
      ]
     },
     "execution_count": 33,
     "metadata": {},
     "output_type": "execute_result"
    }
   ],
   "source": [
    "p._Person__bank"
   ]
  },
  {
   "cell_type": "code",
   "execution_count": null,
   "id": "18e4f347",
   "metadata": {},
   "outputs": [],
   "source": []
  }
 ],
 "metadata": {
  "kernelspec": {
   "display_name": "Python 3 (ipykernel)",
   "language": "python",
   "name": "python3"
  },
  "language_info": {
   "codemirror_mode": {
    "name": "ipython",
    "version": 3
   },
   "file_extension": ".py",
   "mimetype": "text/x-python",
   "name": "python",
   "nbconvert_exporter": "python",
   "pygments_lexer": "ipython3",
   "version": "3.10.5"
  }
 },
 "nbformat": 4,
 "nbformat_minor": 5
}
