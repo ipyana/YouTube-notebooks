{
 "cells": [
  {
   "cell_type": "markdown",
   "metadata": {},
   "source": [
    "# Python's assignment expressions (aka \"the walrus\")"
   ]
  },
  {
   "cell_type": "code",
   "execution_count": 1,
   "metadata": {},
   "outputs": [
    {
     "name": "stdout",
     "output_type": "stream",
     "text": [
      "Enter your name: Reuven\n",
      "Hello, Reuven!\n",
      "Enter your name: world\n",
      "Hello, world!\n",
      "Enter your name: out there!\n",
      "Hello, out there!!\n",
      "Enter your name: \n"
     ]
    }
   ],
   "source": [
    "while True:\n",
    "    name = input('Enter your name: ').strip()\n",
    "    \n",
    "    if not name:  # if name is the empty string, then ... \n",
    "        break     # ... exit from the loop\n",
    "        \n",
    "    print(f'Hello, {name}!')"
   ]
  },
  {
   "cell_type": "code",
   "execution_count": 2,
   "metadata": {},
   "outputs": [
    {
     "ename": "SyntaxError",
     "evalue": "invalid syntax (<ipython-input-2-891868979ecf>, line 1)",
     "output_type": "error",
     "traceback": [
      "\u001b[0;36m  File \u001b[0;32m\"<ipython-input-2-891868979ecf>\"\u001b[0;36m, line \u001b[0;32m1\u001b[0m\n\u001b[0;31m    while name = input('Enter your name: ').strip():\u001b[0m\n\u001b[0m               ^\u001b[0m\n\u001b[0;31mSyntaxError\u001b[0m\u001b[0;31m:\u001b[0m invalid syntax\n"
     ]
    }
   ],
   "source": [
    "while name = input('Enter your name: ').strip():\n",
    "            \n",
    "    print(f'Hello, {name}!')"
   ]
  },
  {
   "cell_type": "code",
   "execution_count": 3,
   "metadata": {},
   "outputs": [],
   "source": [
    "x = y = 10"
   ]
  },
  {
   "cell_type": "code",
   "execution_count": 4,
   "metadata": {},
   "outputs": [
    {
     "data": {
      "text/plain": [
       "10"
      ]
     },
     "execution_count": 4,
     "metadata": {},
     "output_type": "execute_result"
    }
   ],
   "source": [
    "x"
   ]
  },
  {
   "cell_type": "code",
   "execution_count": 5,
   "metadata": {},
   "outputs": [
    {
     "data": {
      "text/plain": [
       "10"
      ]
     },
     "execution_count": 5,
     "metadata": {},
     "output_type": "execute_result"
    }
   ],
   "source": [
    "y"
   ]
  },
  {
   "cell_type": "code",
   "execution_count": 6,
   "metadata": {},
   "outputs": [
    {
     "name": "stdout",
     "output_type": "stream",
     "text": [
      "Enter your name: Reuven\n",
      "Hello, Reuven!\n",
      "Enter your name: world\n",
      "Hello, world!\n",
      "Enter your name: out there\n",
      "Hello, out there!\n",
      "Enter your name: \n"
     ]
    }
   ],
   "source": [
    "# PEP added the \"assignment expression\" operator, aka :=  aka \"the walrus\"\n",
    "while name := input('Enter your name: ').strip():\n",
    "            \n",
    "    print(f'Hello, {name}!')"
   ]
  },
  {
   "cell_type": "code",
   "execution_count": 7,
   "metadata": {},
   "outputs": [
    {
     "ename": "SyntaxError",
     "evalue": "invalid syntax (<ipython-input-7-69ba7c1e12cd>, line 1)",
     "output_type": "error",
     "traceback": [
      "\u001b[0;36m  File \u001b[0;32m\"<ipython-input-7-69ba7c1e12cd>\"\u001b[0;36m, line \u001b[0;32m1\u001b[0m\n\u001b[0;31m    x := 5\u001b[0m\n\u001b[0m          ^\u001b[0m\n\u001b[0;31mSyntaxError\u001b[0m\u001b[0;31m:\u001b[0m invalid syntax\n"
     ]
    }
   ],
   "source": [
    "x := 5"
   ]
  },
  {
   "cell_type": "code",
   "execution_count": 8,
   "metadata": {},
   "outputs": [
    {
     "data": {
      "text/plain": [
       "{'a': 0, 'b': 1, 'c': 2, 'd': 3}"
      ]
     },
     "execution_count": 8,
     "metadata": {},
     "output_type": "execute_result"
    }
   ],
   "source": [
    "# create a dict with a dict comprehension\n",
    "\n",
    "{ key : value \n",
    " for value, key in enumerate('abcd')}"
   ]
  },
  {
   "cell_type": "code",
   "execution_count": 9,
   "metadata": {},
   "outputs": [
    {
     "name": "stdout",
     "output_type": "stream",
     "text": [
      "##\r\n",
      "# User Database\r\n",
      "# \r\n",
      "# Note that this file is consulted directly only when the system is running\r\n",
      "# in single-user mode.  At other times this information is provided by\r\n",
      "# Open Directory.\r\n",
      "#\r\n",
      "# See the opendirectoryd(8) man page for additional information about\r\n",
      "# Open Directory.\r\n",
      "##\r\n",
      "nobody:*:-2:-2:Unprivileged User:/var/empty:/usr/bin/false\r\n",
      "root:*:0:0:System Administrator:/var/root:/bin/sh\r\n",
      "daemon:*:1:1:System Services:/var/root:/usr/bin/false\r\n",
      "_uucp:*:4:4:Unix to Unix Copy Protocol:/var/spool/uucp:/usr/sbin/uucico\r\n",
      "_taskgated:*:13:13:Task Gate Daemon:/var/empty:/usr/bin/false\r\n",
      "_networkd:*:24:24:Network Services:/var/networkd:/usr/bin/false\r\n",
      "_installassistant:*:25:25:Install Assistant:/var/empty:/usr/bin/false\r\n",
      "_lp:*:26:26:Printing Services:/var/spool/cups:/usr/bin/false\r\n",
      "_postfix:*:27:27:Postfix Mail Server:/var/spool/postfix:/usr/bin/false\r\n",
      "_scsd:*:31:31:Service Configuration Service:/var/empty:/usr/bin/false\r\n"
     ]
    }
   ],
   "source": [
    "!head  -20 /etc/passwd"
   ]
  },
  {
   "cell_type": "code",
   "execution_count": 10,
   "metadata": {
    "collapsed": true
   },
   "outputs": [
    {
     "data": {
      "text/plain": [
       "{'nobody': '-2',\n",
       " 'root': '0',\n",
       " 'daemon': '1',\n",
       " '_uucp': '4',\n",
       " '_taskgated': '13',\n",
       " '_networkd': '24',\n",
       " '_installassistant': '25',\n",
       " '_lp': '26',\n",
       " '_postfix': '27',\n",
       " '_scsd': '31',\n",
       " '_ces': '32',\n",
       " '_appstore': '33',\n",
       " '_mcxalr': '54',\n",
       " '_appleevents': '55',\n",
       " '_geod': '56',\n",
       " '_devdocs': '59',\n",
       " '_sandbox': '60',\n",
       " '_mdnsresponder': '65',\n",
       " '_ard': '67',\n",
       " '_www': '70',\n",
       " '_eppc': '71',\n",
       " '_cvs': '72',\n",
       " '_svn': '73',\n",
       " '_mysql': '74',\n",
       " '_sshd': '75',\n",
       " '_qtss': '76',\n",
       " '_cyrus': '77',\n",
       " '_mailman': '78',\n",
       " '_appserver': '79',\n",
       " '_clamav': '82',\n",
       " '_amavisd': '83',\n",
       " '_jabber': '84',\n",
       " '_appowner': '87',\n",
       " '_windowserver': '88',\n",
       " '_spotlight': '89',\n",
       " '_tokend': '91',\n",
       " '_securityagent': '92',\n",
       " '_calendar': '93',\n",
       " '_teamsserver': '94',\n",
       " '_update_sharing': '95',\n",
       " '_installer': '96',\n",
       " '_atsserver': '97',\n",
       " '_ftp': '98',\n",
       " '_unknown': '99',\n",
       " '_softwareupdate': '200',\n",
       " '_coreaudiod': '202',\n",
       " '_screensaver': '203',\n",
       " '_locationd': '205',\n",
       " '_trustevaluationagent': '208',\n",
       " '_timezone': '210',\n",
       " '_lda': '211',\n",
       " '_cvmsroot': '212',\n",
       " '_usbmuxd': '213',\n",
       " '_dovecot': '214',\n",
       " '_dpaudio': '215',\n",
       " '_postgres': '216',\n",
       " '_krbtgt': '217',\n",
       " '_kadmin_admin': '218',\n",
       " '_kadmin_changepw': '219',\n",
       " '_devicemgr': '220',\n",
       " '_webauthserver': '221',\n",
       " '_netbios': '222',\n",
       " '_warmd': '224',\n",
       " '_dovenull': '227',\n",
       " '_netstatistics': '228',\n",
       " '_avbdeviced': '229',\n",
       " '_krb_krbtgt': '230',\n",
       " '_krb_kadmin': '231',\n",
       " '_krb_changepw': '232',\n",
       " '_krb_kerberos': '233',\n",
       " '_krb_anonymous': '234',\n",
       " '_assetcache': '235',\n",
       " '_coremediaiod': '236',\n",
       " '_launchservicesd': '239',\n",
       " '_iconservices': '240',\n",
       " '_distnote': '241',\n",
       " '_nsurlsessiond': '242',\n",
       " '_displaypolicyd': '244',\n",
       " '_astris': '245',\n",
       " '_krbfast': '246',\n",
       " '_gamecontrollerd': '247',\n",
       " '_mbsetupuser': '248',\n",
       " '_ondemand': '249',\n",
       " '_xserverdocs': '251',\n",
       " '_wwwproxy': '252',\n",
       " '_mobileasset': '253',\n",
       " '_findmydevice': '254',\n",
       " '_datadetectors': '257',\n",
       " '_captiveagent': '258',\n",
       " '_ctkd': '259',\n",
       " '_applepay': '260',\n",
       " '_hidd': '261',\n",
       " '_cmiodalassistants': '262',\n",
       " '_analyticsd': '263',\n",
       " '_fpsd': '265',\n",
       " '_timed': '266',\n",
       " '_nearbyd': '268',\n",
       " '_reportmemoryexception': '269',\n",
       " '_driverkit': '270',\n",
       " '_diskimagesiod': '271',\n",
       " '_logd': '272',\n",
       " '_appinstalld': '273',\n",
       " '_installcoordinationd': '274',\n",
       " '_demod': '275',\n",
       " '_rmd': '277',\n",
       " '_fud': '278',\n",
       " '_knowledgegraphd': '279',\n",
       " '_coreml': '280',\n",
       " '_trustd': '282',\n",
       " '_oahd': '441'}"
      ]
     },
     "execution_count": 10,
     "metadata": {},
     "output_type": "execute_result"
    }
   ],
   "source": [
    "{ one_line.split(':')[0]   : one_line.split(':')[2]\n",
    " for one_line in open('/etc/passwd')\n",
    " if not one_line.startswith(\"#\")}"
   ]
  },
  {
   "cell_type": "code",
   "execution_count": 12,
   "metadata": {},
   "outputs": [
    {
     "data": {
      "text/plain": [
       "{'nobody': '-2',\n",
       " 'root': '0',\n",
       " 'daemon': '1',\n",
       " '_uucp': '4',\n",
       " '_taskgated': '13',\n",
       " '_networkd': '24',\n",
       " '_installassistant': '25',\n",
       " '_lp': '26',\n",
       " '_postfix': '27',\n",
       " '_scsd': '31',\n",
       " '_ces': '32',\n",
       " '_appstore': '33',\n",
       " '_mcxalr': '54',\n",
       " '_appleevents': '55',\n",
       " '_geod': '56',\n",
       " '_devdocs': '59',\n",
       " '_sandbox': '60',\n",
       " '_mdnsresponder': '65',\n",
       " '_ard': '67',\n",
       " '_www': '70',\n",
       " '_eppc': '71',\n",
       " '_cvs': '72',\n",
       " '_svn': '73',\n",
       " '_mysql': '74',\n",
       " '_sshd': '75',\n",
       " '_qtss': '76',\n",
       " '_cyrus': '77',\n",
       " '_mailman': '78',\n",
       " '_appserver': '79',\n",
       " '_clamav': '82',\n",
       " '_amavisd': '83',\n",
       " '_jabber': '84',\n",
       " '_appowner': '87',\n",
       " '_windowserver': '88',\n",
       " '_spotlight': '89',\n",
       " '_tokend': '91',\n",
       " '_securityagent': '92',\n",
       " '_calendar': '93',\n",
       " '_teamsserver': '94',\n",
       " '_update_sharing': '95',\n",
       " '_installer': '96',\n",
       " '_atsserver': '97',\n",
       " '_ftp': '98',\n",
       " '_unknown': '99',\n",
       " '_softwareupdate': '200',\n",
       " '_coreaudiod': '202',\n",
       " '_screensaver': '203',\n",
       " '_locationd': '205',\n",
       " '_trustevaluationagent': '208',\n",
       " '_timezone': '210',\n",
       " '_lda': '211',\n",
       " '_cvmsroot': '212',\n",
       " '_usbmuxd': '213',\n",
       " '_dovecot': '214',\n",
       " '_dpaudio': '215',\n",
       " '_postgres': '216',\n",
       " '_krbtgt': '217',\n",
       " '_kadmin_admin': '218',\n",
       " '_kadmin_changepw': '219',\n",
       " '_devicemgr': '220',\n",
       " '_webauthserver': '221',\n",
       " '_netbios': '222',\n",
       " '_warmd': '224',\n",
       " '_dovenull': '227',\n",
       " '_netstatistics': '228',\n",
       " '_avbdeviced': '229',\n",
       " '_krb_krbtgt': '230',\n",
       " '_krb_kadmin': '231',\n",
       " '_krb_changepw': '232',\n",
       " '_krb_kerberos': '233',\n",
       " '_krb_anonymous': '234',\n",
       " '_assetcache': '235',\n",
       " '_coremediaiod': '236',\n",
       " '_launchservicesd': '239',\n",
       " '_iconservices': '240',\n",
       " '_distnote': '241',\n",
       " '_nsurlsessiond': '242',\n",
       " '_displaypolicyd': '244',\n",
       " '_astris': '245',\n",
       " '_krbfast': '246',\n",
       " '_gamecontrollerd': '247',\n",
       " '_mbsetupuser': '248',\n",
       " '_ondemand': '249',\n",
       " '_xserverdocs': '251',\n",
       " '_wwwproxy': '252',\n",
       " '_mobileasset': '253',\n",
       " '_findmydevice': '254',\n",
       " '_datadetectors': '257',\n",
       " '_captiveagent': '258',\n",
       " '_ctkd': '259',\n",
       " '_applepay': '260',\n",
       " '_hidd': '261',\n",
       " '_cmiodalassistants': '262',\n",
       " '_analyticsd': '263',\n",
       " '_fpsd': '265',\n",
       " '_timed': '266',\n",
       " '_nearbyd': '268',\n",
       " '_reportmemoryexception': '269',\n",
       " '_driverkit': '270',\n",
       " '_diskimagesiod': '271',\n",
       " '_logd': '272',\n",
       " '_appinstalld': '273',\n",
       " '_installcoordinationd': '274',\n",
       " '_demod': '275',\n",
       " '_rmd': '277',\n",
       " '_fud': '278',\n",
       " '_knowledgegraphd': '279',\n",
       " '_coreml': '280',\n",
       " '_trustd': '282',\n",
       " '_oahd': '441'}"
      ]
     },
     "execution_count": 12,
     "metadata": {},
     "output_type": "execute_result"
    }
   ],
   "source": [
    "{ fields[0]   : fields[2]\n",
    " for one_line in open('/etc/passwd')\n",
    " if not one_line.startswith(\"#\")\n",
    " if (fields := one_line.split(':'))}"
   ]
  },
  {
   "cell_type": "code",
   "execution_count": null,
   "metadata": {},
   "outputs": [],
   "source": []
  }
 ],
 "metadata": {
  "kernelspec": {
   "display_name": "Python 3",
   "language": "python",
   "name": "python3"
  },
  "language_info": {
   "codemirror_mode": {
    "name": "ipython",
    "version": 3
   },
   "file_extension": ".py",
   "mimetype": "text/x-python",
   "name": "python",
   "nbconvert_exporter": "python",
   "pygments_lexer": "ipython3",
   "version": "3.9.6"
  }
 },
 "nbformat": 4,
 "nbformat_minor": 4
}
