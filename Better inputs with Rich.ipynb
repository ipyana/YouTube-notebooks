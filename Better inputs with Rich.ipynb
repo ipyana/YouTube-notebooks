{
 "cells": [
  {
   "cell_type": "code",
   "execution_count": 2,
   "id": "0e0d0503",
   "metadata": {},
   "outputs": [
    {
     "name": "stdout",
     "output_type": "stream",
     "text": [
      "Enter your name: Reuven\n",
      "Hello, Reuven!\n"
     ]
    }
   ],
   "source": [
    "name = input('Enter your name: ')\n",
    "print(f'Hello, {name}!')"
   ]
  },
  {
   "cell_type": "code",
   "execution_count": 3,
   "id": "fd26e991",
   "metadata": {},
   "outputs": [
    {
     "name": "stdout",
     "output_type": "stream",
     "text": [
      "Enter your name:         Reuven        \n",
      "Hello,         Reuven        !\n"
     ]
    }
   ],
   "source": [
    "name = input('Enter your name: ')\n",
    "print(f'Hello, {name}!')"
   ]
  },
  {
   "cell_type": "code",
   "execution_count": 4,
   "id": "0200d7f1",
   "metadata": {},
   "outputs": [
    {
     "data": {
      "text/plain": [
       "'        Reuven        '"
      ]
     },
     "execution_count": 4,
     "metadata": {},
     "output_type": "execute_result"
    }
   ],
   "source": [
    "name"
   ]
  },
  {
   "cell_type": "code",
   "execution_count": 5,
   "id": "835479b7",
   "metadata": {},
   "outputs": [
    {
     "name": "stdout",
     "output_type": "stream",
     "text": [
      "Enter your name:         Reuven         \n",
      "Hello, Reuven!\n"
     ]
    }
   ],
   "source": [
    "name = input('Enter your name: ').strip()\n",
    "print(f'Hello, {name}!')"
   ]
  },
  {
   "cell_type": "code",
   "execution_count": 6,
   "id": "b2a44fb7",
   "metadata": {},
   "outputs": [
    {
     "data": {
      "text/plain": [
       "'Reuven'"
      ]
     },
     "execution_count": 6,
     "metadata": {},
     "output_type": "execute_result"
    }
   ],
   "source": [
    "name"
   ]
  },
  {
   "cell_type": "code",
   "execution_count": 8,
   "id": "edfc1bb8",
   "metadata": {},
   "outputs": [
    {
     "data": {
      "text/html": [
       "<pre style=\"white-space:pre;overflow-x:auto;line-height:normal;font-family:Menlo,'DejaVu Sans Mono',consolas,'Courier New',monospace\">Enter your name: </pre>\n"
      ],
      "text/plain": [
       "Enter your name: "
      ]
     },
     "metadata": {},
     "output_type": "display_data"
    },
    {
     "name": "stdout",
     "output_type": "stream",
     "text": [
      "       Reuven       \n",
      "Hello, Reuven!\n"
     ]
    }
   ],
   "source": [
    "from rich.prompt import Prompt\n",
    "\n",
    "name = Prompt.ask('Enter your name')\n",
    "print(f'Hello, {name}!')"
   ]
  },
  {
   "cell_type": "code",
   "execution_count": 9,
   "id": "8db4c104",
   "metadata": {},
   "outputs": [
    {
     "data": {
      "text/html": [
       "<pre style=\"white-space:pre;overflow-x:auto;line-height:normal;font-family:Menlo,'DejaVu Sans Mono',consolas,'Courier New',monospace\">Enter your name <span style=\"color: #008080; text-decoration-color: #008080; font-weight: bold\">(&lt;no name&gt;)</span>: </pre>\n"
      ],
      "text/plain": [
       "Enter your name \u001b[1;36m(<no name>)\u001b[0m: "
      ]
     },
     "metadata": {},
     "output_type": "display_data"
    },
    {
     "name": "stdout",
     "output_type": "stream",
     "text": [
      "\n",
      "Hello, <no name>!\n"
     ]
    }
   ],
   "source": [
    "name = Prompt.ask('Enter your name', default='<no name>')\n",
    "print(f'Hello, {name}!')"
   ]
  },
  {
   "cell_type": "code",
   "execution_count": 10,
   "id": "8ebcc1c2",
   "metadata": {},
   "outputs": [
    {
     "data": {
      "text/html": [
       "<pre style=\"white-space:pre;overflow-x:auto;line-height:normal;font-family:Menlo,'DejaVu Sans Mono',consolas,'Courier New',monospace\">Who is your favorite Beatle? <span style=\"color: #800080; text-decoration-color: #800080; font-weight: bold\">[John/Paul/George/Ringo]</span>: </pre>\n"
      ],
      "text/plain": [
       "Who is your favorite Beatle? \u001b[1;35m[John/Paul/George/Ringo]\u001b[0m: "
      ]
     },
     "metadata": {},
     "output_type": "display_data"
    },
    {
     "name": "stdout",
     "output_type": "stream",
     "text": [
      "Reuven\n"
     ]
    },
    {
     "data": {
      "text/html": [
       "<pre style=\"white-space:pre;overflow-x:auto;line-height:normal;font-family:Menlo,'DejaVu Sans Mono',consolas,'Courier New',monospace\"><span style=\"color: #800000; text-decoration-color: #800000\">Please select one of the available options</span>\n",
       "</pre>\n"
      ],
      "text/plain": [
       "\u001b[31mPlease select one of the available options\u001b[0m\n"
      ]
     },
     "metadata": {},
     "output_type": "display_data"
    },
    {
     "data": {
      "text/html": [
       "<pre style=\"white-space:pre;overflow-x:auto;line-height:normal;font-family:Menlo,'DejaVu Sans Mono',consolas,'Courier New',monospace\">Who is your favorite Beatle? <span style=\"color: #800080; text-decoration-color: #800080; font-weight: bold\">[John/Paul/George/Ringo]</span>: </pre>\n"
      ],
      "text/plain": [
       "Who is your favorite Beatle? \u001b[1;35m[John/Paul/George/Ringo]\u001b[0m: "
      ]
     },
     "metadata": {},
     "output_type": "display_data"
    },
    {
     "name": "stdout",
     "output_type": "stream",
     "text": [
      "George\n",
      "I like George, too!\n"
     ]
    }
   ],
   "source": [
    "name = Prompt.ask('Who is your favorite Beatle?',\n",
    "                 choices=['John', 'Paul', 'George', 'Ringo'])\n",
    "print(f'I like {name}, too!')"
   ]
  },
  {
   "cell_type": "code",
   "execution_count": null,
   "id": "e95497de",
   "metadata": {},
   "outputs": [],
   "source": []
  }
 ],
 "metadata": {
  "kernelspec": {
   "display_name": "Python 3 (ipykernel)",
   "language": "python",
   "name": "python3"
  },
  "language_info": {
   "codemirror_mode": {
    "name": "ipython",
    "version": 3
   },
   "file_extension": ".py",
   "mimetype": "text/x-python",
   "name": "python",
   "nbconvert_exporter": "python",
   "pygments_lexer": "ipython3",
   "version": "3.10.8"
  }
 },
 "nbformat": 4,
 "nbformat_minor": 5
}
