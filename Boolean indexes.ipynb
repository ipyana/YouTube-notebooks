{
 "cells": [
  {
   "cell_type": "code",
   "execution_count": 1,
   "id": "b63dfdba-e564-41ff-b87e-598a2af644a1",
   "metadata": {},
   "outputs": [],
   "source": [
    "import numpy as np\n",
    "import pandas as pd\n",
    "from pandas import Series, DataFrame"
   ]
  },
  {
   "cell_type": "code",
   "execution_count": 2,
   "id": "0a5fe1c1-80a1-4a2d-8d67-4b8ac61ce6c4",
   "metadata": {},
   "outputs": [],
   "source": [
    "# create a simple series\n",
    "s = Series([10, 20, 30, 40, 50])"
   ]
  },
  {
   "cell_type": "code",
   "execution_count": 3,
   "id": "5b2a655a-6fba-4da7-8869-6216ea3bfdf2",
   "metadata": {},
   "outputs": [
    {
     "data": {
      "text/plain": [
       "30"
      ]
     },
     "execution_count": 3,
     "metadata": {},
     "output_type": "execute_result"
    }
   ],
   "source": [
    "s.loc[2]"
   ]
  },
  {
   "cell_type": "code",
   "execution_count": 4,
   "id": "8f2f0522-4766-4276-9249-a562575cccc5",
   "metadata": {},
   "outputs": [
    {
     "data": {
      "text/plain": [
       "50"
      ]
     },
     "execution_count": 4,
     "metadata": {},
     "output_type": "execute_result"
    }
   ],
   "source": [
    "s.loc[4]"
   ]
  },
  {
   "cell_type": "code",
   "execution_count": 5,
   "id": "5ed7792f-4dfd-4994-a505-f913e6fb7c15",
   "metadata": {},
   "outputs": [
    {
     "data": {
      "text/plain": [
       "2    30\n",
       "4    50\n",
       "dtype: int64"
      ]
     },
     "execution_count": 5,
     "metadata": {},
     "output_type": "execute_result"
    }
   ],
   "source": [
    "s.loc[[2, 4]]    # passing a list of integers to []"
   ]
  },
  {
   "cell_type": "code",
   "execution_count": 6,
   "id": "eaa6b82e-dbb0-4ca8-a1a3-fd3001775823",
   "metadata": {},
   "outputs": [
    {
     "data": {
      "text/plain": [
       "0    10\n",
       "2    30\n",
       "4    50\n",
       "dtype: int64"
      ]
     },
     "execution_count": 6,
     "metadata": {},
     "output_type": "execute_result"
    }
   ],
   "source": [
    "# what happens if I pass a list of boolean values (True/False)?\n",
    "s.loc[[True, False, True, False, True]]"
   ]
  },
  {
   "cell_type": "code",
   "execution_count": 7,
   "id": "fc149f8e-0d53-4ffc-89bc-b2bb4f5c3c7c",
   "metadata": {},
   "outputs": [],
   "source": [
    "# this is known as a boolean series in an index, or a boolean index\n",
    "# also known as a mask index -- wherever the booleans are True, we get the original value back"
   ]
  },
  {
   "cell_type": "code",
   "execution_count": 8,
   "id": "d864c702-c133-4fd7-b428-84cb1ccbc863",
   "metadata": {},
   "outputs": [
    {
     "data": {
      "text/plain": [
       "0    15\n",
       "1    25\n",
       "2    35\n",
       "3    45\n",
       "4    55\n",
       "dtype: int64"
      ]
     },
     "execution_count": 8,
     "metadata": {},
     "output_type": "execute_result"
    }
   ],
   "source": [
    "# broadcasting\n",
    "s + 5"
   ]
  },
  {
   "cell_type": "code",
   "execution_count": 9,
   "id": "61a419a8-1c71-4287-86d9-b17e7574bd6c",
   "metadata": {},
   "outputs": [
    {
     "data": {
      "text/plain": [
       "0    False\n",
       "1    False\n",
       "2     True\n",
       "3    False\n",
       "4    False\n",
       "dtype: bool"
      ]
     },
     "execution_count": 9,
     "metadata": {},
     "output_type": "execute_result"
    }
   ],
   "source": [
    "# what if I use an equality operator instead of +?  It'll still broadcast, giving us booleans\n",
    "\n",
    "s == 30"
   ]
  },
  {
   "cell_type": "code",
   "execution_count": 10,
   "id": "52a353f7-8607-41a8-881e-0948cf5def97",
   "metadata": {},
   "outputs": [
    {
     "data": {
      "text/plain": [
       "2    30\n",
       "dtype: int64"
      ]
     },
     "execution_count": 10,
     "metadata": {},
     "output_type": "execute_result"
    }
   ],
   "source": [
    "# what if I now apply this boolean series to .loc on s?\n",
    "s.loc[[False, False, True, False, False]]"
   ]
  },
  {
   "cell_type": "code",
   "execution_count": 11,
   "id": "85eaf536-5e00-4c00-ac65-22c320897ad0",
   "metadata": {},
   "outputs": [
    {
     "data": {
      "text/plain": [
       "2    30\n",
       "dtype: int64"
      ]
     },
     "execution_count": 11,
     "metadata": {},
     "output_type": "execute_result"
    }
   ],
   "source": [
    "s.loc[ s==30 ]"
   ]
  },
  {
   "cell_type": "code",
   "execution_count": 12,
   "id": "080b10ec-91e1-4ab2-979d-2af0317ae2a3",
   "metadata": {},
   "outputs": [
    {
     "data": {
      "text/plain": [
       "0    10\n",
       "1    20\n",
       "dtype: int64"
      ]
     },
     "execution_count": 12,
     "metadata": {},
     "output_type": "execute_result"
    }
   ],
   "source": [
    "# we can use any comparison operator we want!\n",
    "s.loc[ s<30 ]"
   ]
  },
  {
   "cell_type": "code",
   "execution_count": 13,
   "id": "d3d8b7a3-c94c-4a18-b9da-a17edb7e9f45",
   "metadata": {},
   "outputs": [
    {
     "data": {
      "text/plain": [
       "0    10\n",
       "4    50\n",
       "dtype: int64"
      ]
     },
     "execution_count": 13,
     "metadata": {},
     "output_type": "execute_result"
    }
   ],
   "source": [
    "s.loc[ (s<20) | (s>40) ]"
   ]
  },
  {
   "cell_type": "code",
   "execution_count": 14,
   "id": "d5b690b9-35b3-4ef0-aafc-65ea6eabfb10",
   "metadata": {},
   "outputs": [
    {
     "data": {
      "text/html": [
       "<div>\n",
       "<style scoped>\n",
       "    .dataframe tbody tr th:only-of-type {\n",
       "        vertical-align: middle;\n",
       "    }\n",
       "\n",
       "    .dataframe tbody tr th {\n",
       "        vertical-align: top;\n",
       "    }\n",
       "\n",
       "    .dataframe thead th {\n",
       "        text-align: right;\n",
       "    }\n",
       "</style>\n",
       "<table border=\"1\" class=\"dataframe\">\n",
       "  <thead>\n",
       "    <tr style=\"text-align: right;\">\n",
       "      <th></th>\n",
       "      <th>w</th>\n",
       "      <th>x</th>\n",
       "      <th>y</th>\n",
       "      <th>z</th>\n",
       "    </tr>\n",
       "  </thead>\n",
       "  <tbody>\n",
       "    <tr>\n",
       "      <th>a</th>\n",
       "      <td>568</td>\n",
       "      <td>903</td>\n",
       "      <td>130</td>\n",
       "      <td>7</td>\n",
       "    </tr>\n",
       "    <tr>\n",
       "      <th>b</th>\n",
       "      <td>805</td>\n",
       "      <td>169</td>\n",
       "      <td>643</td>\n",
       "      <td>299</td>\n",
       "    </tr>\n",
       "    <tr>\n",
       "      <th>c</th>\n",
       "      <td>887</td>\n",
       "      <td>798</td>\n",
       "      <td>306</td>\n",
       "      <td>465</td>\n",
       "    </tr>\n",
       "    <tr>\n",
       "      <th>d</th>\n",
       "      <td>973</td>\n",
       "      <td>930</td>\n",
       "      <td>609</td>\n",
       "      <td>191</td>\n",
       "    </tr>\n",
       "  </tbody>\n",
       "</table>\n",
       "</div>"
      ],
      "text/plain": [
       "     w    x    y    z\n",
       "a  568  903  130    7\n",
       "b  805  169  643  299\n",
       "c  887  798  306  465\n",
       "d  973  930  609  191"
      ]
     },
     "execution_count": 14,
     "metadata": {},
     "output_type": "execute_result"
    }
   ],
   "source": [
    "df = DataFrame(np.random.randint(0, 1000, [4,4]),\n",
    "               index=list('abcd'),\n",
    "               columns=list('wxyz'))\n",
    "df"
   ]
  },
  {
   "cell_type": "code",
   "execution_count": 15,
   "id": "078f3a41-8365-4faa-ad5a-052cf1693ad8",
   "metadata": {},
   "outputs": [
    {
     "data": {
      "text/plain": [
       "a     True\n",
       "b    False\n",
       "c     True\n",
       "d    False\n",
       "Name: y, dtype: bool"
      ]
     },
     "execution_count": 15,
     "metadata": {},
     "output_type": "execute_result"
    }
   ],
   "source": [
    "# find all of the even values in column y\n",
    "df['y'] % 2 == 0"
   ]
  },
  {
   "cell_type": "code",
   "execution_count": 16,
   "id": "e9cbaf6d-cbcd-48fb-bb81-4ae4972db702",
   "metadata": {},
   "outputs": [
    {
     "data": {
      "text/plain": [
       "a    130\n",
       "c    306\n",
       "Name: y, dtype: int64"
      ]
     },
     "execution_count": 16,
     "metadata": {},
     "output_type": "execute_result"
    }
   ],
   "source": [
    "df['y'][df['y'] % 2 == 0]"
   ]
  },
  {
   "cell_type": "code",
   "execution_count": 18,
   "id": "8fd0ed40-797a-438c-ab2c-b14268a74510",
   "metadata": {},
   "outputs": [
    {
     "data": {
      "text/html": [
       "<div>\n",
       "<style scoped>\n",
       "    .dataframe tbody tr th:only-of-type {\n",
       "        vertical-align: middle;\n",
       "    }\n",
       "\n",
       "    .dataframe tbody tr th {\n",
       "        vertical-align: top;\n",
       "    }\n",
       "\n",
       "    .dataframe thead th {\n",
       "        text-align: right;\n",
       "    }\n",
       "</style>\n",
       "<table border=\"1\" class=\"dataframe\">\n",
       "  <thead>\n",
       "    <tr style=\"text-align: right;\">\n",
       "      <th></th>\n",
       "      <th>w</th>\n",
       "      <th>x</th>\n",
       "      <th>y</th>\n",
       "      <th>z</th>\n",
       "    </tr>\n",
       "  </thead>\n",
       "  <tbody>\n",
       "    <tr>\n",
       "      <th>a</th>\n",
       "      <td>568</td>\n",
       "      <td>903</td>\n",
       "      <td>130</td>\n",
       "      <td>7</td>\n",
       "    </tr>\n",
       "    <tr>\n",
       "      <th>c</th>\n",
       "      <td>887</td>\n",
       "      <td>798</td>\n",
       "      <td>306</td>\n",
       "      <td>465</td>\n",
       "    </tr>\n",
       "  </tbody>\n",
       "</table>\n",
       "</div>"
      ],
      "text/plain": [
       "     w    x    y    z\n",
       "a  568  903  130    7\n",
       "c  887  798  306  465"
      ]
     },
     "execution_count": 18,
     "metadata": {},
     "output_type": "execute_result"
    }
   ],
   "source": [
    "# much better to use .loc!\n",
    "# wherever y was even, show us the entire column!\n",
    "df.loc[ df['y'] % 2 == 0 ]"
   ]
  },
  {
   "cell_type": "code",
   "execution_count": 19,
   "id": "a1d43095-6a0f-4737-8c1c-d65d49f91a41",
   "metadata": {},
   "outputs": [
    {
     "data": {
      "text/plain": [
       "a    130\n",
       "c    306\n",
       "Name: y, dtype: int64"
      ]
     },
     "execution_count": 19,
     "metadata": {},
     "output_type": "execute_result"
    }
   ],
   "source": [
    "# show me elements of column y\n",
    "# where y is even\n",
    "\n",
    "df.loc[ \n",
    "    df['y'] % 2 == 0   # row selector\n",
    "    ,\n",
    "    'y' # column selector\n",
    "]"
   ]
  },
  {
   "cell_type": "code",
   "execution_count": 20,
   "id": "c792f2ad-b104-4a2a-819f-91b5ef255e56",
   "metadata": {},
   "outputs": [
    {
     "data": {
      "text/html": [
       "<div>\n",
       "<style scoped>\n",
       "    .dataframe tbody tr th:only-of-type {\n",
       "        vertical-align: middle;\n",
       "    }\n",
       "\n",
       "    .dataframe tbody tr th {\n",
       "        vertical-align: top;\n",
       "    }\n",
       "\n",
       "    .dataframe thead th {\n",
       "        text-align: right;\n",
       "    }\n",
       "</style>\n",
       "<table border=\"1\" class=\"dataframe\">\n",
       "  <thead>\n",
       "    <tr style=\"text-align: right;\">\n",
       "      <th></th>\n",
       "      <th>x</th>\n",
       "      <th>y</th>\n",
       "    </tr>\n",
       "  </thead>\n",
       "  <tbody>\n",
       "    <tr>\n",
       "      <th>a</th>\n",
       "      <td>903</td>\n",
       "      <td>130</td>\n",
       "    </tr>\n",
       "    <tr>\n",
       "      <th>c</th>\n",
       "      <td>798</td>\n",
       "      <td>306</td>\n",
       "    </tr>\n",
       "  </tbody>\n",
       "</table>\n",
       "</div>"
      ],
      "text/plain": [
       "     x    y\n",
       "a  903  130\n",
       "c  798  306"
      ]
     },
     "execution_count": 20,
     "metadata": {},
     "output_type": "execute_result"
    }
   ],
   "source": [
    "# show me elements of columns x and y\n",
    "# where y is even\n",
    "\n",
    "df.loc[ \n",
    "    df['y'] % 2 == 0   # row selector\n",
    "    ,\n",
    "    ['x', 'y'] # column selector\n",
    "]"
   ]
  },
  {
   "cell_type": "code",
   "execution_count": null,
   "id": "486ade02-6ab0-4cf0-bf72-c98d0616fbde",
   "metadata": {},
   "outputs": [],
   "source": []
  }
 ],
 "metadata": {
  "kernelspec": {
   "display_name": "Python 3 (ipykernel)",
   "language": "python",
   "name": "python3"
  },
  "language_info": {
   "codemirror_mode": {
    "name": "ipython",
    "version": 3
   },
   "file_extension": ".py",
   "mimetype": "text/x-python",
   "name": "python",
   "nbconvert_exporter": "python",
   "pygments_lexer": "ipython3",
   "version": "3.11.4"
  }
 },
 "nbformat": 4,
 "nbformat_minor": 5
}
