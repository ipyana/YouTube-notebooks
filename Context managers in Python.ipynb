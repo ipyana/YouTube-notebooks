{
 "cells": [
  {
   "cell_type": "code",
   "execution_count": 1,
   "id": "4bdf829e-1047-4c3b-a89c-8c37226dba0b",
   "metadata": {},
   "outputs": [
    {
     "data": {
      "text/plain": [
       "7"
      ]
     },
     "execution_count": 1,
     "metadata": {},
     "output_type": "execute_result"
    }
   ],
   "source": [
    "# I want to write to a file\n",
    "# I can use the \"open\" to open a  file for writing (with the 'w' option)\n",
    "\n",
    "f = open('myfile.txt', 'w')\n",
    "f.write('abcde\\n')\n",
    "f.write('fghij\\n')\n",
    "f.write('klmnop\\n')"
   ]
  },
  {
   "cell_type": "code",
   "execution_count": 2,
   "id": "7f5091c9-b5c2-43d0-aea4-e6da2e8b800d",
   "metadata": {},
   "outputs": [],
   "source": [
    "# Use the Unix \"cat\" command to view the file\n",
    "!cat myfile.txt"
   ]
  },
  {
   "cell_type": "code",
   "execution_count": 3,
   "id": "462a301b-2676-4747-8035-ef2f71f70bce",
   "metadata": {},
   "outputs": [],
   "source": [
    "# how can we flush the buffer? \n",
    "f.flush()   # empties the buffer to disk, even if it isn't full\n"
   ]
  },
  {
   "cell_type": "code",
   "execution_count": 4,
   "id": "a3ba8ec0-c0a4-45c4-8ab0-2c3b68a177a8",
   "metadata": {},
   "outputs": [
    {
     "name": "stdout",
     "output_type": "stream",
     "text": [
      "abcde\n",
      "fghij\n",
      "klmnop\n"
     ]
    }
   ],
   "source": [
    "!cat myfile.txt"
   ]
  },
  {
   "cell_type": "code",
   "execution_count": 5,
   "id": "363ca811-2353-4ffc-b8df-3d6773a7c80c",
   "metadata": {},
   "outputs": [],
   "source": [
    "f.write('qrstuv\\n')\n",
    "f.write('wxyz\\n')\n",
    "\n",
    "f.close()   # this closes the file, but it first flushes the buffer"
   ]
  },
  {
   "cell_type": "code",
   "execution_count": 6,
   "id": "dba6f793-1c88-434c-bbeb-5f0a39b4a022",
   "metadata": {},
   "outputs": [
    {
     "name": "stdout",
     "output_type": "stream",
     "text": [
      "abcde\n",
      "fghij\n",
      "klmnop\n",
      "qrstuv\n",
      "wxyz\n"
     ]
    }
   ],
   "source": [
    "!cat myfile.txt"
   ]
  },
  {
   "cell_type": "code",
   "execution_count": 8,
   "id": "4925206d-6016-4aab-a4b1-1dd8adee7aae",
   "metadata": {},
   "outputs": [],
   "source": [
    "# there is a better, more idiomatic way to do this\n",
    "\n",
    "# the \"with\" statement uses the \"context manager protocol\"\n",
    "\n",
    "with open('myfile.txt', 'w') as f:\n",
    "    f.write('*abcde\\n')\n",
    "    f.write('*fghij\\n')\n",
    "    f.write('*klmnop\\n')"
   ]
  },
  {
   "cell_type": "code",
   "execution_count": 9,
   "id": "416384dc-bd55-4977-b281-a302688368ac",
   "metadata": {},
   "outputs": [
    {
     "name": "stdout",
     "output_type": "stream",
     "text": [
      "*abcde\n",
      "*fghij\n",
      "*klmnop\n"
     ]
    }
   ],
   "source": [
    "!cat myfile.txt"
   ]
  },
  {
   "cell_type": "code",
   "execution_count": 10,
   "id": "1f63fb51-dac8-4bb4-abd9-255925ef5292",
   "metadata": {},
   "outputs": [
    {
     "data": {
      "text/plain": [
       "True"
      ]
     },
     "execution_count": 10,
     "metadata": {},
     "output_type": "execute_result"
    }
   ],
   "source": [
    "f.closed"
   ]
  },
  {
   "cell_type": "code",
   "execution_count": 11,
   "id": "343f15e6-b7ad-41d4-ab2d-25c80502cefd",
   "metadata": {},
   "outputs": [],
   "source": [
    "# by using with, we:\n",
    "# - didn't have to flush or close\n",
    "# - the file was closed at the end of the block\n",
    "# - it was flushed before closing\n"
   ]
  },
  {
   "cell_type": "code",
   "execution_count": 13,
   "id": "a9165f0c-6fd1-4719-a651-477c873978df",
   "metadata": {},
   "outputs": [],
   "source": [
    "# what's really happening when we use \"with\":\n",
    "# - when we enter the block, the __enter__ method is invoked on the object (f)\n",
    "# - when we exit the block, the __exit__ method is invoked on the object\n",
    "\n",
    "with open('myfile.txt', 'w') as f:\n",
    "    # f.__enter__()\n",
    "    f.write('*abcde\\n')\n",
    "    f.write('*fghij\\n')\n",
    "    f.write('*klmnop\\n')\n",
    "    # f.__exit__()\n",
    "\n",
    "# any object that implements __enter__ and __exit__ with the appropriate signatures works in this way"
   ]
  },
  {
   "cell_type": "markdown",
   "id": "8d3e1ee9-1393-4770-9b49-c8b33c4eec6f",
   "metadata": {},
   "source": [
    "What would you use the context manager protocol for?\n",
    "\n",
    "- Setup at the start of an object's life\n",
    "- Cleanup at the end of an object's life\n",
    "- Logging of a certain region of code\n",
    "- Benchmarking of a certain region of code"
   ]
  },
  {
   "cell_type": "code",
   "execution_count": 14,
   "id": "cfa35898-ae0f-42e6-855c-ab3f59d3ca9d",
   "metadata": {},
   "outputs": [],
   "source": [
    "# we can add such functionality to our own classes by:\n",
    "# - implementing __enter__ -- whatever it returns is assigned to the variable\n",
    "# - implementing __exit__ -- it can trap exceptions, if we want, but is usually used for cleanup"
   ]
  },
  {
   "cell_type": "code",
   "execution_count": 16,
   "id": "3ef9375b-9059-47b7-b2d4-d429b72501b5",
   "metadata": {},
   "outputs": [
    {
     "name": "stdout",
     "output_type": "stream",
     "text": [
      "In MyCM.__init__, x=5\n"
     ]
    }
   ],
   "source": [
    "class MyCM:\n",
    "    def __init__(self, x):\n",
    "        print(f'In MyCM.__init__, {x=}')\n",
    "        self.x = x\n",
    "\n",
    "    def __enter__(self):\n",
    "        print(f'In MyCM.__enter__, {self.x=}')\n",
    "        return self   # whatever we return will be assigned to the object\n",
    "\n",
    "    def __exit__(self, exc_type, exc_value, traceback):\n",
    "        print(f'In MyCM.__exit__, {self.x=}')\n",
    "        print(f'\\t{exc_type=}')\n",
    "        print(f'\\t{exc_value=}')\n",
    "        print(f'\\t{traceback=}')\n",
    "\n",
    "m = MyCM(5)\n",
    "        \n",
    "        "
   ]
  },
  {
   "cell_type": "code",
   "execution_count": 17,
   "id": "8567e233-dfb7-4887-ae09-c7972d743306",
   "metadata": {},
   "outputs": [
    {
     "data": {
      "text/plain": [
       "5"
      ]
     },
     "execution_count": 17,
     "metadata": {},
     "output_type": "execute_result"
    }
   ],
   "source": [
    "m.x"
   ]
  },
  {
   "cell_type": "code",
   "execution_count": 18,
   "id": "3e73ffcb-b05b-4dbb-bd44-894e5057def4",
   "metadata": {},
   "outputs": [
    {
     "name": "stdout",
     "output_type": "stream",
     "text": [
      "In MyCM.__init__, x=6\n",
      "In MyCM.__enter__, self.x=6\n",
      "Hello from the block!\n",
      "In MyCM.__exit__, self.x=6\n",
      "\texc_type=None\n",
      "\texc_value=None\n",
      "\ttraceback=None\n"
     ]
    }
   ],
   "source": [
    "with MyCM(6) as m:\n",
    "    print('Hello from the block!')"
   ]
  },
  {
   "cell_type": "code",
   "execution_count": 19,
   "id": "63c467d3-05c1-46da-b4f1-275df4cb9769",
   "metadata": {},
   "outputs": [
    {
     "name": "stdout",
     "output_type": "stream",
     "text": [
      "In MyCM.__init__, x=6\n",
      "In MyCM.__enter__, self.x=6\n",
      "In MyCM.__exit__, self.x=6\n",
      "\texc_type=<class 'AttributeError'>\n",
      "\texc_value=AttributeError(\"'int' object has no attribute 'write'\")\n",
      "\ttraceback=<traceback object at 0x10d7ff980>\n"
     ]
    },
    {
     "ename": "AttributeError",
     "evalue": "'int' object has no attribute 'write'",
     "output_type": "error",
     "traceback": [
      "\u001b[1;31m---------------------------------------------------------------------------\u001b[0m",
      "\u001b[1;31mAttributeError\u001b[0m                            Traceback (most recent call last)",
      "Cell \u001b[1;32mIn[19], line 2\u001b[0m\n\u001b[0;32m      1\u001b[0m \u001b[38;5;28;01mwith\u001b[39;00m MyCM(\u001b[38;5;241m6\u001b[39m) \u001b[38;5;28;01mas\u001b[39;00m m:\n\u001b[1;32m----> 2\u001b[0m     \u001b[38;5;28;43mprint\u001b[39;49m\u001b[43m(\u001b[49m\u001b[38;5;124;43m'\u001b[39;49m\u001b[38;5;124;43mHello from the block!\u001b[39;49m\u001b[38;5;124;43m'\u001b[39;49m\u001b[43m,\u001b[49m\u001b[43m \u001b[49m\u001b[43mfile\u001b[49m\u001b[38;5;241;43m=\u001b[39;49m\u001b[38;5;241;43m7\u001b[39;49m\u001b[43m)\u001b[49m\n",
      "\u001b[1;31mAttributeError\u001b[0m: 'int' object has no attribute 'write'"
     ]
    }
   ],
   "source": [
    "with MyCM(6) as m:\n",
    "    print('Hello from the block!', file=7)"
   ]
  },
  {
   "cell_type": "code",
   "execution_count": 20,
   "id": "527fcae4-15f6-49c5-bd88-d39beeb2b238",
   "metadata": {},
   "outputs": [
    {
     "name": "stdout",
     "output_type": "stream",
     "text": [
      "In MyCM.__init__, x=6\n",
      "In MyCM.__enter__, self.x=6\n",
      "In MyCM.__exit__, self.x=6\n",
      "\texc_type=<class 'AttributeError'>\n",
      "\texc_value=AttributeError(\"'int' object has no attribute 'write'\")\n",
      "\ttraceback=<traceback object at 0x10d76af80>\n"
     ]
    }
   ],
   "source": [
    "class MyCM:\n",
    "    def __init__(self, x):\n",
    "        print(f'In MyCM.__init__, {x=}')\n",
    "        self.x = x\n",
    "\n",
    "    def __enter__(self):\n",
    "        print(f'In MyCM.__enter__, {self.x=}')\n",
    "        return self   # whatever we return will be assigned to the object\n",
    "\n",
    "    def __exit__(self, exc_type, exc_value, traceback):\n",
    "        print(f'In MyCM.__exit__, {self.x=}')\n",
    "        print(f'\\t{exc_type=}')\n",
    "        print(f'\\t{exc_value=}')\n",
    "        print(f'\\t{traceback=}')\n",
    "        return True\n",
    "\n",
    "\n",
    "with MyCM(6) as m:\n",
    "    print('Hello from the block!', file=7)        \n",
    "        "
   ]
  },
  {
   "cell_type": "code",
   "execution_count": null,
   "id": "87952392-9f13-4661-a9c3-aa53f6c1ffbf",
   "metadata": {},
   "outputs": [],
   "source": []
  }
 ],
 "metadata": {
  "kernelspec": {
   "display_name": "Python 3 (ipykernel)",
   "language": "python",
   "name": "python3"
  },
  "language_info": {
   "codemirror_mode": {
    "name": "ipython",
    "version": 3
   },
   "file_extension": ".py",
   "mimetype": "text/x-python",
   "name": "python",
   "nbconvert_exporter": "python",
   "pygments_lexer": "ipython3",
   "version": "3.11.6"
  }
 },
 "nbformat": 4,
 "nbformat_minor": 5
}
