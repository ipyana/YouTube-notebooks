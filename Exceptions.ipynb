{
 "cells": [
  {
   "cell_type": "code",
   "execution_count": 1,
   "id": "223cd812",
   "metadata": {},
   "outputs": [
    {
     "ename": "IndexError",
     "evalue": "list index out of range",
     "output_type": "error",
     "traceback": [
      "\u001b[0;31m---------------------------------------------------------------------------\u001b[0m",
      "\u001b[0;31mIndexError\u001b[0m                                Traceback (most recent call last)",
      "\u001b[0;32m/var/folders/rr/0mnyyv811fs5vyp22gf4fxk00000gn/T/ipykernel_66481/4161894583.py\u001b[0m in \u001b[0;36m<module>\u001b[0;34m\u001b[0m\n\u001b[1;32m      3\u001b[0m \u001b[0mmylist\u001b[0m \u001b[0;34m=\u001b[0m \u001b[0;34m[\u001b[0m\u001b[0;36m10\u001b[0m\u001b[0;34m,\u001b[0m \u001b[0;36m20\u001b[0m\u001b[0;34m,\u001b[0m \u001b[0;36m30\u001b[0m\u001b[0;34m]\u001b[0m\u001b[0;34m\u001b[0m\u001b[0;34m\u001b[0m\u001b[0m\n\u001b[1;32m      4\u001b[0m \u001b[0;34m\u001b[0m\u001b[0m\n\u001b[0;32m----> 5\u001b[0;31m \u001b[0mx\u001b[0m \u001b[0;34m=\u001b[0m \u001b[0mmylist\u001b[0m\u001b[0;34m[\u001b[0m\u001b[0;36m999\u001b[0m\u001b[0;34m]\u001b[0m\u001b[0;34m\u001b[0m\u001b[0;34m\u001b[0m\u001b[0m\n\u001b[0m",
      "\u001b[0;31mIndexError\u001b[0m: list index out of range"
     ]
    }
   ],
   "source": [
    "# Exceptions\n",
    "\n",
    "mylist = [10, 20, 30]\n",
    "\n",
    "x = mylist[999]"
   ]
  },
  {
   "cell_type": "code",
   "execution_count": 2,
   "id": "61c63f15",
   "metadata": {},
   "outputs": [
    {
     "name": "stdout",
     "output_type": "stream",
     "text": [
      "Actually, nothing went wrong.  We will ignore it this time.\n"
     ]
    }
   ],
   "source": [
    "mylist = [10, 20, 30]\n",
    "\n",
    "try:  # if there's an exception inside of this block, immediately jump to the \"except\" block\n",
    "    x = mylist[999]\n",
    "    \n",
    "except:  # if there's an exception raised inside of the \"try\" block, execution continues here\n",
    "    print('Actually, nothing went wrong.  We will ignore it this time.')"
   ]
  },
  {
   "cell_type": "code",
   "execution_count": 3,
   "id": "b742d9e9",
   "metadata": {},
   "outputs": [
    {
     "name": "stdout",
     "output_type": "stream",
     "text": [
      "A\n",
      "B\n",
      "D\n",
      "Actually, nothing went wrong.  We will ignore it this time.\n",
      "E\n",
      "F\n"
     ]
    }
   ],
   "source": [
    "mylist = [10, 20, 30]\n",
    "\n",
    "print('A')\n",
    "try:  # if there's an exception inside of this block, immediately jump to the \"except\" block\n",
    "    print('B')\n",
    "    x = mylist[999]\n",
    "    print('C')\n",
    "    \n",
    "except:  # if there's an exception raised inside of the \"try\" block, execution continues here\n",
    "    print('D')\n",
    "    print('Actually, nothing went wrong.  We will ignore it this time.')\n",
    "    print('E')\n",
    "print('F')    "
   ]
  },
  {
   "cell_type": "code",
   "execution_count": 4,
   "id": "2c7ebbd8",
   "metadata": {},
   "outputs": [
    {
     "name": "stdout",
     "output_type": "stream",
     "text": [
      "A\n",
      "B\n",
      "C\n",
      "F\n"
     ]
    }
   ],
   "source": [
    "mylist = [10, 20, 30]\n",
    "\n",
    "print('A')\n",
    "try:  # if there's an exception inside of this block, immediately jump to the \"except\" block\n",
    "    print('B')\n",
    "    x = mylist[1]\n",
    "    print('C')\n",
    "    \n",
    "except:  # if there's an exception raised inside of the \"try\" block, execution continues here\n",
    "    print('D')\n",
    "    print('Actually, nothing went wrong.  We will ignore it this time.')\n",
    "    print('E')\n",
    "print('F')    "
   ]
  },
  {
   "cell_type": "code",
   "execution_count": 5,
   "id": "c53407e0",
   "metadata": {},
   "outputs": [
    {
     "name": "stdout",
     "output_type": "stream",
     "text": [
      "There was an index problem: list index out of range\n",
      "F\n"
     ]
    }
   ],
   "source": [
    "mylist = [10, 20, 30]\n",
    "\n",
    "try:  \n",
    "    x = mylist[999]\n",
    "    \n",
    "except IndexError as e:    # only trap IndexError, and assign that exception object to the variable e\n",
    "    print(f'There was an index problem: {e}')   # when we print e, we get the message that was part of the exception\n",
    "\n",
    "print('F')    "
   ]
  },
  {
   "cell_type": "code",
   "execution_count": 6,
   "id": "71bff428",
   "metadata": {},
   "outputs": [
    {
     "ename": "ZeroDivisionError",
     "evalue": "division by zero",
     "output_type": "error",
     "traceback": [
      "\u001b[0;31m---------------------------------------------------------------------------\u001b[0m",
      "\u001b[0;31mZeroDivisionError\u001b[0m                         Traceback (most recent call last)",
      "\u001b[0;32m/var/folders/rr/0mnyyv811fs5vyp22gf4fxk00000gn/T/ipykernel_66481/584732869.py\u001b[0m in \u001b[0;36m<module>\u001b[0;34m\u001b[0m\n\u001b[1;32m      2\u001b[0m \u001b[0;34m\u001b[0m\u001b[0m\n\u001b[1;32m      3\u001b[0m \u001b[0;32mtry\u001b[0m\u001b[0;34m:\u001b[0m\u001b[0;34m\u001b[0m\u001b[0;34m\u001b[0m\u001b[0m\n\u001b[0;32m----> 4\u001b[0;31m     \u001b[0mx\u001b[0m \u001b[0;34m=\u001b[0m \u001b[0;36m10\u001b[0m \u001b[0;34m/\u001b[0m \u001b[0;36m0\u001b[0m\u001b[0;34m\u001b[0m\u001b[0;34m\u001b[0m\u001b[0m\n\u001b[0m\u001b[1;32m      5\u001b[0m \u001b[0;34m\u001b[0m\u001b[0m\n\u001b[1;32m      6\u001b[0m \u001b[0;32mexcept\u001b[0m \u001b[0mIndexError\u001b[0m \u001b[0;32mas\u001b[0m \u001b[0me\u001b[0m\u001b[0;34m:\u001b[0m    \u001b[0;31m# only trap IndexError, and assign that exception object to the variable e\u001b[0m\u001b[0;34m\u001b[0m\u001b[0;34m\u001b[0m\u001b[0m\n",
      "\u001b[0;31mZeroDivisionError\u001b[0m: division by zero"
     ]
    }
   ],
   "source": [
    "mylist = [10, 20, 30]\n",
    "\n",
    "try:  \n",
    "    x = 10 / 0\n",
    "    \n",
    "except IndexError as e:    # only trap IndexError, and assign that exception object to the variable e\n",
    "    print(f'There was an index problem: {e}')   # when we print e, we get the message that was part of the exception\n",
    "\n",
    "print('F')    "
   ]
  },
  {
   "cell_type": "code",
   "execution_count": 9,
   "id": "348c3456",
   "metadata": {},
   "outputs": [
    {
     "name": "stdout",
     "output_type": "stream",
     "text": [
      "Avoid dividing by zero: division by zero\n",
      "F\n"
     ]
    }
   ],
   "source": [
    "del(x)\n",
    "mylist = [10, 20, 30]\n",
    "\n",
    "try:  \n",
    "    x = 10 / 0\n",
    "    \n",
    "except IndexError as e:    # only trap IndexError, and assign that exception object to the variable e\n",
    "    print(f'There was an index problem: {e}')   # when we print e, we get the message that was part of the exception\n",
    "\n",
    "except ZeroDivisionError as e:\n",
    "    print(f'Avoid dividing by zero: {e}')\n",
    "\n",
    "print('F')    "
   ]
  },
  {
   "cell_type": "code",
   "execution_count": 10,
   "id": "392b667a",
   "metadata": {},
   "outputs": [
    {
     "ename": "NameError",
     "evalue": "name 'x' is not defined",
     "output_type": "error",
     "traceback": [
      "\u001b[0;31m---------------------------------------------------------------------------\u001b[0m",
      "\u001b[0;31mNameError\u001b[0m                                 Traceback (most recent call last)",
      "\u001b[0;32m/var/folders/rr/0mnyyv811fs5vyp22gf4fxk00000gn/T/ipykernel_66481/1353120783.py\u001b[0m in \u001b[0;36m<module>\u001b[0;34m\u001b[0m\n\u001b[0;32m----> 1\u001b[0;31m \u001b[0mprint\u001b[0m\u001b[0;34m(\u001b[0m\u001b[0mx\u001b[0m\u001b[0;34m)\u001b[0m\u001b[0;34m\u001b[0m\u001b[0;34m\u001b[0m\u001b[0m\n\u001b[0m",
      "\u001b[0;31mNameError\u001b[0m: name 'x' is not defined"
     ]
    }
   ],
   "source": [
    "print(x)"
   ]
  },
  {
   "cell_type": "code",
   "execution_count": null,
   "id": "8475f9ac",
   "metadata": {},
   "outputs": [],
   "source": []
  }
 ],
 "metadata": {
  "kernelspec": {
   "display_name": "Python 3 (ipykernel)",
   "language": "python",
   "name": "python3"
  },
  "language_info": {
   "codemirror_mode": {
    "name": "ipython",
    "version": 3
   },
   "file_extension": ".py",
   "mimetype": "text/x-python",
   "name": "python",
   "nbconvert_exporter": "python",
   "pygments_lexer": "ipython3",
   "version": "3.10.8"
  }
 },
 "nbformat": 4,
 "nbformat_minor": 5
}
