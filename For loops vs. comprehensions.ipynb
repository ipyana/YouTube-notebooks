{
 "cells": [
  {
   "cell_type": "markdown",
   "id": "f4c0f986",
   "metadata": {},
   "source": [
    "# For loops vs. comprehensions"
   ]
  },
  {
   "cell_type": "code",
   "execution_count": 1,
   "id": "9ddd3aef",
   "metadata": {},
   "outputs": [
    {
     "data": {
      "text/plain": [
       "[0, 1, 4, 9, 16, 25, 36, 49, 64, 81]"
      ]
     },
     "execution_count": 1,
     "metadata": {},
     "output_type": "execute_result"
    }
   ],
   "source": [
    "numbers = list(range(10))\n",
    "\n",
    "# I want a new list, based on numbers, in which the elements are the same as numbers, but **2\n",
    "\n",
    "# for loop\n",
    "squares = []\n",
    "\n",
    "for one_number in numbers:\n",
    "    squares.append(one_number ** 2)\n",
    "    \n",
    "squares    "
   ]
  },
  {
   "cell_type": "code",
   "execution_count": 2,
   "id": "3078f98d",
   "metadata": {},
   "outputs": [
    {
     "data": {
      "text/plain": [
       "[0, 1, 4, 9, 16, 25, 36, 49, 64, 81]"
      ]
     },
     "execution_count": 2,
     "metadata": {},
     "output_type": "execute_result"
    }
   ],
   "source": [
    "# list comprehension\n",
    "\n",
    "squares = [one_number ** 2\n",
    "          for one_number in numbers]\n",
    "\n",
    "squares"
   ]
  },
  {
   "cell_type": "markdown",
   "id": "e571b10a",
   "metadata": {},
   "source": [
    "# Basic rule for using comprehensions\n",
    "\n",
    "1. I have an iterable (i.e., something that I can run a `for` loop on)\n",
    "2. I want a list as my result\n",
    "3. There is a Python expression that can translate from each element in the original iterable to my output list\n",
    "\n",
    "If all three of these are true, then I'd argue you should use a list comprehension, and *not* a `for` loop."
   ]
  },
  {
   "cell_type": "markdown",
   "id": "0ea9c266",
   "metadata": {},
   "source": [
    "# When should you *not* use comprehensions?\n",
    "\n",
    "1. If you want to execute a statement (i.e., not get an expression's value back).\n",
    "    - Print to the screen\n",
    "    - Write to a file\n",
    "    - Write to a database\n",
    "2. If it's very complex    \n",
    "3. If you have complex conditions"
   ]
  },
  {
   "cell_type": "code",
   "execution_count": 3,
   "id": "348b3569",
   "metadata": {},
   "outputs": [
    {
     "name": "stdout",
     "output_type": "stream",
     "text": [
      "0\n",
      "1\n",
      "4\n",
      "9\n",
      "16\n",
      "25\n",
      "36\n",
      "49\n",
      "64\n",
      "81\n"
     ]
    },
    {
     "data": {
      "text/plain": [
       "[None, None, None, None, None, None, None, None, None, None]"
      ]
     },
     "execution_count": 3,
     "metadata": {},
     "output_type": "execute_result"
    }
   ],
   "source": [
    "# don't print in a comprehension!\n",
    "\n",
    "[print(one_number ** 2)\n",
    " for one_number in numbers]"
   ]
  },
  {
   "cell_type": "code",
   "execution_count": 8,
   "id": "c4880aed",
   "metadata": {},
   "outputs": [
    {
     "data": {
      "text/plain": [
       "['/usr/bin/false',\n",
       " '/bin/sh',\n",
       " '/usr/bin/false',\n",
       " '/usr/sbin/uucico',\n",
       " '/usr/bin/false',\n",
       " '/usr/bin/false',\n",
       " '/usr/bin/false',\n",
       " '/usr/bin/false',\n",
       " '/usr/bin/false',\n",
       " '/usr/bin/false',\n",
       " '/usr/bin/false',\n",
       " '/usr/bin/false',\n",
       " '/usr/bin/false',\n",
       " '/usr/bin/false',\n",
       " '/usr/bin/false',\n",
       " '/usr/bin/false',\n",
       " '/usr/bin/false',\n",
       " '/usr/bin/false',\n",
       " '/usr/bin/false',\n",
       " '/usr/bin/false',\n",
       " '/usr/bin/false',\n",
       " '/usr/bin/false',\n",
       " '/usr/bin/false',\n",
       " '/usr/bin/false',\n",
       " '/usr/bin/false',\n",
       " '/usr/bin/false',\n",
       " '/usr/bin/false',\n",
       " '/usr/bin/false',\n",
       " '/usr/bin/false',\n",
       " '/usr/bin/false',\n",
       " '/usr/bin/false',\n",
       " '/usr/bin/false',\n",
       " '/usr/bin/false',\n",
       " '/usr/bin/false',\n",
       " '/usr/bin/false',\n",
       " '/usr/bin/false',\n",
       " '/usr/bin/false',\n",
       " '/usr/bin/false',\n",
       " '/usr/bin/false',\n",
       " '/usr/bin/false',\n",
       " '/usr/bin/false',\n",
       " '/usr/bin/false',\n",
       " '/usr/bin/false',\n",
       " '/usr/bin/false',\n",
       " '/usr/bin/false',\n",
       " '/usr/bin/false',\n",
       " '/usr/bin/false',\n",
       " '/usr/bin/false',\n",
       " '/usr/bin/false',\n",
       " '/usr/bin/false',\n",
       " '/usr/bin/false',\n",
       " '/usr/bin/false',\n",
       " '/usr/bin/false',\n",
       " '/usr/bin/false',\n",
       " '/usr/bin/false',\n",
       " '/usr/bin/false',\n",
       " '/usr/bin/false',\n",
       " '/usr/bin/false',\n",
       " '/usr/bin/false',\n",
       " '/usr/bin/false',\n",
       " '/usr/bin/false',\n",
       " '/usr/bin/false',\n",
       " '/usr/bin/false',\n",
       " '/usr/bin/false',\n",
       " '/usr/bin/false',\n",
       " '/usr/bin/false',\n",
       " '/usr/bin/false',\n",
       " '/usr/bin/false',\n",
       " '/usr/bin/false',\n",
       " '/usr/bin/false',\n",
       " '/usr/bin/false',\n",
       " '/usr/bin/false',\n",
       " '/usr/bin/false',\n",
       " '/usr/bin/false',\n",
       " '/usr/bin/false',\n",
       " '/usr/bin/false',\n",
       " '/usr/bin/false',\n",
       " '/usr/bin/false',\n",
       " '/usr/bin/false',\n",
       " '/usr/bin/false',\n",
       " '/usr/bin/false',\n",
       " '/bin/bash',\n",
       " '/usr/bin/false',\n",
       " '/usr/bin/false',\n",
       " '/usr/bin/false',\n",
       " '/usr/bin/false',\n",
       " '/usr/bin/false',\n",
       " '/usr/bin/false',\n",
       " '/usr/bin/false',\n",
       " '/usr/bin/false',\n",
       " '/usr/bin/false',\n",
       " '/usr/bin/false',\n",
       " '/usr/bin/false',\n",
       " '/usr/bin/false',\n",
       " '/usr/bin/false',\n",
       " '/usr/bin/false',\n",
       " '/usr/bin/false',\n",
       " '/usr/bin/false',\n",
       " '/usr/bin/false',\n",
       " '/usr/bin/false',\n",
       " '/usr/bin/false',\n",
       " '/usr/bin/false',\n",
       " '/usr/bin/false',\n",
       " '/usr/bin/false',\n",
       " '/usr/bin/false',\n",
       " '/usr/bin/false',\n",
       " '/usr/bin/false',\n",
       " '/usr/bin/false',\n",
       " '/usr/bin/false',\n",
       " '/usr/bin/false',\n",
       " '/usr/bin/false',\n",
       " '/usr/bin/false',\n",
       " '/usr/bin/false']"
      ]
     },
     "execution_count": 8,
     "metadata": {},
     "output_type": "execute_result"
    }
   ],
   "source": [
    "# where you should use a comprehension -- retrieving data from a file\n",
    "\n",
    "[one_line.split(':')[-1].strip()\n",
    " for one_line in open('/etc/passwd')\n",
    " if not one_line.startswith('#')]"
   ]
  },
  {
   "cell_type": "code",
   "execution_count": null,
   "id": "da415763",
   "metadata": {},
   "outputs": [],
   "source": []
  }
 ],
 "metadata": {
  "kernelspec": {
   "display_name": "Python 3 (ipykernel)",
   "language": "python",
   "name": "python3"
  },
  "language_info": {
   "codemirror_mode": {
    "name": "ipython",
    "version": 3
   },
   "file_extension": ".py",
   "mimetype": "text/x-python",
   "name": "python",
   "nbconvert_exporter": "python",
   "pygments_lexer": "ipython3",
   "version": "3.10.6"
  }
 },
 "nbformat": 4,
 "nbformat_minor": 5
}
