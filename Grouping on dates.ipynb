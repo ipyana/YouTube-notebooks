{
 "cells": [
  {
   "cell_type": "code",
   "execution_count": 1,
   "id": "6a9fa679",
   "metadata": {
    "scrolled": true
   },
   "outputs": [
    {
     "data": {
      "text/html": [
       "<div>\n",
       "<style scoped>\n",
       "    .dataframe tbody tr th:only-of-type {\n",
       "        vertical-align: middle;\n",
       "    }\n",
       "\n",
       "    .dataframe tbody tr th {\n",
       "        vertical-align: top;\n",
       "    }\n",
       "\n",
       "    .dataframe thead th {\n",
       "        text-align: right;\n",
       "    }\n",
       "</style>\n",
       "<table border=\"1\" class=\"dataframe\">\n",
       "  <thead>\n",
       "    <tr style=\"text-align: right;\">\n",
       "      <th></th>\n",
       "      <th>tpep_pickup_datetime</th>\n",
       "      <th>passenger_count</th>\n",
       "      <th>trip_distance</th>\n",
       "      <th>total_amount</th>\n",
       "    </tr>\n",
       "  </thead>\n",
       "  <tbody>\n",
       "    <tr>\n",
       "      <th>0</th>\n",
       "      <td>2019-01-01 00:46:40</td>\n",
       "      <td>1</td>\n",
       "      <td>1.5</td>\n",
       "      <td>9.95</td>\n",
       "    </tr>\n",
       "    <tr>\n",
       "      <th>1</th>\n",
       "      <td>2019-01-01 00:59:47</td>\n",
       "      <td>1</td>\n",
       "      <td>2.6</td>\n",
       "      <td>16.30</td>\n",
       "    </tr>\n",
       "    <tr>\n",
       "      <th>2</th>\n",
       "      <td>2018-12-21 13:48:30</td>\n",
       "      <td>3</td>\n",
       "      <td>0.0</td>\n",
       "      <td>5.80</td>\n",
       "    </tr>\n",
       "    <tr>\n",
       "      <th>3</th>\n",
       "      <td>2018-11-28 15:52:25</td>\n",
       "      <td>5</td>\n",
       "      <td>0.0</td>\n",
       "      <td>7.55</td>\n",
       "    </tr>\n",
       "    <tr>\n",
       "      <th>4</th>\n",
       "      <td>2018-11-28 15:56:57</td>\n",
       "      <td>5</td>\n",
       "      <td>0.0</td>\n",
       "      <td>55.55</td>\n",
       "    </tr>\n",
       "  </tbody>\n",
       "</table>\n",
       "</div>"
      ],
      "text/plain": [
       "  tpep_pickup_datetime  passenger_count  trip_distance  total_amount\n",
       "0  2019-01-01 00:46:40                1            1.5          9.95\n",
       "1  2019-01-01 00:59:47                1            2.6         16.30\n",
       "2  2018-12-21 13:48:30                3            0.0          5.80\n",
       "3  2018-11-28 15:52:25                5            0.0          7.55\n",
       "4  2018-11-28 15:56:57                5            0.0         55.55"
      ]
     },
     "execution_count": 1,
     "metadata": {},
     "output_type": "execute_result"
    }
   ],
   "source": [
    "import numpy as np\n",
    "import pandas as pd\n",
    "from pandas import Series, DataFrame\n",
    "\n",
    "filename = '/Users/reuven/Courses/Current/data/nyc_taxi_2019-01.csv'\n",
    "\n",
    "df = pd.read_csv(filename,\n",
    "                usecols=['tpep_pickup_datetime', 'trip_distance',\n",
    "                        'passenger_count', 'total_amount'],\n",
    "                parse_dates=['tpep_pickup_datetime'])\n",
    "\n",
    "df.head()"
   ]
  },
  {
   "cell_type": "code",
   "execution_count": 2,
   "id": "0f8be14d",
   "metadata": {},
   "outputs": [
    {
     "data": {
      "text/plain": [
       "tpep_pickup_datetime    datetime64[ns]\n",
       "passenger_count                  int64\n",
       "trip_distance                  float64\n",
       "total_amount                   float64\n",
       "dtype: object"
      ]
     },
     "execution_count": 2,
     "metadata": {},
     "output_type": "execute_result"
    }
   ],
   "source": [
    "df.dtypes"
   ]
  },
  {
   "cell_type": "code",
   "execution_count": 6,
   "id": "297d165e",
   "metadata": {},
   "outputs": [],
   "source": [
    "# I want to know how far, on average, people traveled at each hour of the day\n",
    "# I'll create a new column, 'hour'\n",
    "\n",
    "df['hour'] = df['tpep_pickup_datetime'].dt.hour"
   ]
  },
  {
   "cell_type": "code",
   "execution_count": 7,
   "id": "a955ca11",
   "metadata": {},
   "outputs": [
    {
     "data": {
      "text/html": [
       "<div>\n",
       "<style scoped>\n",
       "    .dataframe tbody tr th:only-of-type {\n",
       "        vertical-align: middle;\n",
       "    }\n",
       "\n",
       "    .dataframe tbody tr th {\n",
       "        vertical-align: top;\n",
       "    }\n",
       "\n",
       "    .dataframe thead th {\n",
       "        text-align: right;\n",
       "    }\n",
       "</style>\n",
       "<table border=\"1\" class=\"dataframe\">\n",
       "  <thead>\n",
       "    <tr style=\"text-align: right;\">\n",
       "      <th></th>\n",
       "      <th>passenger_count</th>\n",
       "      <th>trip_distance</th>\n",
       "      <th>total_amount</th>\n",
       "    </tr>\n",
       "    <tr>\n",
       "      <th>hour</th>\n",
       "      <th></th>\n",
       "      <th></th>\n",
       "      <th></th>\n",
       "    </tr>\n",
       "  </thead>\n",
       "  <tbody>\n",
       "    <tr>\n",
       "      <th>0</th>\n",
       "      <td>1.628404</td>\n",
       "      <td>3.354784</td>\n",
       "      <td>16.587117</td>\n",
       "    </tr>\n",
       "    <tr>\n",
       "      <th>1</th>\n",
       "      <td>1.637590</td>\n",
       "      <td>3.137899</td>\n",
       "      <td>15.653977</td>\n",
       "    </tr>\n",
       "    <tr>\n",
       "      <th>2</th>\n",
       "      <td>1.636592</td>\n",
       "      <td>3.016444</td>\n",
       "      <td>15.103719</td>\n",
       "    </tr>\n",
       "    <tr>\n",
       "      <th>3</th>\n",
       "      <td>1.628772</td>\n",
       "      <td>3.248158</td>\n",
       "      <td>15.672484</td>\n",
       "    </tr>\n",
       "    <tr>\n",
       "      <th>4</th>\n",
       "      <td>1.605353</td>\n",
       "      <td>4.025417</td>\n",
       "      <td>18.084446</td>\n",
       "    </tr>\n",
       "    <tr>\n",
       "      <th>5</th>\n",
       "      <td>1.503461</td>\n",
       "      <td>4.258831</td>\n",
       "      <td>18.951300</td>\n",
       "    </tr>\n",
       "    <tr>\n",
       "      <th>6</th>\n",
       "      <td>1.455299</td>\n",
       "      <td>3.214363</td>\n",
       "      <td>15.242420</td>\n",
       "    </tr>\n",
       "    <tr>\n",
       "      <th>7</th>\n",
       "      <td>1.500117</td>\n",
       "      <td>2.774819</td>\n",
       "      <td>14.662568</td>\n",
       "    </tr>\n",
       "    <tr>\n",
       "      <th>8</th>\n",
       "      <td>1.519649</td>\n",
       "      <td>2.504700</td>\n",
       "      <td>15.667917</td>\n",
       "    </tr>\n",
       "    <tr>\n",
       "      <th>9</th>\n",
       "      <td>1.520383</td>\n",
       "      <td>2.460718</td>\n",
       "      <td>14.861725</td>\n",
       "    </tr>\n",
       "    <tr>\n",
       "      <th>10</th>\n",
       "      <td>1.542949</td>\n",
       "      <td>2.526949</td>\n",
       "      <td>14.876165</td>\n",
       "    </tr>\n",
       "    <tr>\n",
       "      <th>11</th>\n",
       "      <td>1.554401</td>\n",
       "      <td>2.437092</td>\n",
       "      <td>14.469177</td>\n",
       "    </tr>\n",
       "    <tr>\n",
       "      <th>12</th>\n",
       "      <td>1.552102</td>\n",
       "      <td>2.541979</td>\n",
       "      <td>14.885312</td>\n",
       "    </tr>\n",
       "    <tr>\n",
       "      <th>13</th>\n",
       "      <td>1.558614</td>\n",
       "      <td>2.710267</td>\n",
       "      <td>15.146990</td>\n",
       "    </tr>\n",
       "    <tr>\n",
       "      <th>14</th>\n",
       "      <td>1.558434</td>\n",
       "      <td>2.779519</td>\n",
       "      <td>15.464271</td>\n",
       "    </tr>\n",
       "    <tr>\n",
       "      <th>15</th>\n",
       "      <td>1.573569</td>\n",
       "      <td>2.725301</td>\n",
       "      <td>15.441216</td>\n",
       "    </tr>\n",
       "    <tr>\n",
       "      <th>16</th>\n",
       "      <td>1.561337</td>\n",
       "      <td>2.835808</td>\n",
       "      <td>17.182648</td>\n",
       "    </tr>\n",
       "    <tr>\n",
       "      <th>17</th>\n",
       "      <td>1.569037</td>\n",
       "      <td>2.627712</td>\n",
       "      <td>15.857666</td>\n",
       "    </tr>\n",
       "    <tr>\n",
       "      <th>18</th>\n",
       "      <td>1.573472</td>\n",
       "      <td>2.520850</td>\n",
       "      <td>15.295477</td>\n",
       "    </tr>\n",
       "    <tr>\n",
       "      <th>19</th>\n",
       "      <td>1.580784</td>\n",
       "      <td>2.654441</td>\n",
       "      <td>16.645852</td>\n",
       "    </tr>\n",
       "    <tr>\n",
       "      <th>20</th>\n",
       "      <td>1.589204</td>\n",
       "      <td>2.917349</td>\n",
       "      <td>15.604506</td>\n",
       "    </tr>\n",
       "    <tr>\n",
       "      <th>21</th>\n",
       "      <td>1.607178</td>\n",
       "      <td>3.102218</td>\n",
       "      <td>16.153227</td>\n",
       "    </tr>\n",
       "    <tr>\n",
       "      <th>22</th>\n",
       "      <td>1.614912</td>\n",
       "      <td>3.177194</td>\n",
       "      <td>16.364056</td>\n",
       "    </tr>\n",
       "    <tr>\n",
       "      <th>23</th>\n",
       "      <td>1.614495</td>\n",
       "      <td>3.330301</td>\n",
       "      <td>16.678481</td>\n",
       "    </tr>\n",
       "  </tbody>\n",
       "</table>\n",
       "</div>"
      ],
      "text/plain": [
       "      passenger_count  trip_distance  total_amount\n",
       "hour                                              \n",
       "0            1.628404       3.354784     16.587117\n",
       "1            1.637590       3.137899     15.653977\n",
       "2            1.636592       3.016444     15.103719\n",
       "3            1.628772       3.248158     15.672484\n",
       "4            1.605353       4.025417     18.084446\n",
       "5            1.503461       4.258831     18.951300\n",
       "6            1.455299       3.214363     15.242420\n",
       "7            1.500117       2.774819     14.662568\n",
       "8            1.519649       2.504700     15.667917\n",
       "9            1.520383       2.460718     14.861725\n",
       "10           1.542949       2.526949     14.876165\n",
       "11           1.554401       2.437092     14.469177\n",
       "12           1.552102       2.541979     14.885312\n",
       "13           1.558614       2.710267     15.146990\n",
       "14           1.558434       2.779519     15.464271\n",
       "15           1.573569       2.725301     15.441216\n",
       "16           1.561337       2.835808     17.182648\n",
       "17           1.569037       2.627712     15.857666\n",
       "18           1.573472       2.520850     15.295477\n",
       "19           1.580784       2.654441     16.645852\n",
       "20           1.589204       2.917349     15.604506\n",
       "21           1.607178       3.102218     16.153227\n",
       "22           1.614912       3.177194     16.364056\n",
       "23           1.614495       3.330301     16.678481"
      ]
     },
     "execution_count": 7,
     "metadata": {},
     "output_type": "execute_result"
    }
   ],
   "source": [
    "df.groupby('hour').mean()"
   ]
  },
  {
   "cell_type": "code",
   "execution_count": 8,
   "id": "02f795a1",
   "metadata": {},
   "outputs": [
    {
     "data": {
      "text/plain": [
       "hour\n",
       "0     3.354784\n",
       "1     3.137899\n",
       "2     3.016444\n",
       "3     3.248158\n",
       "4     4.025417\n",
       "5     4.258831\n",
       "6     3.214363\n",
       "7     2.774819\n",
       "8     2.504700\n",
       "9     2.460718\n",
       "10    2.526949\n",
       "11    2.437092\n",
       "12    2.541979\n",
       "13    2.710267\n",
       "14    2.779519\n",
       "15    2.725301\n",
       "16    2.835808\n",
       "17    2.627712\n",
       "18    2.520850\n",
       "19    2.654441\n",
       "20    2.917349\n",
       "21    3.102218\n",
       "22    3.177194\n",
       "23    3.330301\n",
       "Name: trip_distance, dtype: float64"
      ]
     },
     "execution_count": 8,
     "metadata": {},
     "output_type": "execute_result"
    }
   ],
   "source": [
    "# for every hour of the day\n",
    "# find the mean trip_distance\n",
    "df.groupby('hour')['trip_distance'].mean()"
   ]
  },
  {
   "cell_type": "code",
   "execution_count": 9,
   "id": "6c73eb04",
   "metadata": {},
   "outputs": [
    {
     "data": {
      "text/plain": [
       "hour\n",
       "11    2.437092\n",
       "9     2.460718\n",
       "8     2.504700\n",
       "18    2.520850\n",
       "10    2.526949\n",
       "12    2.541979\n",
       "17    2.627712\n",
       "19    2.654441\n",
       "13    2.710267\n",
       "15    2.725301\n",
       "7     2.774819\n",
       "14    2.779519\n",
       "16    2.835808\n",
       "20    2.917349\n",
       "2     3.016444\n",
       "21    3.102218\n",
       "1     3.137899\n",
       "22    3.177194\n",
       "6     3.214363\n",
       "3     3.248158\n",
       "23    3.330301\n",
       "0     3.354784\n",
       "4     4.025417\n",
       "5     4.258831\n",
       "Name: trip_distance, dtype: float64"
      ]
     },
     "execution_count": 9,
     "metadata": {},
     "output_type": "execute_result"
    }
   ],
   "source": [
    "df.groupby('hour')['trip_distance'].mean().sort_values()"
   ]
  },
  {
   "cell_type": "code",
   "execution_count": 11,
   "id": "8a83e4e0",
   "metadata": {},
   "outputs": [],
   "source": [
    "df['day_name'] = df['tpep_pickup_datetime'].dt.day_name()"
   ]
  },
  {
   "cell_type": "code",
   "execution_count": 12,
   "id": "0095c9f4",
   "metadata": {},
   "outputs": [
    {
     "data": {
      "text/plain": [
       "day_name\n",
       "Friday       2.777719\n",
       "Monday       2.872133\n",
       "Saturday     2.617331\n",
       "Sunday       2.962710\n",
       "Thursday     2.755653\n",
       "Tuesday      2.866172\n",
       "Wednesday    2.793659\n",
       "Name: trip_distance, dtype: float64"
      ]
     },
     "execution_count": 12,
     "metadata": {},
     "output_type": "execute_result"
    }
   ],
   "source": [
    "df.groupby('day_name')['trip_distance'].mean()"
   ]
  },
  {
   "cell_type": "code",
   "execution_count": 13,
   "id": "b1643441",
   "metadata": {},
   "outputs": [
    {
     "data": {
      "text/plain": [
       "day_name\n",
       "Saturday     2.617331\n",
       "Thursday     2.755653\n",
       "Friday       2.777719\n",
       "Wednesday    2.793659\n",
       "Tuesday      2.866172\n",
       "Monday       2.872133\n",
       "Sunday       2.962710\n",
       "Name: trip_distance, dtype: float64"
      ]
     },
     "execution_count": 13,
     "metadata": {},
     "output_type": "execute_result"
    }
   ],
   "source": [
    "df.groupby('day_name')['trip_distance'].mean().sort_values()"
   ]
  },
  {
   "cell_type": "code",
   "execution_count": 14,
   "id": "54096bc7",
   "metadata": {},
   "outputs": [
    {
     "data": {
      "text/plain": [
       "tpep_pickup_datetime\n",
       "0     3.354784\n",
       "1     3.137899\n",
       "2     3.016444\n",
       "3     3.248158\n",
       "4     4.025417\n",
       "5     4.258831\n",
       "6     3.214363\n",
       "7     2.774819\n",
       "8     2.504700\n",
       "9     2.460718\n",
       "10    2.526949\n",
       "11    2.437092\n",
       "12    2.541979\n",
       "13    2.710267\n",
       "14    2.779519\n",
       "15    2.725301\n",
       "16    2.835808\n",
       "17    2.627712\n",
       "18    2.520850\n",
       "19    2.654441\n",
       "20    2.917349\n",
       "21    3.102218\n",
       "22    3.177194\n",
       "23    3.330301\n",
       "Name: trip_distance, dtype: float64"
      ]
     },
     "execution_count": 14,
     "metadata": {},
     "output_type": "execute_result"
    }
   ],
   "source": [
    "df.groupby(df['tpep_pickup_datetime'].dt.hour)['trip_distance'].mean()"
   ]
  },
  {
   "cell_type": "code",
   "execution_count": 15,
   "id": "dfdc0179",
   "metadata": {},
   "outputs": [
    {
     "data": {
      "text/plain": [
       "tpep_pickup_datetime\n",
       "Friday       2.777719\n",
       "Monday       2.872133\n",
       "Saturday     2.617331\n",
       "Sunday       2.962710\n",
       "Thursday     2.755653\n",
       "Tuesday      2.866172\n",
       "Wednesday    2.793659\n",
       "Name: trip_distance, dtype: float64"
      ]
     },
     "execution_count": 15,
     "metadata": {},
     "output_type": "execute_result"
    }
   ],
   "source": [
    "df.groupby(df['tpep_pickup_datetime'].dt.day_name())['trip_distance'].mean()"
   ]
  },
  {
   "cell_type": "code",
   "execution_count": null,
   "id": "63fd9c16",
   "metadata": {},
   "outputs": [],
   "source": []
  }
 ],
 "metadata": {
  "kernelspec": {
   "display_name": "Python 3 (ipykernel)",
   "language": "python",
   "name": "python3"
  },
  "language_info": {
   "codemirror_mode": {
    "name": "ipython",
    "version": 3
   },
   "file_extension": ".py",
   "mimetype": "text/x-python",
   "name": "python",
   "nbconvert_exporter": "python",
   "pygments_lexer": "ipython3",
   "version": "3.10.2"
  }
 },
 "nbformat": 4,
 "nbformat_minor": 5
}
