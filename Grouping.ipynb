{
 "cells": [
  {
   "cell_type": "code",
   "execution_count": 1,
   "id": "1188ac0a",
   "metadata": {},
   "outputs": [],
   "source": [
    "import numpy as np\n",
    "import pandas as pd\n",
    "from pandas import Series, DataFrame"
   ]
  },
  {
   "cell_type": "code",
   "execution_count": 2,
   "id": "17f65cfb",
   "metadata": {},
   "outputs": [
    {
     "data": {
      "text/html": [
       "<div>\n",
       "<style scoped>\n",
       "    .dataframe tbody tr th:only-of-type {\n",
       "        vertical-align: middle;\n",
       "    }\n",
       "\n",
       "    .dataframe tbody tr th {\n",
       "        vertical-align: top;\n",
       "    }\n",
       "\n",
       "    .dataframe thead th {\n",
       "        text-align: right;\n",
       "    }\n",
       "</style>\n",
       "<table border=\"1\" class=\"dataframe\">\n",
       "  <thead>\n",
       "    <tr style=\"text-align: right;\">\n",
       "      <th></th>\n",
       "      <th>tpep_pickup_datetime</th>\n",
       "      <th>passenger_count</th>\n",
       "      <th>trip_distance</th>\n",
       "      <th>total_amount</th>\n",
       "    </tr>\n",
       "  </thead>\n",
       "  <tbody>\n",
       "    <tr>\n",
       "      <th>0</th>\n",
       "      <td>2019-01-01 00:46:40</td>\n",
       "      <td>1</td>\n",
       "      <td>1.5</td>\n",
       "      <td>9.95</td>\n",
       "    </tr>\n",
       "    <tr>\n",
       "      <th>1</th>\n",
       "      <td>2019-01-01 00:59:47</td>\n",
       "      <td>1</td>\n",
       "      <td>2.6</td>\n",
       "      <td>16.30</td>\n",
       "    </tr>\n",
       "    <tr>\n",
       "      <th>2</th>\n",
       "      <td>2018-12-21 13:48:30</td>\n",
       "      <td>3</td>\n",
       "      <td>0.0</td>\n",
       "      <td>5.80</td>\n",
       "    </tr>\n",
       "    <tr>\n",
       "      <th>3</th>\n",
       "      <td>2018-11-28 15:52:25</td>\n",
       "      <td>5</td>\n",
       "      <td>0.0</td>\n",
       "      <td>7.55</td>\n",
       "    </tr>\n",
       "    <tr>\n",
       "      <th>4</th>\n",
       "      <td>2018-11-28 15:56:57</td>\n",
       "      <td>5</td>\n",
       "      <td>0.0</td>\n",
       "      <td>55.55</td>\n",
       "    </tr>\n",
       "  </tbody>\n",
       "</table>\n",
       "</div>"
      ],
      "text/plain": [
       "  tpep_pickup_datetime  passenger_count  trip_distance  total_amount\n",
       "0  2019-01-01 00:46:40                1            1.5          9.95\n",
       "1  2019-01-01 00:59:47                1            2.6         16.30\n",
       "2  2018-12-21 13:48:30                3            0.0          5.80\n",
       "3  2018-11-28 15:52:25                5            0.0          7.55\n",
       "4  2018-11-28 15:56:57                5            0.0         55.55"
      ]
     },
     "execution_count": 2,
     "metadata": {},
     "output_type": "execute_result"
    }
   ],
   "source": [
    "filename = '/Users/reuven/Courses/Current/data/nyc_taxi_2019-01.csv'\n",
    "\n",
    "df = pd.read_csv(filename,\n",
    "                usecols=['tpep_pickup_datetime', 'trip_distance',\n",
    "                        'passenger_count', 'total_amount'],\n",
    "                parse_dates=['tpep_pickup_datetime'])\n",
    "\n",
    "df.head()"
   ]
  },
  {
   "cell_type": "code",
   "execution_count": 3,
   "id": "e439ad26",
   "metadata": {},
   "outputs": [
    {
     "data": {
      "text/plain": [
       "tpep_pickup_datetime    datetime64[ns]\n",
       "passenger_count                  int64\n",
       "trip_distance                  float64\n",
       "total_amount                   float64\n",
       "dtype: object"
      ]
     },
     "execution_count": 3,
     "metadata": {},
     "output_type": "execute_result"
    }
   ],
   "source": [
    "df.dtypes"
   ]
  },
  {
   "cell_type": "code",
   "execution_count": 7,
   "id": "c28e2219",
   "metadata": {},
   "outputs": [
    {
     "data": {
      "text/plain": [
       "2.7790883193389573"
      ]
     },
     "execution_count": 7,
     "metadata": {},
     "output_type": "execute_result"
    }
   ],
   "source": [
    "# how far, on average, did people travel when there was 1 passenger in the taxi?\n",
    "\n",
    "#      row selector             , column selector\n",
    "df.loc[df['passenger_count'] == 1, 'trip_distance'].mean()"
   ]
  },
  {
   "cell_type": "code",
   "execution_count": 8,
   "id": "56afcce0",
   "metadata": {},
   "outputs": [
    {
     "data": {
      "text/plain": [
       "2.8805724948972533"
      ]
     },
     "execution_count": 8,
     "metadata": {},
     "output_type": "execute_result"
    }
   ],
   "source": [
    "# how far, on average, did people travel when there were 2 passengers in the taxi?\n",
    "df.loc[df['passenger_count'] == 2, 'trip_distance'].mean()"
   ]
  },
  {
   "cell_type": "code",
   "execution_count": 9,
   "id": "44df0ba3",
   "metadata": {},
   "outputs": [
    {
     "data": {
      "text/plain": [
       "2.8406983328090596"
      ]
     },
     "execution_count": 9,
     "metadata": {},
     "output_type": "execute_result"
    }
   ],
   "source": [
    "# how far, on average, did people travel when there were 3 passengers in the taxi?\n",
    "df.loc[df['passenger_count'] == 3, 'trip_distance'].mean()"
   ]
  },
  {
   "cell_type": "code",
   "execution_count": 10,
   "id": "be24300c",
   "metadata": {},
   "outputs": [
    {
     "data": {
      "text/plain": [
       "<pandas.core.groupby.generic.DataFrameGroupBy object at 0x12faedae0>"
      ]
     },
     "execution_count": 10,
     "metadata": {},
     "output_type": "execute_result"
    }
   ],
   "source": [
    "# what I'm really trying to find out is: for each distinct value of passenger_count,\n",
    "# how far did people travel, on average?\n",
    "\n",
    "# for each distinct value of passenger_count...\n",
    "df.groupby('passenger_count')"
   ]
  },
  {
   "cell_type": "code",
   "execution_count": 11,
   "id": "af57bc0d",
   "metadata": {},
   "outputs": [
    {
     "data": {
      "text/html": [
       "<div>\n",
       "<style scoped>\n",
       "    .dataframe tbody tr th:only-of-type {\n",
       "        vertical-align: middle;\n",
       "    }\n",
       "\n",
       "    .dataframe tbody tr th {\n",
       "        vertical-align: top;\n",
       "    }\n",
       "\n",
       "    .dataframe thead th {\n",
       "        text-align: right;\n",
       "    }\n",
       "</style>\n",
       "<table border=\"1\" class=\"dataframe\">\n",
       "  <thead>\n",
       "    <tr style=\"text-align: right;\">\n",
       "      <th></th>\n",
       "      <th>trip_distance</th>\n",
       "      <th>total_amount</th>\n",
       "    </tr>\n",
       "    <tr>\n",
       "      <th>passenger_count</th>\n",
       "      <th></th>\n",
       "      <th></th>\n",
       "    </tr>\n",
       "  </thead>\n",
       "  <tbody>\n",
       "    <tr>\n",
       "      <th>0</th>\n",
       "      <td>2.651561</td>\n",
       "      <td>18.663658</td>\n",
       "    </tr>\n",
       "    <tr>\n",
       "      <th>1</th>\n",
       "      <td>2.779088</td>\n",
       "      <td>15.609601</td>\n",
       "    </tr>\n",
       "    <tr>\n",
       "      <th>2</th>\n",
       "      <td>2.880572</td>\n",
       "      <td>15.831294</td>\n",
       "    </tr>\n",
       "    <tr>\n",
       "      <th>3</th>\n",
       "      <td>2.840698</td>\n",
       "      <td>15.604015</td>\n",
       "    </tr>\n",
       "    <tr>\n",
       "      <th>4</th>\n",
       "      <td>2.853084</td>\n",
       "      <td>15.650307</td>\n",
       "    </tr>\n",
       "    <tr>\n",
       "      <th>5</th>\n",
       "      <td>2.865741</td>\n",
       "      <td>15.546940</td>\n",
       "    </tr>\n",
       "    <tr>\n",
       "      <th>6</th>\n",
       "      <td>2.842335</td>\n",
       "      <td>15.437892</td>\n",
       "    </tr>\n",
       "    <tr>\n",
       "      <th>7</th>\n",
       "      <td>2.561579</td>\n",
       "      <td>48.278421</td>\n",
       "    </tr>\n",
       "    <tr>\n",
       "      <th>8</th>\n",
       "      <td>3.142759</td>\n",
       "      <td>64.105517</td>\n",
       "    </tr>\n",
       "    <tr>\n",
       "      <th>9</th>\n",
       "      <td>1.486667</td>\n",
       "      <td>31.094444</td>\n",
       "    </tr>\n",
       "  </tbody>\n",
       "</table>\n",
       "</div>"
      ],
      "text/plain": [
       "                 trip_distance  total_amount\n",
       "passenger_count                             \n",
       "0                     2.651561     18.663658\n",
       "1                     2.779088     15.609601\n",
       "2                     2.880572     15.831294\n",
       "3                     2.840698     15.604015\n",
       "4                     2.853084     15.650307\n",
       "5                     2.865741     15.546940\n",
       "6                     2.842335     15.437892\n",
       "7                     2.561579     48.278421\n",
       "8                     3.142759     64.105517\n",
       "9                     1.486667     31.094444"
      ]
     },
     "execution_count": 11,
     "metadata": {},
     "output_type": "execute_result"
    }
   ],
   "source": [
    "# I have to apply an aggregation method\n",
    "# mean, min, max, std, count, sum\n",
    "df.groupby('passenger_count').mean()"
   ]
  },
  {
   "cell_type": "code",
   "execution_count": 12,
   "id": "0bd904b5",
   "metadata": {},
   "outputs": [
    {
     "data": {
      "text/plain": [
       "passenger_count\n",
       "0    2.651561\n",
       "1    2.779088\n",
       "2    2.880572\n",
       "3    2.840698\n",
       "4    2.853084\n",
       "5    2.865741\n",
       "6    2.842335\n",
       "7    2.561579\n",
       "8    3.142759\n",
       "9    1.486667\n",
       "Name: trip_distance, dtype: float64"
      ]
     },
     "execution_count": 12,
     "metadata": {},
     "output_type": "execute_result"
    }
   ],
   "source": [
    "# for each distinct value of passenger_count\n",
    "# show me the mean trip_distance\n",
    "df.groupby('passenger_count')['trip_distance'].mean()"
   ]
  },
  {
   "cell_type": "code",
   "execution_count": 13,
   "id": "da10fbb8",
   "metadata": {},
   "outputs": [
    {
     "data": {
      "text/plain": [
       "passenger_count\n",
       "0    0.0\n",
       "1    0.0\n",
       "2    0.0\n",
       "3    0.0\n",
       "4    0.0\n",
       "5    0.0\n",
       "6    0.0\n",
       "7    0.0\n",
       "8    0.0\n",
       "9    0.0\n",
       "Name: trip_distance, dtype: float64"
      ]
     },
     "execution_count": 13,
     "metadata": {},
     "output_type": "execute_result"
    }
   ],
   "source": [
    "# two different aggregation methods -- min and max\n",
    "df.groupby('passenger_count')['trip_distance'].min()"
   ]
  },
  {
   "cell_type": "code",
   "execution_count": 14,
   "id": "895e5bd2",
   "metadata": {},
   "outputs": [
    {
     "data": {
      "text/plain": [
       "passenger_count\n",
       "0     62.40\n",
       "1    831.80\n",
       "2    211.36\n",
       "3    142.88\n",
       "4    160.52\n",
       "5    214.01\n",
       "6     63.15\n",
       "7     23.79\n",
       "8     16.68\n",
       "9     13.38\n",
       "Name: trip_distance, dtype: float64"
      ]
     },
     "execution_count": 14,
     "metadata": {},
     "output_type": "execute_result"
    }
   ],
   "source": [
    "df.groupby('passenger_count')['trip_distance'].max()"
   ]
  },
  {
   "cell_type": "code",
   "execution_count": 15,
   "id": "1c715208",
   "metadata": {},
   "outputs": [
    {
     "data": {
      "text/html": [
       "<div>\n",
       "<style scoped>\n",
       "    .dataframe tbody tr th:only-of-type {\n",
       "        vertical-align: middle;\n",
       "    }\n",
       "\n",
       "    .dataframe tbody tr th {\n",
       "        vertical-align: top;\n",
       "    }\n",
       "\n",
       "    .dataframe thead th {\n",
       "        text-align: right;\n",
       "    }\n",
       "</style>\n",
       "<table border=\"1\" class=\"dataframe\">\n",
       "  <thead>\n",
       "    <tr style=\"text-align: right;\">\n",
       "      <th></th>\n",
       "      <th>min</th>\n",
       "      <th>max</th>\n",
       "    </tr>\n",
       "    <tr>\n",
       "      <th>passenger_count</th>\n",
       "      <th></th>\n",
       "      <th></th>\n",
       "    </tr>\n",
       "  </thead>\n",
       "  <tbody>\n",
       "    <tr>\n",
       "      <th>0</th>\n",
       "      <td>0.0</td>\n",
       "      <td>62.40</td>\n",
       "    </tr>\n",
       "    <tr>\n",
       "      <th>1</th>\n",
       "      <td>0.0</td>\n",
       "      <td>831.80</td>\n",
       "    </tr>\n",
       "    <tr>\n",
       "      <th>2</th>\n",
       "      <td>0.0</td>\n",
       "      <td>211.36</td>\n",
       "    </tr>\n",
       "    <tr>\n",
       "      <th>3</th>\n",
       "      <td>0.0</td>\n",
       "      <td>142.88</td>\n",
       "    </tr>\n",
       "    <tr>\n",
       "      <th>4</th>\n",
       "      <td>0.0</td>\n",
       "      <td>160.52</td>\n",
       "    </tr>\n",
       "    <tr>\n",
       "      <th>5</th>\n",
       "      <td>0.0</td>\n",
       "      <td>214.01</td>\n",
       "    </tr>\n",
       "    <tr>\n",
       "      <th>6</th>\n",
       "      <td>0.0</td>\n",
       "      <td>63.15</td>\n",
       "    </tr>\n",
       "    <tr>\n",
       "      <th>7</th>\n",
       "      <td>0.0</td>\n",
       "      <td>23.79</td>\n",
       "    </tr>\n",
       "    <tr>\n",
       "      <th>8</th>\n",
       "      <td>0.0</td>\n",
       "      <td>16.68</td>\n",
       "    </tr>\n",
       "    <tr>\n",
       "      <th>9</th>\n",
       "      <td>0.0</td>\n",
       "      <td>13.38</td>\n",
       "    </tr>\n",
       "  </tbody>\n",
       "</table>\n",
       "</div>"
      ],
      "text/plain": [
       "                 min     max\n",
       "passenger_count             \n",
       "0                0.0   62.40\n",
       "1                0.0  831.80\n",
       "2                0.0  211.36\n",
       "3                0.0  142.88\n",
       "4                0.0  160.52\n",
       "5                0.0  214.01\n",
       "6                0.0   63.15\n",
       "7                0.0   23.79\n",
       "8                0.0   16.68\n",
       "9                0.0   13.38"
      ]
     },
     "execution_count": 15,
     "metadata": {},
     "output_type": "execute_result"
    }
   ],
   "source": [
    "# for each distinct value of passenger_count\n",
    "# get the min and max values of trip_distance\n",
    "df.groupby('passenger_count')['trip_distance'].agg(['min', 'max'])"
   ]
  },
  {
   "cell_type": "code",
   "execution_count": null,
   "id": "b75d76f5",
   "metadata": {},
   "outputs": [],
   "source": []
  }
 ],
 "metadata": {
  "kernelspec": {
   "display_name": "Python 3 (ipykernel)",
   "language": "python",
   "name": "python3"
  },
  "language_info": {
   "codemirror_mode": {
    "name": "ipython",
    "version": 3
   },
   "file_extension": ".py",
   "mimetype": "text/x-python",
   "name": "python",
   "nbconvert_exporter": "python",
   "pygments_lexer": "ipython3",
   "version": "3.10.2"
  }
 },
 "nbformat": 4,
 "nbformat_minor": 5
}
