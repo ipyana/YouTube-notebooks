{
 "cells": [
  {
   "cell_type": "markdown",
   "id": "b8b3341b",
   "metadata": {},
   "source": [
    " # List comprehensions"
   ]
  },
  {
   "cell_type": "code",
   "execution_count": 1,
   "id": "fa389cb6",
   "metadata": {},
   "outputs": [
    {
     "data": {
      "text/plain": [
       "[0, 1, 4, 9, 16, 25, 36, 49, 64, 81]"
      ]
     },
     "execution_count": 1,
     "metadata": {},
     "output_type": "execute_result"
    }
   ],
   "source": [
    "numbers = range(10)\n",
    "\n",
    "# I want a list with all of these numbers squared\n",
    "\n",
    "output = []\n",
    "\n",
    "for one_number in numbers:\n",
    "    output.append(one_number * one_number)\n",
    "    \n",
    "output    "
   ]
  },
  {
   "cell_type": "code",
   "execution_count": 3,
   "id": "a2a5b40d",
   "metadata": {},
   "outputs": [
    {
     "data": {
      "text/plain": [
       "[0, 1, 4, 9, 16, 25, 36, 49, 64, 81]"
      ]
     },
     "execution_count": 3,
     "metadata": {},
     "output_type": "execute_result"
    }
   ],
   "source": [
    "# not Pythonic!\n",
    "\n",
    "# a list comprehension creates a new list\n",
    "# that new list is based on an existing data structure (an iterable)\n",
    "\n",
    "[one_number * one_number        # expression -- will be evaluated once per iteration of the for loop\n",
    " for one_number in numbers]     # iteration -- we run this for loop once for each element in numbers"
   ]
  },
  {
   "cell_type": "code",
   "execution_count": 5,
   "id": "45a468dc",
   "metadata": {},
   "outputs": [
    {
     "data": {
      "text/plain": [
       "[0, 4, 16, 36, 64]"
      ]
     },
     "execution_count": 5,
     "metadata": {},
     "output_type": "execute_result"
    }
   ],
   "source": [
    "# what if I only want the squares of the even numbers?\n",
    "\n",
    "[one_number * one_number       # (3) expression -- SELECT\n",
    " for one_number in numbers     # (1) iteration  -- FROM\n",
    " if one_number % 2 == 0 ]      # (2) condition  -- WHERE"
   ]
  },
  {
   "cell_type": "code",
   "execution_count": 6,
   "id": "20904b1a",
   "metadata": {},
   "outputs": [
    {
     "data": {
      "text/plain": [
       "['10', '20', '30', '40', '50']"
      ]
     },
     "execution_count": 6,
     "metadata": {},
     "output_type": "execute_result"
    }
   ],
   "source": [
    "# I have a list of strings (which only contain digits), and I want to sum them\n",
    "\n",
    "mylist = '10 20 30 40 50'.split()\n",
    "mylist"
   ]
  },
  {
   "cell_type": "code",
   "execution_count": 7,
   "id": "dcd5c88d",
   "metadata": {},
   "outputs": [
    {
     "ename": "TypeError",
     "evalue": "unsupported operand type(s) for +: 'int' and 'str'",
     "output_type": "error",
     "traceback": [
      "\u001b[0;31m---------------------------------------------------------------------------\u001b[0m",
      "\u001b[0;31mTypeError\u001b[0m                                 Traceback (most recent call last)",
      "Cell \u001b[0;32mIn [7], line 1\u001b[0m\n\u001b[0;32m----> 1\u001b[0m \u001b[38;5;28;43msum\u001b[39;49m\u001b[43m(\u001b[49m\u001b[43mmylist\u001b[49m\u001b[43m)\u001b[49m\n",
      "\u001b[0;31mTypeError\u001b[0m: unsupported operand type(s) for +: 'int' and 'str'"
     ]
    }
   ],
   "source": [
    "sum(mylist)"
   ]
  },
  {
   "cell_type": "code",
   "execution_count": 9,
   "id": "39f5281e",
   "metadata": {},
   "outputs": [
    {
     "data": {
      "text/plain": [
       "150"
      ]
     },
     "execution_count": 9,
     "metadata": {},
     "output_type": "execute_result"
    }
   ],
   "source": [
    "# I have a list of strings\n",
    "# I want a list of integers\n",
    "# I can convert each string to an integer with \"int\"\n",
    "\n",
    "sum([int(one_item)\n",
    "     for one_item in mylist])"
   ]
  },
  {
   "cell_type": "code",
   "execution_count": 11,
   "id": "24b5c93f",
   "metadata": {},
   "outputs": [
    {
     "data": {
      "text/plain": [
       "150"
      ]
     },
     "execution_count": 11,
     "metadata": {},
     "output_type": "execute_result"
    }
   ],
   "source": [
    "# what if there are strings in mylist that cannot be turned into integers?\n",
    "\n",
    "mylist = '10 20 30 hello 40 50 abcd'.split()\n",
    "\n",
    "sum([int(one_item)\n",
    "     for one_item in mylist\n",
    "     if one_item.isdigit()])"
   ]
  },
  {
   "cell_type": "code",
   "execution_count": 12,
   "id": "068d9d47",
   "metadata": {},
   "outputs": [
    {
     "ename": "TypeError",
     "evalue": "sequence item 0: expected str instance, int found",
     "output_type": "error",
     "traceback": [
      "\u001b[0;31m---------------------------------------------------------------------------\u001b[0m",
      "\u001b[0;31mTypeError\u001b[0m                                 Traceback (most recent call last)",
      "Cell \u001b[0;32mIn [12], line 6\u001b[0m\n\u001b[1;32m      1\u001b[0m \u001b[38;5;66;03m# let's say that I have a list of integers\u001b[39;00m\n\u001b[1;32m      2\u001b[0m \u001b[38;5;66;03m# I want to use str.join on them\u001b[39;00m\n\u001b[1;32m      4\u001b[0m mylist \u001b[38;5;241m=\u001b[39m [\u001b[38;5;241m10\u001b[39m, \u001b[38;5;241m20\u001b[39m, \u001b[38;5;241m30\u001b[39m]\n\u001b[0;32m----> 6\u001b[0m \u001b[38;5;124;43m'\u001b[39;49m\u001b[38;5;124;43m*\u001b[39;49m\u001b[38;5;124;43m'\u001b[39;49m\u001b[38;5;241;43m.\u001b[39;49m\u001b[43mjoin\u001b[49m\u001b[43m(\u001b[49m\u001b[43mmylist\u001b[49m\u001b[43m)\u001b[49m\n",
      "\u001b[0;31mTypeError\u001b[0m: sequence item 0: expected str instance, int found"
     ]
    }
   ],
   "source": [
    "# let's say that I have a list of integers\n",
    "# I want to use str.join on them\n",
    "\n",
    "mylist = [10, 20, 30]\n",
    "\n",
    "'*'.join(mylist)"
   ]
  },
  {
   "cell_type": "code",
   "execution_count": 13,
   "id": "38a81744",
   "metadata": {},
   "outputs": [
    {
     "data": {
      "text/plain": [
       "'10*20*30'"
      ]
     },
     "execution_count": 13,
     "metadata": {},
     "output_type": "execute_result"
    }
   ],
   "source": [
    "# I have a list of integers\n",
    "# I want a list of strings\n",
    "# I can convert each int to a string with str()\n",
    "\n",
    "'*'.join([str(one_item)\n",
    "          for one_item in mylist])"
   ]
  },
  {
   "cell_type": "code",
   "execution_count": null,
   "id": "0b8c52f9",
   "metadata": {},
   "outputs": [],
   "source": []
  }
 ],
 "metadata": {
  "kernelspec": {
   "display_name": "Python 3 (ipykernel)",
   "language": "python",
   "name": "python3"
  },
  "language_info": {
   "codemirror_mode": {
    "name": "ipython",
    "version": 3
   },
   "file_extension": ".py",
   "mimetype": "text/x-python",
   "name": "python",
   "nbconvert_exporter": "python",
   "pygments_lexer": "ipython3",
   "version": "3.11.0"
  }
 },
 "nbformat": 4,
 "nbformat_minor": 5
}
