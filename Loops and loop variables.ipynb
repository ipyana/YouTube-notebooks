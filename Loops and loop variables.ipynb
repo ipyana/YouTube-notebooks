{
 "cells": [
  {
   "cell_type": "code",
   "execution_count": 1,
   "id": "1ea9b241",
   "metadata": {},
   "outputs": [
    {
     "name": "stdout",
     "output_type": "stream",
     "text": [
      "a\n",
      "b\n",
      "c\n",
      "d\n"
     ]
    }
   ],
   "source": [
    "s = 'abcd'\n",
    "\n",
    "# print all of the letters in s!\n",
    "print(s[0])\n",
    "print(s[1])\n",
    "print(s[2])\n",
    "print(s[3])"
   ]
  },
  {
   "cell_type": "code",
   "execution_count": 3,
   "id": "42fc108e",
   "metadata": {},
   "outputs": [
    {
     "name": "stdout",
     "output_type": "stream",
     "text": [
      "a\n",
      "b\n",
      "c\n",
      "d\n",
      "After everything, one_letter = d\n"
     ]
    }
   ],
   "source": [
    "# this code violates the rule of DRY -- don't repeat yourself!\n",
    "\n",
    "# for loop says: let's repeat the same code a number of times, with slight variation each time\n",
    "# what's the variation? Each time, we'll get a different character from s, our string\n",
    "\n",
    "s = 'abcd'\n",
    "\n",
    "one_letter = 'z'\n",
    "\n",
    "for one_letter in s:    # nope -- nothing more to give you\n",
    "    print(one_letter)\n",
    "    \n",
    "print(f'After everything, one_letter = {one_letter}')    "
   ]
  },
  {
   "cell_type": "code",
   "execution_count": 4,
   "id": "e4d24ce8",
   "metadata": {},
   "outputs": [
    {
     "name": "stdout",
     "output_type": "stream",
     "text": [
      "10\n",
      "20\n",
      "30\n"
     ]
    }
   ],
   "source": [
    "for one_item in [10, 20, 30]:   # nothing more to give you\n",
    "    print(one_item)"
   ]
  },
  {
   "cell_type": "code",
   "execution_count": 5,
   "id": "a60084d3",
   "metadata": {},
   "outputs": [
    {
     "name": "stdout",
     "output_type": "stream",
     "text": [
      "3 16 3 76 71 18 2 70 18 3 59 50 54 72 62 64 70 61 71 70 70 72 56 66 62 67 52 63 60 69 58 50 50 54 66 67 59 63 64 61 62 61 62 61 55 55 74 53 65 65 55 56 50 56 88 66 61 70 81 65 62 56 75 65 54 64 75 72 85 72 67 53 55 69 77 74 94 85 97 73 84 68 71 70 63 55 82 74 64 66 76 55 78 80 56 63 82 76 63 55 69 61 99 73 55 63 79 100 57 83 62 77 104 55 67 65 89 60 51 53 "
     ]
    }
   ],
   "source": [
    "for one_line in open('/etc/passwd'):  # 3rd line assigned to one_line\n",
    "    print(len(one_line), end=' ')   # don't go down one line after printing"
   ]
  },
  {
   "cell_type": "markdown",
   "id": "051fcfeb",
   "metadata": {},
   "source": [
    "# What do we get when we iterate?\n",
    "\n",
    "- String - characters (really strings of length 1)\n",
    "- List -- elements of the list\n",
    "- Tuple -- elements of the tuple\n",
    "- Dictionary -- the keys\n",
    "- `dict.items()` -- a tuple with each key-value\n",
    "- File -- the lines of the file"
   ]
  },
  {
   "cell_type": "code",
   "execution_count": 6,
   "id": "b7d9452a",
   "metadata": {},
   "outputs": [
    {
     "name": "stdout",
     "output_type": "stream",
     "text": [
      "a\n",
      "b\n",
      "c\n",
      "d\n"
     ]
    }
   ],
   "source": [
    "s = 'abcd'\n",
    "\n",
    "for one_letter in s:   \n",
    "    print(one_letter)"
   ]
  },
  {
   "cell_type": "code",
   "execution_count": 7,
   "id": "267ebb88",
   "metadata": {},
   "outputs": [
    {
     "name": "stdout",
     "output_type": "stream",
     "text": [
      "a\n",
      "b\n",
      "c\n",
      "d\n"
     ]
    }
   ],
   "source": [
    "s = 'abcd'\n",
    "\n",
    "i = 0\n",
    "one_letter = s[i]\n",
    "print(one_letter)\n",
    "\n",
    "i = 1\n",
    "one_letter = s[i]\n",
    "print(one_letter)\n",
    "\n",
    "i = 2\n",
    "one_letter = s[i]\n",
    "print(one_letter)\n",
    "\n",
    "i = 3\n",
    "one_letter = s[i]\n",
    "print(one_letter)"
   ]
  },
  {
   "cell_type": "code",
   "execution_count": null,
   "id": "535b9d30",
   "metadata": {},
   "outputs": [],
   "source": [
    "s = 'abcd'\n",
    "\n",
    "for one_letter in s:   \n",
    "    print(one_letter)"
   ]
  },
  {
   "cell_type": "code",
   "execution_count": 8,
   "id": "1ee24aab",
   "metadata": {},
   "outputs": [
    {
     "name": "stdout",
     "output_type": "stream",
     "text": [
      "a\n",
      "b\n",
      "c\n",
      "d\n"
     ]
    }
   ],
   "source": [
    "# how can I iterate over s, using the length/index?\n",
    "\n",
    "for i in range(len(s)):   # no more; loop ends\n",
    "    print(s[i])"
   ]
  },
  {
   "cell_type": "code",
   "execution_count": null,
   "id": "118fd346",
   "metadata": {},
   "outputs": [],
   "source": []
  }
 ],
 "metadata": {
  "kernelspec": {
   "display_name": "Python 3 (ipykernel)",
   "language": "python",
   "name": "python3"
  },
  "language_info": {
   "codemirror_mode": {
    "name": "ipython",
    "version": 3
   },
   "file_extension": ".py",
   "mimetype": "text/x-python",
   "name": "python",
   "nbconvert_exporter": "python",
   "pygments_lexer": "ipython3",
   "version": "3.10.2"
  }
 },
 "nbformat": 4,
 "nbformat_minor": 5
}
