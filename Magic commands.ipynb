{
 "cells": [
  {
   "cell_type": "code",
   "execution_count": 2,
   "id": "93fa3fb7",
   "metadata": {},
   "outputs": [
    {
     "name": "stdout",
     "output_type": "stream",
     "text": [
      "Hello!\n"
     ]
    }
   ],
   "source": [
    "print('Hello!')"
   ]
  },
  {
   "cell_type": "code",
   "execution_count": 3,
   "id": "2572c1ba",
   "metadata": {},
   "outputs": [],
   "source": [
    "x = 100\n",
    "y = [10, 20, 30]\n",
    "z = {'a':10, 'b':20, 'c':30}\n",
    "\n",
    "def hello(name):\n",
    "    return f'Hello, {name}!'"
   ]
  },
  {
   "cell_type": "code",
   "execution_count": 4,
   "id": "09d844c3",
   "metadata": {},
   "outputs": [
    {
     "name": "stdout",
     "output_type": "stream",
     "text": [
      "hello\t x\t y\t z\t \n"
     ]
    }
   ],
   "source": [
    "%who"
   ]
  },
  {
   "cell_type": "code",
   "execution_count": 5,
   "id": "b6288161",
   "metadata": {},
   "outputs": [],
   "source": [
    "import random"
   ]
  },
  {
   "cell_type": "code",
   "execution_count": 6,
   "id": "5c78946f",
   "metadata": {},
   "outputs": [
    {
     "name": "stdout",
     "output_type": "stream",
     "text": [
      "hello\t random\t x\t y\t z\t \n"
     ]
    }
   ],
   "source": [
    "%who"
   ]
  },
  {
   "cell_type": "code",
   "execution_count": 7,
   "id": "e18c9137",
   "metadata": {},
   "outputs": [
    {
     "name": "stdout",
     "output_type": "stream",
     "text": [
      "x\t \n"
     ]
    }
   ],
   "source": [
    "%who int"
   ]
  },
  {
   "cell_type": "code",
   "execution_count": 8,
   "id": "521384d2",
   "metadata": {},
   "outputs": [
    {
     "name": "stdout",
     "output_type": "stream",
     "text": [
      "x\t y\t \n"
     ]
    }
   ],
   "source": [
    "%who int list"
   ]
  },
  {
   "cell_type": "code",
   "execution_count": 9,
   "id": "ee25a5df",
   "metadata": {},
   "outputs": [
    {
     "data": {
      "text/plain": [
       "['hello', 'random', 'x', 'y', 'z']"
      ]
     },
     "execution_count": 9,
     "metadata": {},
     "output_type": "execute_result"
    }
   ],
   "source": [
    "%who_ls"
   ]
  },
  {
   "cell_type": "code",
   "execution_count": 10,
   "id": "e7e27ce0",
   "metadata": {},
   "outputs": [],
   "source": [
    "variable_names = %who_ls"
   ]
  },
  {
   "cell_type": "code",
   "execution_count": 11,
   "id": "7efbb8bb",
   "metadata": {},
   "outputs": [
    {
     "data": {
      "text/plain": [
       "['hello', 'random', 'x', 'y', 'z']"
      ]
     },
     "execution_count": 11,
     "metadata": {},
     "output_type": "execute_result"
    }
   ],
   "source": [
    "variable_names"
   ]
  },
  {
   "cell_type": "code",
   "execution_count": 12,
   "id": "246fb102",
   "metadata": {},
   "outputs": [],
   "source": [
    "variable_names = %who_ls int"
   ]
  },
  {
   "cell_type": "code",
   "execution_count": 13,
   "id": "6e81e967",
   "metadata": {},
   "outputs": [
    {
     "data": {
      "text/plain": [
       "['x']"
      ]
     },
     "execution_count": 13,
     "metadata": {},
     "output_type": "execute_result"
    }
   ],
   "source": [
    "variable_names"
   ]
  },
  {
   "cell_type": "code",
   "execution_count": 14,
   "id": "ae47a2c6",
   "metadata": {},
   "outputs": [],
   "source": [
    "variable_names = %who_ls int dict"
   ]
  },
  {
   "cell_type": "code",
   "execution_count": 15,
   "id": "55252ad8",
   "metadata": {},
   "outputs": [
    {
     "data": {
      "text/plain": [
       "['x', 'z']"
      ]
     },
     "execution_count": 15,
     "metadata": {},
     "output_type": "execute_result"
    }
   ],
   "source": [
    "variable_names"
   ]
  },
  {
   "cell_type": "code",
   "execution_count": 16,
   "id": "564ebc12",
   "metadata": {},
   "outputs": [
    {
     "name": "stdout",
     "output_type": "stream",
     "text": [
      "hello\t \n"
     ]
    }
   ],
   "source": [
    "%who function"
   ]
  },
  {
   "cell_type": "code",
   "execution_count": 17,
   "id": "dc3109c7",
   "metadata": {},
   "outputs": [
    {
     "name": "stdout",
     "output_type": "stream",
     "text": [
      "Variable         Type        Data/Info\n",
      "--------------------------------------\n",
      "hello            function    <function hello at 0x1316eeb60>\n",
      "random           module      <module 'random' from '/u<...>ib/python3.11/random.py'>\n",
      "variable_names   list        n=2\n",
      "x                int         100\n",
      "y                list        n=3\n",
      "z                dict        n=3\n"
     ]
    }
   ],
   "source": [
    "%whos"
   ]
  },
  {
   "cell_type": "code",
   "execution_count": 18,
   "id": "9c872b77",
   "metadata": {},
   "outputs": [
    {
     "name": "stdout",
     "output_type": "stream",
     "text": [
      "Variable   Type    Data/Info\n",
      "----------------------------\n",
      "x          int     100\n"
     ]
    }
   ],
   "source": [
    "%whos int"
   ]
  },
  {
   "cell_type": "code",
   "execution_count": 19,
   "id": "cbcca18b",
   "metadata": {},
   "outputs": [
    {
     "name": "stdout",
     "output_type": "stream",
     "text": [
      "No variables match your requested type.\n"
     ]
    }
   ],
   "source": [
    "%whos str"
   ]
  },
  {
   "cell_type": "code",
   "execution_count": 20,
   "id": "9ada7e81",
   "metadata": {},
   "outputs": [
    {
     "name": "stdout",
     "output_type": "stream",
     "text": [
      "Variable   Type        Data/Info\n",
      "--------------------------------\n",
      "hello      function    <function hello at 0x1316eeb60>\n"
     ]
    }
   ],
   "source": [
    "%whos function"
   ]
  },
  {
   "cell_type": "code",
   "execution_count": 21,
   "id": "0a64f247",
   "metadata": {},
   "outputs": [
    {
     "name": "stdout",
     "output_type": "stream",
     "text": [
      "Once deleted, variables cannot be recovered. Proceed (y/[n])? y\n"
     ]
    }
   ],
   "source": [
    "%reset"
   ]
  },
  {
   "cell_type": "code",
   "execution_count": 22,
   "id": "5107c8b9",
   "metadata": {},
   "outputs": [
    {
     "name": "stdout",
     "output_type": "stream",
     "text": [
      "Interactive namespace is empty.\n"
     ]
    }
   ],
   "source": [
    "%whos"
   ]
  },
  {
   "cell_type": "code",
   "execution_count": 23,
   "id": "99e475e8",
   "metadata": {},
   "outputs": [
    {
     "data": {
      "text/plain": [
       "['',\n",
       " \"get_ipython().run_line_magic('autosave', '30')\",\n",
       " \"print('Hello!')\",\n",
       " \"x = 100\\ny = [10, 20, 30]\\nz = {'a':10, 'b':20, 'c':30}\\n\\ndef hello(name):\\n    return f'Hello, {name}!'\",\n",
       " \"get_ipython().run_line_magic('who', '')\",\n",
       " 'import random',\n",
       " \"get_ipython().run_line_magic('who', '')\",\n",
       " \"get_ipython().run_line_magic('who', 'int')\",\n",
       " \"get_ipython().run_line_magic('who', 'int list')\",\n",
       " \"get_ipython().run_line_magic('who_ls', '')\",\n",
       " \"variable_names = get_ipython().run_line_magic('who_ls', '')\",\n",
       " 'variable_names',\n",
       " \"variable_names = get_ipython().run_line_magic('who_ls', 'int')\",\n",
       " 'variable_names',\n",
       " \"variable_names = get_ipython().run_line_magic('who_ls', 'int dict')\",\n",
       " 'variable_names',\n",
       " \"get_ipython().run_line_magic('who', 'function')\",\n",
       " \"get_ipython().run_line_magic('whos', '')\",\n",
       " \"get_ipython().run_line_magic('whos', 'int')\",\n",
       " \"get_ipython().run_line_magic('whos', 'str')\",\n",
       " \"get_ipython().run_line_magic('whos', 'function')\",\n",
       " \"get_ipython().run_line_magic('reset', '')\",\n",
       " \"get_ipython().run_line_magic('whos', '')\",\n",
       " 'In']"
      ]
     },
     "execution_count": 23,
     "metadata": {},
     "output_type": "execute_result"
    }
   ],
   "source": [
    "In"
   ]
  },
  {
   "cell_type": "code",
   "execution_count": 24,
   "id": "7fe34d20",
   "metadata": {},
   "outputs": [
    {
     "data": {
      "text/plain": [
       "{23: ['',\n",
       "  \"get_ipython().run_line_magic('autosave', '30')\",\n",
       "  \"print('Hello!')\",\n",
       "  \"x = 100\\ny = [10, 20, 30]\\nz = {'a':10, 'b':20, 'c':30}\\n\\ndef hello(name):\\n    return f'Hello, {name}!'\",\n",
       "  \"get_ipython().run_line_magic('who', '')\",\n",
       "  'import random',\n",
       "  \"get_ipython().run_line_magic('who', '')\",\n",
       "  \"get_ipython().run_line_magic('who', 'int')\",\n",
       "  \"get_ipython().run_line_magic('who', 'int list')\",\n",
       "  \"get_ipython().run_line_magic('who_ls', '')\",\n",
       "  \"variable_names = get_ipython().run_line_magic('who_ls', '')\",\n",
       "  'variable_names',\n",
       "  \"variable_names = get_ipython().run_line_magic('who_ls', 'int')\",\n",
       "  'variable_names',\n",
       "  \"variable_names = get_ipython().run_line_magic('who_ls', 'int dict')\",\n",
       "  'variable_names',\n",
       "  \"get_ipython().run_line_magic('who', 'function')\",\n",
       "  \"get_ipython().run_line_magic('whos', '')\",\n",
       "  \"get_ipython().run_line_magic('whos', 'int')\",\n",
       "  \"get_ipython().run_line_magic('whos', 'str')\",\n",
       "  \"get_ipython().run_line_magic('whos', 'function')\",\n",
       "  \"get_ipython().run_line_magic('reset', '')\",\n",
       "  \"get_ipython().run_line_magic('whos', '')\",\n",
       "  'In',\n",
       "  'Out']}"
      ]
     },
     "execution_count": 24,
     "metadata": {},
     "output_type": "execute_result"
    }
   ],
   "source": [
    "Out"
   ]
  },
  {
   "cell_type": "code",
   "execution_count": 25,
   "id": "22d81bc8",
   "metadata": {},
   "outputs": [
    {
     "name": "stdout",
     "output_type": "stream",
     "text": [
      "Once deleted, variables cannot be recovered. Proceed (y/[n])? y\n",
      "Flushing input history\n",
      "Flushing output cache (1 entries)\n"
     ]
    }
   ],
   "source": [
    "%reset in out"
   ]
  },
  {
   "cell_type": "code",
   "execution_count": 26,
   "id": "c8eb95b6",
   "metadata": {},
   "outputs": [
    {
     "data": {
      "text/plain": [
       "['',\n",
       " '',\n",
       " '',\n",
       " '',\n",
       " '',\n",
       " '',\n",
       " '',\n",
       " '',\n",
       " '',\n",
       " '',\n",
       " '',\n",
       " '',\n",
       " '',\n",
       " '',\n",
       " '',\n",
       " '',\n",
       " '',\n",
       " '',\n",
       " '',\n",
       " '',\n",
       " '',\n",
       " '',\n",
       " '',\n",
       " '',\n",
       " '',\n",
       " '',\n",
       " 'In']"
      ]
     },
     "execution_count": 26,
     "metadata": {},
     "output_type": "execute_result"
    }
   ],
   "source": [
    "In"
   ]
  },
  {
   "cell_type": "code",
   "execution_count": 27,
   "id": "0ec6d29f",
   "metadata": {},
   "outputs": [
    {
     "data": {
      "text/plain": [
       "{26: ['',\n",
       "  '',\n",
       "  '',\n",
       "  '',\n",
       "  '',\n",
       "  '',\n",
       "  '',\n",
       "  '',\n",
       "  '',\n",
       "  '',\n",
       "  '',\n",
       "  '',\n",
       "  '',\n",
       "  '',\n",
       "  '',\n",
       "  '',\n",
       "  '',\n",
       "  '',\n",
       "  '',\n",
       "  '',\n",
       "  '',\n",
       "  '',\n",
       "  '',\n",
       "  '',\n",
       "  '',\n",
       "  '',\n",
       "  'In',\n",
       "  'Out']}"
      ]
     },
     "execution_count": 27,
     "metadata": {},
     "output_type": "execute_result"
    }
   ],
   "source": [
    "Out"
   ]
  },
  {
   "cell_type": "code",
   "execution_count": 28,
   "id": "c18d452f",
   "metadata": {},
   "outputs": [],
   "source": [
    "first_name = 'Reuven'\n",
    "last_name = 'Lerner'\n",
    "url = 'https://lerner.co.il'\n"
   ]
  },
  {
   "cell_type": "code",
   "execution_count": 29,
   "id": "9b2262a7",
   "metadata": {},
   "outputs": [
    {
     "name": "stdout",
     "output_type": "stream",
     "text": [
      "Once deleted, variables cannot be recovered. Proceed (y/[n])?  y\n"
     ]
    }
   ],
   "source": [
    "# use a regexp to remove some variable names\n",
    "%reset_selective .*name"
   ]
  },
  {
   "cell_type": "code",
   "execution_count": 30,
   "id": "429c3209",
   "metadata": {},
   "outputs": [
    {
     "name": "stdout",
     "output_type": "stream",
     "text": [
      "Variable   Type    Data/Info\n",
      "----------------------------\n",
      "url        str     https://lerner.co.il\n"
     ]
    }
   ],
   "source": [
    "%whos"
   ]
  },
  {
   "cell_type": "code",
   "execution_count": 31,
   "id": "3352534a",
   "metadata": {},
   "outputs": [],
   "source": [
    "first_name = 'Reuven'\n",
    "last_name = 'Lerner'\n",
    "url = 'https://lerner.co.il'\n"
   ]
  },
  {
   "cell_type": "code",
   "execution_count": 32,
   "id": "0a3e48b3",
   "metadata": {},
   "outputs": [],
   "source": [
    "# if I want to search through variable names, I can use %psearch\n",
    "# here, it's *not* a regexp, but rather a glob-like expression\n",
    "\n",
    "%psearch *name"
   ]
  },
  {
   "cell_type": "code",
   "execution_count": 34,
   "id": "ad501220",
   "metadata": {},
   "outputs": [],
   "source": [
    "%psearch -i *Name"
   ]
  },
  {
   "cell_type": "code",
   "execution_count": null,
   "id": "bc46a5f5",
   "metadata": {},
   "outputs": [],
   "source": []
  }
 ],
 "metadata": {
  "kernelspec": {
   "display_name": "Python 3 (ipykernel)",
   "language": "python",
   "name": "python3"
  },
  "language_info": {
   "codemirror_mode": {
    "name": "ipython",
    "version": 3
   },
   "file_extension": ".py",
   "mimetype": "text/x-python",
   "name": "python",
   "nbconvert_exporter": "python",
   "pygments_lexer": "ipython3",
   "version": "3.11.3"
  }
 },
 "nbformat": 4,
 "nbformat_minor": 5
}
