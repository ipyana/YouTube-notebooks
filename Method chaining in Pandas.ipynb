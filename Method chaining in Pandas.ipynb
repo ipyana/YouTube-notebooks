{
 "cells": [
  {
   "cell_type": "markdown",
   "id": "c388b1c0-3277-497e-9750-abce627acf0a",
   "metadata": {},
   "source": [
    "# Method chaining in Pandas\n",
    "\n"
   ]
  },
  {
   "cell_type": "code",
   "execution_count": 1,
   "id": "9da07a10-1635-45a0-b7d7-c98125d51246",
   "metadata": {},
   "outputs": [
    {
     "data": {
      "text/plain": [
       "'Abcde Fghij'"
      ]
     },
     "execution_count": 1,
     "metadata": {},
     "output_type": "execute_result"
    }
   ],
   "source": [
    "# method chaining in Python\n",
    "\n",
    "s = 'abcde fghij'\n",
    "\n",
    "s.title()    # call a method on s, and I get a new string back \n"
   ]
  },
  {
   "cell_type": "code",
   "execution_count": 2,
   "id": "00811a25-f46b-4a48-9225-d3e14e4d147f",
   "metadata": {},
   "outputs": [
    {
     "data": {
      "text/plain": [
       "['Abcde', 'Fghij']"
      ]
     },
     "execution_count": 2,
     "metadata": {},
     "output_type": "execute_result"
    }
   ],
   "source": [
    "# what if, after capitalizing each word, I then want to get a list of strings (words) back?\n",
    "\n",
    "s.title().split()   # this is method chaining!"
   ]
  },
  {
   "cell_type": "code",
   "execution_count": 3,
   "id": "d46941ab-32be-4f93-8d9a-04ae25724947",
   "metadata": {},
   "outputs": [
    {
     "ename": "SyntaxError",
     "evalue": "invalid syntax (4287639807.py, line 5)",
     "output_type": "error",
     "traceback": [
      "\u001b[1;36m  Cell \u001b[1;32mIn[3], line 5\u001b[1;36m\u001b[0m\n\u001b[1;33m    .title()\u001b[0m\n\u001b[1;37m    ^\u001b[0m\n\u001b[1;31mSyntaxError\u001b[0m\u001b[1;31m:\u001b[0m invalid syntax\n"
     ]
    }
   ],
   "source": [
    "# sometimes, a method chain can be a bit long and/or complicated\n",
    "# how can I break it up across lines, to be more readable?\n",
    "\n",
    "s\n",
    ".title()\n",
    ".split()\n"
   ]
  },
  {
   "cell_type": "code",
   "execution_count": 5,
   "id": "40c2bce5-a098-4f9a-aa91-8222128a786d",
   "metadata": {},
   "outputs": [
    {
     "data": {
      "text/plain": [
       "['Abcde', 'Fghij']"
      ]
     },
     "execution_count": 5,
     "metadata": {},
     "output_type": "execute_result"
    }
   ],
   "source": [
    "# but we can take advantage of Python's syntax with ()\n",
    "\n",
    "(\n",
    "    s\n",
    "    .title()    # make each word start with a capital letter\n",
    "    .split()    # get back a list of words, one word per string\n",
    ")"
   ]
  },
  {
   "cell_type": "code",
   "execution_count": 6,
   "id": "7bb2e03f-9b71-443a-b41c-1a9fbcee6e40",
   "metadata": {},
   "outputs": [],
   "source": [
    "import numpy as np\n",
    "import pandas as pd\n",
    "from pandas import Series, DataFrame"
   ]
  },
  {
   "cell_type": "code",
   "execution_count": 7,
   "id": "15eeb21d-3811-4c72-881b-d68eeee2b005",
   "metadata": {},
   "outputs": [
    {
     "data": {
      "text/plain": [
       "a    44\n",
       "b    47\n",
       "c    64\n",
       "d    67\n",
       "e    67\n",
       "f     9\n",
       "g    83\n",
       "h    21\n",
       "i    36\n",
       "j    87\n",
       "dtype: int64"
      ]
     },
     "execution_count": 7,
     "metadata": {},
     "output_type": "execute_result"
    }
   ],
   "source": [
    "# new series of random integers 0-100\n",
    "\n",
    "np.random.seed(0)\n",
    "s = Series(np.random.randint(0, 100, 10),\n",
    "           index=list('abcdefghij'))\n",
    "s"
   ]
  },
  {
   "cell_type": "code",
   "execution_count": 10,
   "id": "d7916a3c-2cf0-473e-ab56-808a9026b2e3",
   "metadata": {},
   "outputs": [
    {
     "data": {
      "text/plain": [
       "b    47\n",
       "d    67\n",
       "e    67\n",
       "f     9\n",
       "g    83\n",
       "h    21\n",
       "j    87\n",
       "dtype: int64"
      ]
     },
     "execution_count": 10,
     "metadata": {},
     "output_type": "execute_result"
    }
   ],
   "source": [
    "# how can I get all of the odd numbers from this series?\n",
    "\n",
    "s.loc[s % 2 == 1]    # .loc takes a row (element) selector -- here, we're giving it a boolean series (mask index)"
   ]
  },
  {
   "cell_type": "code",
   "execution_count": 11,
   "id": "31b41569-51b3-4dd1-80fd-a7bc1bc4bbcd",
   "metadata": {},
   "outputs": [
    {
     "data": {
      "text/plain": [
       "b    47\n",
       "d    67\n",
       "e    67\n",
       "f     9\n",
       "g    83\n",
       "dtype: int64"
      ]
     },
     "execution_count": 11,
     "metadata": {},
     "output_type": "execute_result"
    }
   ],
   "source": [
    "# what if I only want the first 5 odd numbers from s?\n",
    "\n",
    "(\n",
    "    s\n",
    "    .loc[s % 2 == 1]\n",
    "    .head(5) \n",
    ")"
   ]
  },
  {
   "cell_type": "code",
   "execution_count": 12,
   "id": "0634b3d3-abcb-4845-ac51-428ad6bffd27",
   "metadata": {},
   "outputs": [
    {
     "data": {
      "text/plain": [
       "0              this\n",
       "1                is\n",
       "2                 a\n",
       "3         fantastic\n",
       "4               and\n",
       "5          exciting\n",
       "6               and\n",
       "7         wonderful\n",
       "8               and\n",
       "9          terrific\n",
       "10         sentence\n",
       "11              for\n",
       "12    demonstrating\n",
       "13         chaining\n",
       "dtype: object"
      ]
     },
     "execution_count": 12,
     "metadata": {},
     "output_type": "execute_result"
    }
   ],
   "source": [
    "# let's create a series of strings\n",
    "\n",
    "s = Series('this is a fantastic and exciting and wonderful and terrific sentence for demonstrating chaining'.split())\n",
    "s"
   ]
  },
  {
   "cell_type": "code",
   "execution_count": 13,
   "id": "ad0b881c-8239-4a6b-aae0-e25f825dd438",
   "metadata": {},
   "outputs": [
    {
     "data": {
      "text/plain": [
       "0      4\n",
       "1      2\n",
       "2      1\n",
       "3      9\n",
       "4      3\n",
       "5      8\n",
       "6      3\n",
       "7      9\n",
       "8      3\n",
       "9      8\n",
       "10     8\n",
       "11     3\n",
       "12    13\n",
       "13     8\n",
       "dtype: int64"
      ]
     },
     "execution_count": 13,
     "metadata": {},
     "output_type": "execute_result"
    }
   ],
   "source": [
    "# how can I get the length of each word? .str.len()\n",
    "\n",
    "s.str.len()"
   ]
  },
  {
   "cell_type": "code",
   "execution_count": 15,
   "id": "46e43347-479c-49cd-abbb-2428b64e4555",
   "metadata": {},
   "outputs": [
    {
     "data": {
      "text/plain": [
       "0              this\n",
       "3         fantastic\n",
       "5          exciting\n",
       "7         wonderful\n",
       "9          terrific\n",
       "10         sentence\n",
       "12    demonstrating\n",
       "13         chaining\n",
       "dtype: object"
      ]
     },
     "execution_count": 15,
     "metadata": {},
     "output_type": "execute_result"
    }
   ],
   "source": [
    "# what if I want all of the words that are >= 4 in length?\n",
    "\n",
    "s.loc[s.str.len() >= 4]"
   ]
  },
  {
   "cell_type": "code",
   "execution_count": 16,
   "id": "b363a117-68be-49a2-a4a6-c81511d11036",
   "metadata": {},
   "outputs": [],
   "source": [
    "# what if I now want only those words in which we have at least 3 vowels?\n",
    "\n",
    "def count_vowels(one_word):\n",
    "    total = 0\n",
    "    for one_character in one_word:\n",
    "        if one_character in 'aeiou':\n",
    "            total += 1\n",
    "    return total"
   ]
  },
  {
   "cell_type": "code",
   "execution_count": 17,
   "id": "5b2ca0c6-09ad-434b-b740-f256ae78b173",
   "metadata": {},
   "outputs": [
    {
     "data": {
      "text/plain": [
       "0     1\n",
       "1     1\n",
       "2     1\n",
       "3     3\n",
       "4     1\n",
       "5     3\n",
       "6     1\n",
       "7     3\n",
       "8     1\n",
       "9     3\n",
       "10    3\n",
       "11    1\n",
       "12    4\n",
       "13    3\n",
       "dtype: int64"
      ]
     },
     "execution_count": 17,
     "metadata": {},
     "output_type": "execute_result"
    }
   ],
   "source": [
    "s.apply(count_vowels)"
   ]
  },
  {
   "cell_type": "code",
   "execution_count": 20,
   "id": "92f6f6e0-fdf9-4166-98b3-339f7f46d066",
   "metadata": {},
   "outputs": [
    {
     "data": {
      "text/plain": [
       "3         fantastic\n",
       "5          exciting\n",
       "7         wonderful\n",
       "9          terrific\n",
       "10         sentence\n",
       "12    demonstrating\n",
       "13         chaining\n",
       "dtype: object"
      ]
     },
     "execution_count": 20,
     "metadata": {},
     "output_type": "execute_result"
    }
   ],
   "source": [
    "# I want to find all of the words that are (a) >= 4 in length and (b) have at least 3 vowels\n",
    "\n",
    "(\n",
    "    s\n",
    "    .loc[s.str.len() >= 4]\n",
    "    .loc[lambda s_: s_.apply(count_vowels) >= 3]   # s_ is a local variable, temporarily assigned in our function\n",
    ")"
   ]
  },
  {
   "cell_type": "code",
   "execution_count": 23,
   "id": "f5af825e-5f09-43e9-b1b6-b7118f98c91b",
   "metadata": {},
   "outputs": [],
   "source": [
    "df = pd.read_csv('/Users/reuven/Courses/Current/data/nyc_taxi_2019-01.csv',\n",
    "                usecols=['passenger_count', 'total_amount', 'trip_distance'])"
   ]
  },
  {
   "cell_type": "code",
   "execution_count": 25,
   "id": "bec65618-3e7b-472f-8632-7f4a99603938",
   "metadata": {},
   "outputs": [
    {
     "data": {
      "text/html": [
       "<div>\n",
       "<style scoped>\n",
       "    .dataframe tbody tr th:only-of-type {\n",
       "        vertical-align: middle;\n",
       "    }\n",
       "\n",
       "    .dataframe tbody tr th {\n",
       "        vertical-align: top;\n",
       "    }\n",
       "\n",
       "    .dataframe thead th {\n",
       "        text-align: right;\n",
       "    }\n",
       "</style>\n",
       "<table border=\"1\" class=\"dataframe\">\n",
       "  <thead>\n",
       "    <tr style=\"text-align: right;\">\n",
       "      <th></th>\n",
       "      <th>passenger_count</th>\n",
       "      <th>trip_distance</th>\n",
       "      <th>total_amount</th>\n",
       "    </tr>\n",
       "  </thead>\n",
       "  <tbody>\n",
       "    <tr>\n",
       "      <th>28869</th>\n",
       "      <td>6</td>\n",
       "      <td>40.77</td>\n",
       "      <td>168.80</td>\n",
       "    </tr>\n",
       "    <tr>\n",
       "      <th>49225</th>\n",
       "      <td>8</td>\n",
       "      <td>5.08</td>\n",
       "      <td>109.56</td>\n",
       "    </tr>\n",
       "    <tr>\n",
       "      <th>64401</th>\n",
       "      <td>6</td>\n",
       "      <td>21.24</td>\n",
       "      <td>113.64</td>\n",
       "    </tr>\n",
       "    <tr>\n",
       "      <th>71391</th>\n",
       "      <td>6</td>\n",
       "      <td>31.10</td>\n",
       "      <td>104.47</td>\n",
       "    </tr>\n",
       "    <tr>\n",
       "      <th>73967</th>\n",
       "      <td>6</td>\n",
       "      <td>24.58</td>\n",
       "      <td>126.96</td>\n",
       "    </tr>\n",
       "    <tr>\n",
       "      <th>...</th>\n",
       "      <td>...</td>\n",
       "      <td>...</td>\n",
       "      <td>...</td>\n",
       "    </tr>\n",
       "    <tr>\n",
       "      <th>7516689</th>\n",
       "      <td>6</td>\n",
       "      <td>21.30</td>\n",
       "      <td>114.24</td>\n",
       "    </tr>\n",
       "    <tr>\n",
       "      <th>7566742</th>\n",
       "      <td>6</td>\n",
       "      <td>44.58</td>\n",
       "      <td>238.80</td>\n",
       "    </tr>\n",
       "    <tr>\n",
       "      <th>7649986</th>\n",
       "      <td>6</td>\n",
       "      <td>30.72</td>\n",
       "      <td>124.56</td>\n",
       "    </tr>\n",
       "    <tr>\n",
       "      <th>7655036</th>\n",
       "      <td>6</td>\n",
       "      <td>31.14</td>\n",
       "      <td>110.08</td>\n",
       "    </tr>\n",
       "    <tr>\n",
       "      <th>7663770</th>\n",
       "      <td>6</td>\n",
       "      <td>25.13</td>\n",
       "      <td>105.10</td>\n",
       "    </tr>\n",
       "  </tbody>\n",
       "</table>\n",
       "<p>169 rows × 3 columns</p>\n",
       "</div>"
      ],
      "text/plain": [
       "         passenger_count  trip_distance  total_amount\n",
       "28869                  6          40.77        168.80\n",
       "49225                  8           5.08        109.56\n",
       "64401                  6          21.24        113.64\n",
       "71391                  6          31.10        104.47\n",
       "73967                  6          24.58        126.96\n",
       "...                  ...            ...           ...\n",
       "7516689                6          21.30        114.24\n",
       "7566742                6          44.58        238.80\n",
       "7649986                6          30.72        124.56\n",
       "7655036                6          31.14        110.08\n",
       "7663770                6          25.13        105.10\n",
       "\n",
       "[169 rows x 3 columns]"
      ]
     },
     "execution_count": 25,
     "metadata": {},
     "output_type": "execute_result"
    }
   ],
   "source": [
    "# let's find all taxi trips in NYC where the passenger_count was > 5 and the total_amount\n",
    "# was > 100\n",
    "\n",
    "(\n",
    "    df\n",
    "    .loc[df['total_amount'] > 100]\n",
    "    .loc[df['passenger_count'] > 5]\n",
    ")"
   ]
  },
  {
   "cell_type": "code",
   "execution_count": 26,
   "id": "ddfd52ff-772f-451a-a97f-538e4f572dd0",
   "metadata": {},
   "outputs": [
    {
     "data": {
      "text/plain": [
       "0          6.633333\n",
       "1          6.269231\n",
       "2               inf\n",
       "3               inf\n",
       "4               inf\n",
       "             ...   \n",
       "7667787    4.835073\n",
       "7667788         NaN\n",
       "7667789         NaN\n",
       "7667790         NaN\n",
       "7667791         NaN\n",
       "Length: 7667792, dtype: float64"
      ]
     },
     "execution_count": 26,
     "metadata": {},
     "output_type": "execute_result"
    }
   ],
   "source": [
    "# what if I want to find out how much the person spent per mile?\n",
    "\n",
    "# I could assign it!\n",
    "# df['amount_per_mile'] = df['total_amount'] / df['trip_distance']"
   ]
  },
  {
   "cell_type": "code",
   "execution_count": 30,
   "id": "6583653f-3881-458b-845d-63d40322be7a",
   "metadata": {},
   "outputs": [
    {
     "data": {
      "text/html": [
       "<div>\n",
       "<style scoped>\n",
       "    .dataframe tbody tr th:only-of-type {\n",
       "        vertical-align: middle;\n",
       "    }\n",
       "\n",
       "    .dataframe tbody tr th {\n",
       "        vertical-align: top;\n",
       "    }\n",
       "\n",
       "    .dataframe thead th {\n",
       "        text-align: right;\n",
       "    }\n",
       "</style>\n",
       "<table border=\"1\" class=\"dataframe\">\n",
       "  <thead>\n",
       "    <tr style=\"text-align: right;\">\n",
       "      <th></th>\n",
       "      <th>passenger_count</th>\n",
       "      <th>trip_distance</th>\n",
       "      <th>total_amount</th>\n",
       "      <th>amount_per_mile</th>\n",
       "    </tr>\n",
       "  </thead>\n",
       "  <tbody>\n",
       "    <tr>\n",
       "      <th>0</th>\n",
       "      <td>1</td>\n",
       "      <td>1.50</td>\n",
       "      <td>9.95</td>\n",
       "      <td>6.633333</td>\n",
       "    </tr>\n",
       "    <tr>\n",
       "      <th>1</th>\n",
       "      <td>1</td>\n",
       "      <td>2.60</td>\n",
       "      <td>16.30</td>\n",
       "      <td>6.269231</td>\n",
       "    </tr>\n",
       "    <tr>\n",
       "      <th>2</th>\n",
       "      <td>3</td>\n",
       "      <td>0.00</td>\n",
       "      <td>5.80</td>\n",
       "      <td>inf</td>\n",
       "    </tr>\n",
       "    <tr>\n",
       "      <th>3</th>\n",
       "      <td>5</td>\n",
       "      <td>0.00</td>\n",
       "      <td>7.55</td>\n",
       "      <td>inf</td>\n",
       "    </tr>\n",
       "    <tr>\n",
       "      <th>4</th>\n",
       "      <td>5</td>\n",
       "      <td>0.00</td>\n",
       "      <td>55.55</td>\n",
       "      <td>inf</td>\n",
       "    </tr>\n",
       "    <tr>\n",
       "      <th>...</th>\n",
       "      <td>...</td>\n",
       "      <td>...</td>\n",
       "      <td>...</td>\n",
       "      <td>...</td>\n",
       "    </tr>\n",
       "    <tr>\n",
       "      <th>7667780</th>\n",
       "      <td>3</td>\n",
       "      <td>1.14</td>\n",
       "      <td>9.96</td>\n",
       "      <td>8.736842</td>\n",
       "    </tr>\n",
       "    <tr>\n",
       "      <th>7667781</th>\n",
       "      <td>3</td>\n",
       "      <td>1.89</td>\n",
       "      <td>10.80</td>\n",
       "      <td>5.714286</td>\n",
       "    </tr>\n",
       "    <tr>\n",
       "      <th>7667784</th>\n",
       "      <td>1</td>\n",
       "      <td>1.34</td>\n",
       "      <td>9.30</td>\n",
       "      <td>6.940299</td>\n",
       "    </tr>\n",
       "    <tr>\n",
       "      <th>7667785</th>\n",
       "      <td>1</td>\n",
       "      <td>1.45</td>\n",
       "      <td>14.16</td>\n",
       "      <td>9.765517</td>\n",
       "    </tr>\n",
       "    <tr>\n",
       "      <th>7667786</th>\n",
       "      <td>2</td>\n",
       "      <td>4.28</td>\n",
       "      <td>21.96</td>\n",
       "      <td>5.130841</td>\n",
       "    </tr>\n",
       "  </tbody>\n",
       "</table>\n",
       "<p>6156926 rows × 4 columns</p>\n",
       "</div>"
      ],
      "text/plain": [
       "         passenger_count  trip_distance  total_amount  amount_per_mile\n",
       "0                      1           1.50          9.95         6.633333\n",
       "1                      1           2.60         16.30         6.269231\n",
       "2                      3           0.00          5.80              inf\n",
       "3                      5           0.00          7.55              inf\n",
       "4                      5           0.00         55.55              inf\n",
       "...                  ...            ...           ...              ...\n",
       "7667780                3           1.14          9.96         8.736842\n",
       "7667781                3           1.89         10.80         5.714286\n",
       "7667784                1           1.34          9.30         6.940299\n",
       "7667785                1           1.45         14.16         9.765517\n",
       "7667786                2           4.28         21.96         5.130841\n",
       "\n",
       "[6156926 rows x 4 columns]"
      ]
     },
     "execution_count": 30,
     "metadata": {},
     "output_type": "execute_result"
    }
   ],
   "source": [
    "(\n",
    "    df\n",
    "    .assign(amount_per_mile = df['total_amount'] / df['trip_distance'])\n",
    "\n",
    "    # I want rows where amount_per_mile > 5\n",
    "    .loc[lambda df_: df_['amount_per_mile'] > 5]\n",
    ")"
   ]
  },
  {
   "cell_type": "code",
   "execution_count": null,
   "id": "3c7536ba-96ff-4682-bf3d-de8aa15a7ebb",
   "metadata": {},
   "outputs": [],
   "source": []
  }
 ],
 "metadata": {
  "kernelspec": {
   "display_name": "Python 3 (ipykernel)",
   "language": "python",
   "name": "python3"
  },
  "language_info": {
   "codemirror_mode": {
    "name": "ipython",
    "version": 3
   },
   "file_extension": ".py",
   "mimetype": "text/x-python",
   "name": "python",
   "nbconvert_exporter": "python",
   "pygments_lexer": "ipython3",
   "version": "3.12.1"
  }
 },
 "nbformat": 4,
 "nbformat_minor": 5
}
