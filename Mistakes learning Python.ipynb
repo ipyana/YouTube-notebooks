{
 "cells": [
  {
   "cell_type": "markdown",
   "id": "b5717f7c-376b-44f1-828e-22f06cbeedd7",
   "metadata": {},
   "source": [
    "# Five mistakes companies make teaching Python\n",
    "\n",
    "1. Our people already know C / Java / C# -- Python is easy, so they don't really need to learn it."
   ]
  },
  {
   "cell_type": "code",
   "execution_count": 5,
   "id": "edea2f53-5c08-4b0e-8e5e-82261ab4d898",
   "metadata": {},
   "outputs": [],
   "source": [
    "# if I'm in C\n",
    "\n",
    "x = 5; "
   ]
  },
  {
   "cell_type": "code",
   "execution_count": 6,
   "id": "785a136c-3ebc-4ea8-a7cf-97c20d3fbe03",
   "metadata": {},
   "outputs": [],
   "source": [
    "# in Python, though, it works differently\n",
    "\n",
    "x = 5 "
   ]
  },
  {
   "cell_type": "markdown",
   "id": "b4835eaa-2f0e-47b5-9e74-5097f22db138",
   "metadata": {},
   "source": [
    "2. We'll just have them read a book, or watch a Udemy course..."
   ]
  },
  {
   "cell_type": "markdown",
   "id": "d753eef1-bfa9-490c-9345-1461d555f777",
   "metadata": {},
   "source": [
    "3. You must include practice exercises!"
   ]
  },
  {
   "cell_type": "markdown",
   "id": "52d52b5e-92ee-4d33-a393-a5ab7bb0a05b",
   "metadata": {},
   "source": [
    "4. Load up the syllabus with lots of content"
   ]
  },
  {
   "cell_type": "markdown",
   "id": "78b13206-3a7d-4331-b86d-e8fc7e2c2d81",
   "metadata": {},
   "source": [
    "5. They think people need to know a ton to do something with Python... they don't."
   ]
  },
  {
   "cell_type": "code",
   "execution_count": null,
   "id": "dc67f5c7-df26-49f5-b314-627c222ea58d",
   "metadata": {},
   "outputs": [],
   "source": []
  }
 ],
 "metadata": {
  "kernelspec": {
   "display_name": "Python 3 (ipykernel)",
   "language": "python",
   "name": "python3"
  },
  "language_info": {
   "codemirror_mode": {
    "name": "ipython",
    "version": 3
   },
   "file_extension": ".py",
   "mimetype": "text/x-python",
   "name": "python",
   "nbconvert_exporter": "python",
   "pygments_lexer": "ipython3",
   "version": "3.11.6"
  }
 },
 "nbformat": 4,
 "nbformat_minor": 5
}
