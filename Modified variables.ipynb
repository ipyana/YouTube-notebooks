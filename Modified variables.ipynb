{
 "cells": [
  {
   "cell_type": "code",
   "execution_count": 2,
   "metadata": {},
   "outputs": [
    {
     "name": "stdout",
     "output_type": "stream",
     "text": [
      "[10, 20, 30]\n"
     ]
    }
   ],
   "source": [
    "mylist = [10, 20, 30]\n",
    "\n",
    "def myfunc(x):\n",
    "    x = [100, 200, 300]\n",
    "    \n",
    "myfunc(mylist)    \n",
    "print(mylist)"
   ]
  },
  {
   "cell_type": "code",
   "execution_count": null,
   "metadata": {},
   "outputs": [],
   "source": [
    "# global variable mylist -- refers to [10, 20, 30]\n",
    "# local variable x -- [100, 200, 300]\n",
    "\n",
    "\n"
   ]
  },
  {
   "cell_type": "code",
   "execution_count": 3,
   "metadata": {},
   "outputs": [
    {
     "name": "stdout",
     "output_type": "stream",
     "text": [
      "[10, '!!!!', 30]\n"
     ]
    }
   ],
   "source": [
    "mylist = [10, 20, 30]\n",
    "\n",
    "def myfunc(x):\n",
    "    x[1] = '!!!!'\n",
    "    \n",
    "myfunc(mylist)    \n",
    "print(mylist)"
   ]
  },
  {
   "cell_type": "code",
   "execution_count": null,
   "metadata": {},
   "outputs": [],
   "source": [
    "# mylist refers to [10, 20, 30]\n",
    "# x also refers to [10, 20, 30]\n",
    "\n",
    "# x and mylist refer to exactly the same list\n",
    "# modifying x means that we're modifying mylist\n",
    "\n",
    "x[1] = '!!!'"
   ]
  },
  {
   "cell_type": "code",
   "execution_count": 4,
   "metadata": {},
   "outputs": [
    {
     "name": "stdout",
     "output_type": "stream",
     "text": [
      "99999\n"
     ]
    }
   ],
   "source": [
    "a = 99999\n",
    "\n",
    "def myfunc(x):\n",
    "    x = 123\n",
    "    \n",
    "myfunc(a)    \n",
    "print(a)"
   ]
  },
  {
   "cell_type": "code",
   "execution_count": null,
   "metadata": {},
   "outputs": [],
   "source": []
  }
 ],
 "metadata": {
  "kernelspec": {
   "display_name": "Python 3",
   "language": "python",
   "name": "python3"
  },
  "language_info": {
   "codemirror_mode": {
    "name": "ipython",
    "version": 3
   },
   "file_extension": ".py",
   "mimetype": "text/x-python",
   "name": "python",
   "nbconvert_exporter": "python",
   "pygments_lexer": "ipython3",
   "version": "3.9.4"
  }
 },
 "nbformat": 4,
 "nbformat_minor": 4
}
