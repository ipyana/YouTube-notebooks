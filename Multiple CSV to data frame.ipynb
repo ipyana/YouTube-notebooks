{
 "cells": [
  {
   "cell_type": "code",
   "execution_count": 1,
   "id": "bca3ff36",
   "metadata": {},
   "outputs": [],
   "source": [
    "import numpy as np\n",
    "import pandas as pd\n",
    "from pandas import Series, DataFrame"
   ]
  },
  {
   "cell_type": "code",
   "execution_count": 2,
   "id": "980883e3",
   "metadata": {},
   "outputs": [
    {
     "data": {
      "text/plain": [
       "['data/nyc_taxi_2020-01.csv',\n",
       " 'data/nyc_taxi_2020-07.csv',\n",
       " 'data/nyc_taxi_2019-07.csv',\n",
       " 'data/nyc_taxi_2019-01.csv']"
      ]
     },
     "execution_count": 2,
     "metadata": {},
     "output_type": "execute_result"
    }
   ],
   "source": [
    "import glob\n",
    "glob.glob('data/nyc_taxi*.csv')"
   ]
  },
  {
   "cell_type": "code",
   "execution_count": 3,
   "id": "f3fb6760",
   "metadata": {},
   "outputs": [],
   "source": [
    "df1 = pd.read_csv('data/nyc_taxi_2020-01.csv',\n",
    "                 usecols=['passenger_count',\n",
    "                         'trip_distance','total_amount'])"
   ]
  },
  {
   "cell_type": "code",
   "execution_count": 4,
   "id": "d9bb23b2",
   "metadata": {},
   "outputs": [],
   "source": [
    "df2 = pd.read_csv('data/nyc_taxi_2020-07.csv',\n",
    "                 usecols=['passenger_count',\n",
    "                         'trip_distance','total_amount'])"
   ]
  },
  {
   "cell_type": "code",
   "execution_count": 7,
   "id": "3dd39255",
   "metadata": {},
   "outputs": [
    {
     "name": "stdout",
     "output_type": "stream",
     "text": [
      "Loading data/nyc_taxi_2020-01.csv\n",
      "Loading data/nyc_taxi_2020-07.csv\n",
      "Loading data/nyc_taxi_2019-07.csv\n",
      "Loading data/nyc_taxi_2019-01.csv\n"
     ]
    }
   ],
   "source": [
    "all_dfs = []\n",
    "for one_filename in glob.glob('data/nyc_taxi*.csv'):\n",
    "    print(f'Loading {one_filename}')\n",
    "    new_df = pd.read_csv(one_filename,\n",
    "                 usecols=['passenger_count',\n",
    "                         'trip_distance','total_amount'])\n",
    "    all_dfs.append(new_df)"
   ]
  },
  {
   "cell_type": "code",
   "execution_count": 8,
   "id": "6b110053",
   "metadata": {},
   "outputs": [
    {
     "data": {
      "text/plain": [
       "4"
      ]
     },
     "execution_count": 8,
     "metadata": {},
     "output_type": "execute_result"
    }
   ],
   "source": [
    "len(all_dfs)"
   ]
  },
  {
   "cell_type": "code",
   "execution_count": 10,
   "id": "33b4cce0",
   "metadata": {},
   "outputs": [],
   "source": [
    "df = pd.concat(all_dfs)"
   ]
  },
  {
   "cell_type": "code",
   "execution_count": 11,
   "id": "6fc6229d",
   "metadata": {},
   "outputs": [
    {
     "data": {
      "text/plain": [
       "(21183631, 3)"
      ]
     },
     "execution_count": 11,
     "metadata": {},
     "output_type": "execute_result"
    }
   ],
   "source": [
    "df.shape"
   ]
  },
  {
   "cell_type": "code",
   "execution_count": 12,
   "id": "33c973e6",
   "metadata": {},
   "outputs": [
    {
     "data": {
      "text/plain": [
       "1.0    14950246\n",
       "2.0     3105185\n",
       "3.0      865914\n",
       "5.0      820904\n",
       "6.0      499122\n",
       "4.0      411743\n",
       "0.0      368073\n",
       "7.0          82\n",
       "8.0          70\n",
       "9.0          45\n",
       "Name: passenger_count, dtype: int64"
      ]
     },
     "execution_count": 12,
     "metadata": {},
     "output_type": "execute_result"
    }
   ],
   "source": [
    "df['passenger_count'].value_counts()"
   ]
  },
  {
   "cell_type": "code",
   "execution_count": 13,
   "id": "3b8dedaf",
   "metadata": {},
   "outputs": [],
   "source": [
    "all_dfs = [pd.read_csv(one_filename,\n",
    "                 usecols=['passenger_count',\n",
    "                         'trip_distance','total_amount'])\n",
    "        for one_filename in glob.glob('data/nyc_taxi*.csv')\n",
    "]\n"
   ]
  },
  {
   "cell_type": "code",
   "execution_count": 14,
   "id": "97e8e5ca",
   "metadata": {},
   "outputs": [
    {
     "data": {
      "text/plain": [
       "pandas.core.frame.DataFrame"
      ]
     },
     "execution_count": 14,
     "metadata": {},
     "output_type": "execute_result"
    }
   ],
   "source": [
    "type(all_dfs[0])"
   ]
  },
  {
   "cell_type": "code",
   "execution_count": 15,
   "id": "87056251",
   "metadata": {},
   "outputs": [],
   "source": [
    "df = pd.concat(all_dfs)"
   ]
  },
  {
   "cell_type": "code",
   "execution_count": 17,
   "id": "a632a592",
   "metadata": {},
   "outputs": [],
   "source": [
    "df = pd.concat([pd.read_csv(one_filename,\n",
    "                 usecols=['passenger_count',\n",
    "                         'trip_distance','total_amount'])\n",
    "        for one_filename in glob.glob('data/nyc_taxi*.csv')])"
   ]
  },
  {
   "cell_type": "code",
   "execution_count": 18,
   "id": "c7b57872",
   "metadata": {},
   "outputs": [
    {
     "data": {
      "text/plain": [
       "(21183631, 3)"
      ]
     },
     "execution_count": 18,
     "metadata": {},
     "output_type": "execute_result"
    }
   ],
   "source": [
    "df.shape"
   ]
  },
  {
   "cell_type": "code",
   "execution_count": null,
   "id": "bf6d569d",
   "metadata": {},
   "outputs": [],
   "source": []
  }
 ],
 "metadata": {
  "kernelspec": {
   "display_name": "Python 3 (ipykernel)",
   "language": "python",
   "name": "python3"
  },
  "language_info": {
   "codemirror_mode": {
    "name": "ipython",
    "version": 3
   },
   "file_extension": ".py",
   "mimetype": "text/x-python",
   "name": "python",
   "nbconvert_exporter": "python",
   "pygments_lexer": "ipython3",
   "version": "3.10.2"
  }
 },
 "nbformat": 4,
 "nbformat_minor": 5
}
