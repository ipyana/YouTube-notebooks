{
 "cells": [
  {
   "cell_type": "code",
   "execution_count": 1,
   "metadata": {},
   "outputs": [],
   "source": [
    "filename = '/Users/reuven/Desktop/temps.txt'"
   ]
  },
  {
   "cell_type": "code",
   "execution_count": 6,
   "metadata": {},
   "outputs": [
    {
     "name": "stdout",
     "output_type": "stream",
     "text": [
      "times=[20, 6], temps=[18.0, 15.0]\n"
     ]
    }
   ],
   "source": [
    "times = []\n",
    "temps = []\n",
    "\n",
    "for line in open(filename):\n",
    "    str_time, str_temp = line.strip().split()\n",
    "    hr, mn = str_time.split(':')\n",
    "    if mn == '00':\n",
    "        times.append(int(hr))\n",
    "        temps.append(float(str_temp))\n",
    "\n",
    "print(f'{times=}, {temps=}')\n"
   ]
  },
  {
   "cell_type": "code",
   "execution_count": 5,
   "metadata": {},
   "outputs": [
    {
     "name": "stdout",
     "output_type": "stream",
     "text": [
      "01:29 33\r\n",
      "01:30 17\r\n",
      "02:07 15\r\n",
      "02:10 4\r\n",
      "03:13 33\r\n",
      "03:13 4\r\n",
      "03:43 2\r\n",
      "04:05 32\r\n",
      "04:05 28\r\n",
      "04:24 14\r\n"
     ]
    }
   ],
   "source": [
    "!head /Users/reuven/Desktop/temps.txt"
   ]
  },
  {
   "cell_type": "code",
   "execution_count": 7,
   "metadata": {},
   "outputs": [
    {
     "data": {
      "text/plain": [
       "([20, 6], [18.0, 15.0])"
      ]
     },
     "execution_count": 7,
     "metadata": {},
     "output_type": "execute_result"
    }
   ],
   "source": [
    "def times_and_temps(filename):\n",
    "\n",
    "    times = []\n",
    "    temps = []\n",
    "\n",
    "    for line in open(filename):\n",
    "        str_time, str_temp = line.strip().split()\n",
    "        hr, mn = str_time.split(':')\n",
    "        if mn == '00':\n",
    "            times.append(int(hr))\n",
    "            temps.append(float(str_temp))\n",
    "\n",
    "    return times, temps\n",
    "\n",
    "times_and_temps(filename)\n"
   ]
  },
  {
   "cell_type": "code",
   "execution_count": 10,
   "metadata": {},
   "outputs": [],
   "source": [
    "def times_and_temps(filename):\n",
    "\n",
    "    for line in open(filename):\n",
    "        str_time, str_temp = line.strip().split()\n",
    "        hr, mn = str_time.split(':')\n",
    "        if mn == '00':\n",
    "            yield int(hr), float(str_temp)\n",
    "\n",
    "g = times_and_temps(filename)"
   ]
  },
  {
   "cell_type": "code",
   "execution_count": 11,
   "metadata": {},
   "outputs": [
    {
     "data": {
      "text/plain": [
       "(20, 18.0)"
      ]
     },
     "execution_count": 11,
     "metadata": {},
     "output_type": "execute_result"
    }
   ],
   "source": [
    "next(g)"
   ]
  },
  {
   "cell_type": "code",
   "execution_count": 12,
   "metadata": {},
   "outputs": [
    {
     "data": {
      "text/plain": [
       "(6, 15.0)"
      ]
     },
     "execution_count": 12,
     "metadata": {},
     "output_type": "execute_result"
    }
   ],
   "source": [
    "next(g)"
   ]
  },
  {
   "cell_type": "code",
   "execution_count": 13,
   "metadata": {},
   "outputs": [
    {
     "ename": "StopIteration",
     "evalue": "",
     "output_type": "error",
     "traceback": [
      "\u001b[0;31m---------------------------------------------------------------------------\u001b[0m",
      "\u001b[0;31mStopIteration\u001b[0m                             Traceback (most recent call last)",
      "\u001b[0;32m<ipython-input-13-e734f8aca5ac>\u001b[0m in \u001b[0;36m<module>\u001b[0;34m\u001b[0m\n\u001b[0;32m----> 1\u001b[0;31m \u001b[0mnext\u001b[0m\u001b[0;34m(\u001b[0m\u001b[0mg\u001b[0m\u001b[0;34m)\u001b[0m\u001b[0;34m\u001b[0m\u001b[0;34m\u001b[0m\u001b[0m\n\u001b[0m",
      "\u001b[0;31mStopIteration\u001b[0m: "
     ]
    }
   ],
   "source": [
    "next(g)"
   ]
  },
  {
   "cell_type": "code",
   "execution_count": 14,
   "metadata": {},
   "outputs": [
    {
     "name": "stdout",
     "output_type": "stream",
     "text": [
      "time=20, temp=18.0\n",
      "time=6, temp=15.0\n"
     ]
    }
   ],
   "source": [
    "for time, temp in times_and_temps(filename):\n",
    "    print(f'{time=}, {temp=}')"
   ]
  },
  {
   "cell_type": "code",
   "execution_count": 15,
   "metadata": {},
   "outputs": [
    {
     "data": {
      "text/plain": [
       "[0, 1, 4, 9, 16]"
      ]
     },
     "execution_count": 15,
     "metadata": {},
     "output_type": "execute_result"
    }
   ],
   "source": [
    "# list comprehension\n",
    "[x*x\n",
    "for x in range(5)]"
   ]
  },
  {
   "cell_type": "code",
   "execution_count": 16,
   "metadata": {},
   "outputs": [
    {
     "data": {
      "text/plain": [
       "<generator object <genexpr> at 0x10940d040>"
      ]
     },
     "execution_count": 16,
     "metadata": {},
     "output_type": "execute_result"
    }
   ],
   "source": [
    "# generator comprehension\n",
    "(x*x\n",
    "for x in range(5))"
   ]
  },
  {
   "cell_type": "code",
   "execution_count": 17,
   "metadata": {},
   "outputs": [],
   "source": [
    "g = (x*x\n",
    "for x in range(5))"
   ]
  },
  {
   "cell_type": "code",
   "execution_count": 18,
   "metadata": {},
   "outputs": [
    {
     "name": "stdout",
     "output_type": "stream",
     "text": [
      "0\n",
      "1\n",
      "4\n",
      "9\n",
      "16\n"
     ]
    }
   ],
   "source": [
    "for one_item in g:\n",
    "    print(one_item)"
   ]
  },
  {
   "cell_type": "code",
   "execution_count": 21,
   "metadata": {},
   "outputs": [
    {
     "data": {
      "text/plain": [
       "[('20:00 18\\n', '20:00 18\\n'), ('06:00 15\\n', '06:00 15\\n')]"
      ]
     },
     "execution_count": 21,
     "metadata": {},
     "output_type": "execute_result"
    }
   ],
   "source": [
    "\n",
    "# def times_and_temps(filename):\n",
    "\n",
    "#     for line in open(filename):\n",
    "#         str_time, str_temp = line.strip().split()\n",
    "#         hr, mn = str_time.split(':')\n",
    "#         if mn == '00':\n",
    "#             yield int(hr), float(str_temp)\n",
    "\n",
    "# g = times_and_temps(filename)\n",
    "\n",
    "[ (one_line, one_line)\n",
    "  for one_line in open(filename)   \n",
    " if one_line.split()[0].split(\":\")[1] == '00'\n",
    "]\n",
    "\n"
   ]
  },
  {
   "cell_type": "code",
   "execution_count": 22,
   "metadata": {},
   "outputs": [
    {
     "data": {
      "text/plain": [
       "[('20', '18'), ('06', '15')]"
      ]
     },
     "execution_count": 22,
     "metadata": {},
     "output_type": "execute_result"
    }
   ],
   "source": [
    "\n",
    "[ (one_line.split()[0].split(\":\")[0], one_line.split()[1])\n",
    "  for one_line in open(filename)   \n",
    " if one_line.split()[0].split(\":\")[1] == '00'\n",
    "]\n"
   ]
  },
  {
   "cell_type": "code",
   "execution_count": 26,
   "metadata": {},
   "outputs": [
    {
     "ename": "SyntaxError",
     "evalue": "invalid syntax (<ipython-input-26-cfa5def2b746>, line 5)",
     "output_type": "error",
     "traceback": [
      "\u001b[0;36m  File \u001b[0;32m\"<ipython-input-26-cfa5def2b746>\"\u001b[0;36m, line \u001b[0;32m5\u001b[0m\n\u001b[0;31m    if fields := one_line.split()\u001b[0m\n\u001b[0m              ^\u001b[0m\n\u001b[0;31mSyntaxError\u001b[0m\u001b[0;31m:\u001b[0m invalid syntax\n"
     ]
    }
   ],
   "source": [
    "# walrus operator, aka \"assignment expression\"\n",
    "\n",
    "[ (fields[0], fields[1])\n",
    "  for one_line in open(filename)   \n",
    "  if fields := one_line.split()\n",
    "]"
   ]
  },
  {
   "cell_type": "code",
   "execution_count": 25,
   "metadata": {},
   "outputs": [
    {
     "name": "stdout",
     "output_type": "stream",
     "text": [
      "Enter your name: Reuven\n",
      "Hello, Reuven!\n",
      "Enter your name: oops\n",
      "Hello, oops!\n",
      "Enter your name: world\n",
      "Hello, world!\n",
      "Enter your name: \n"
     ]
    }
   ],
   "source": [
    "# walrus to the rescue!\n",
    "\n",
    "while s := input(\"Enter your name: \"):\n",
    "    print(f'Hello, {s}!')"
   ]
  },
  {
   "cell_type": "code",
   "execution_count": 27,
   "metadata": {},
   "outputs": [
    {
     "data": {
      "text/plain": [
       "[('01:29', '33'),\n",
       " ('01:30', '17'),\n",
       " ('02:07', '15'),\n",
       " ('02:10', '4'),\n",
       " ('03:13', '33'),\n",
       " ('03:13', '4'),\n",
       " ('03:43', '2'),\n",
       " ('04:05', '32'),\n",
       " ('04:05', '28'),\n",
       " ('04:24', '14'),\n",
       " ('04:25', '7'),\n",
       " ('04:34', '37'),\n",
       " ('04:39', '15'),\n",
       " ('05:03', '25'),\n",
       " ('05:32', '2'),\n",
       " ('06:01', '1'),\n",
       " ('06:30', '34'),\n",
       " ('06:59', '36'),\n",
       " ('07:07', '15'),\n",
       " ('07:08', '2'),\n",
       " ('07:28', '4'),\n",
       " ('07:57', '28'),\n",
       " ('08:26', '27'),\n",
       " ('08:40', '37'),\n",
       " ('08:40', '35'),\n",
       " ('08:44', '19'),\n",
       " ('08:44', '39'),\n",
       " ('08:44', '21'),\n",
       " ('08:54', '16'),\n",
       " ('09:23', '1'),\n",
       " ('09:52', '32'),\n",
       " ('10:21', '29'),\n",
       " ('10:50', '20'),\n",
       " ('11:19', '1'),\n",
       " ('11:43', '19'),\n",
       " ('11:44', '0'),\n",
       " ('11:48', '18'),\n",
       " ('12:17', '15'),\n",
       " ('12:46', '22'),\n",
       " ('13:15', '4'),\n",
       " ('13:44', '27'),\n",
       " ('14:12', '20'),\n",
       " ('14:42', '19'),\n",
       " ('15:02', '14'),\n",
       " ('15:03', '15'),\n",
       " ('15:10', '0'),\n",
       " ('15:32', '37'),\n",
       " ('15:39', '3'),\n",
       " ('15:52', '11'),\n",
       " ('16:08', '24'),\n",
       " ('16:10', '17'),\n",
       " ('16:37', '30'),\n",
       " ('16:45', '10'),\n",
       " ('17:02', '8'),\n",
       " ('17:02', '16'),\n",
       " ('17:02', '39'),\n",
       " ('17:02', '28'),\n",
       " ('17:02', '0'),\n",
       " ('17:02', '3'),\n",
       " ('17:02', '22'),\n",
       " ('17:02', '20'),\n",
       " ('17:02', '20'),\n",
       " ('17:02', '35'),\n",
       " ('17:02', '31'),\n",
       " ('17:02', '8'),\n",
       " ('17:03', '20'),\n",
       " ('17:03', '34'),\n",
       " ('17:03', '27'),\n",
       " ('17:03', '5'),\n",
       " ('17:03', '37'),\n",
       " ('17:03', '6'),\n",
       " ('17:03', '18'),\n",
       " ('17:03', '35'),\n",
       " ('17:03', '25'),\n",
       " ('17:03', '19'),\n",
       " ('17:06', '15'),\n",
       " ('17:35', '25'),\n",
       " ('17:46', '29'),\n",
       " ('17:48', '27'),\n",
       " ('18:04', '5'),\n",
       " ('18:33', '34'),\n",
       " ('18:53', '20'),\n",
       " ('19:02', '8'),\n",
       " ('19:18', '39'),\n",
       " ('19:18', '17'),\n",
       " ('19:31', '21'),\n",
       " ('20:00', '18'),\n",
       " ('20:28', '18'),\n",
       " ('20:47', '25'),\n",
       " ('20:57', '15'),\n",
       " ('21:07', '12'),\n",
       " ('21:26', '19'),\n",
       " ('21:56', '15'),\n",
       " ('22:25', '9'),\n",
       " ('22:25', '37'),\n",
       " ('22:26', '13'),\n",
       " ('22:53', '26'),\n",
       " ('23:21', '23'),\n",
       " ('23:22', '23'),\n",
       " ('23:28', '18'),\n",
       " ('23:53', '21'),\n",
       " ('00:06', '21'),\n",
       " ('00:09', '10'),\n",
       " ('01:15', '0'),\n",
       " ('01:23', '16'),\n",
       " ('01:35', '28'),\n",
       " ('01:50', '3'),\n",
       " ('02:17', '3'),\n",
       " ('02:48', '19'),\n",
       " ('02:51', '24'),\n",
       " ('03:04', '24'),\n",
       " ('03:29', '34'),\n",
       " ('03:29', '5'),\n",
       " ('03:49', '17'),\n",
       " ('03:54', '12'),\n",
       " ('04:19', '14'),\n",
       " ('04:32', '26'),\n",
       " ('04:33', '24'),\n",
       " ('04:33', '38'),\n",
       " ('04:33', '3'),\n",
       " ('04:33', '14'),\n",
       " ('04:33', '6'),\n",
       " ('04:33', '6'),\n",
       " ('04:33', '33'),\n",
       " ('04:33', '6'),\n",
       " ('04:33', '11'),\n",
       " ('04:33', '8'),\n",
       " ('04:33', '35'),\n",
       " ('04:33', '25'),\n",
       " ('04:33', '13'),\n",
       " ('04:33', '35'),\n",
       " ('04:33', '11'),\n",
       " ('04:33', '25'),\n",
       " ('04:33', '20'),\n",
       " ('04:33', '26'),\n",
       " ('04:33', '12'),\n",
       " ('04:33', '3'),\n",
       " ('04:33', '25'),\n",
       " ('04:45', '8'),\n",
       " ('05:10', '34'),\n",
       " ('05:17', '22'),\n",
       " ('05:35', '30'),\n",
       " ('06:00', '15'),\n",
       " ('06:03', '33'),\n",
       " ('06:25', '25'),\n",
       " ('06:51', '26'),\n",
       " ('07:06', '30'),\n",
       " ('07:16', '36'),\n",
       " ('07:41', '12'),\n",
       " ('08:06', '8'),\n",
       " ('08:31', '39'),\n",
       " ('08:56', '38'),\n",
       " ('09:22', '5'),\n",
       " ('09:47', '16'),\n",
       " ('10:12', '28'),\n",
       " ('10:30', '3'),\n",
       " ('10:37', '16'),\n",
       " ('11:03', '33'),\n",
       " ('11:28', '27'),\n",
       " ('11:53', '29'),\n",
       " ('12:18', '5'),\n",
       " ('12:43', '26'),\n",
       " ('12:45', '32'),\n",
       " ('13:09', '23'),\n",
       " ('13:34', '24'),\n",
       " ('13:59', '18'),\n",
       " ('14:24', '22'),\n",
       " ('14:45', '24'),\n",
       " ('14:45', '21'),\n",
       " ('14:45', '8'),\n",
       " ('14:45', '21'),\n",
       " ('14:45', '32'),\n",
       " ('14:45', '19'),\n",
       " ('14:45', '15'),\n",
       " ('14:45', '31'),\n",
       " ('14:45', '39'),\n",
       " ('14:45', '12'),\n",
       " ('14:45', '12'),\n",
       " ('14:45', '38'),\n",
       " ('14:45', '16'),\n",
       " ('14:45', '32'),\n",
       " ('14:45', '38'),\n",
       " ('14:45', '8'),\n",
       " ('14:49', '25'),\n",
       " ('15:07', '34'),\n",
       " ('15:09', '13'),\n",
       " ('15:09', '0'),\n",
       " ('15:14', '8'),\n",
       " ('15:40', '27'),\n",
       " ('16:05', '30'),\n",
       " ('16:30', '4'),\n",
       " ('16:55', '33'),\n",
       " ('17:20', '21'),\n",
       " ('17:39', '0'),\n",
       " ('17:40', '20'),\n",
       " ('17:46', '21'),\n",
       " ('18:11', '10'),\n",
       " ('18:36', '35'),\n",
       " ('19:01', '33'),\n",
       " ('19:26', '33'),\n",
       " ('19:52', '34'),\n",
       " ('20:17', '7'),\n",
       " ('20:42', '1'),\n",
       " ('21:08', '15')]"
      ]
     },
     "execution_count": 27,
     "metadata": {},
     "output_type": "execute_result"
    }
   ],
   "source": [
    "# walrus operator, aka \"assignment expression\"\n",
    "\n",
    "[ (fields[0], fields[1])\n",
    "  for one_line in open(filename)   \n",
    "  if (fields := one_line.split())\n",
    "]"
   ]
  },
  {
   "cell_type": "code",
   "execution_count": 30,
   "metadata": {},
   "outputs": [
    {
     "data": {
      "text/plain": [
       "[('20:00', '18'), ('06:00', '15')]"
      ]
     },
     "execution_count": 30,
     "metadata": {},
     "output_type": "execute_result"
    }
   ],
   "source": [
    "# walrus operator, aka \"assignment expression\"\n",
    "\n",
    "[ (fields[0], fields[1])\n",
    "  for one_line in open(filename)   \n",
    "  if (fields := one_line.split())\n",
    "  if fields[0].endswith(':00')\n",
    "]"
   ]
  },
  {
   "cell_type": "code",
   "execution_count": 36,
   "metadata": {},
   "outputs": [
    {
     "data": {
      "text/plain": [
       "[(20, 18.0), (6, 15.0)]"
      ]
     },
     "execution_count": 36,
     "metadata": {},
     "output_type": "execute_result"
    }
   ],
   "source": [
    "# walrus operator, aka \"assignment expression\"\n",
    "\n",
    "[ (int(fields[0].split(\":\")[0]), float(fields[1]))\n",
    "  for one_line in open(filename)   \n",
    "  if (fields := one_line.split())\n",
    "  if fields[0].endswith(':00')\n",
    "]"
   ]
  },
  {
   "cell_type": "code",
   "execution_count": 37,
   "metadata": {},
   "outputs": [],
   "source": [
    "# walrus operator, aka \"assignment expression\"\n",
    "\n",
    "g = ( (int(fields[0].split(\":\")[0]), float(fields[1]))\n",
    "  for one_line in open(filename)   \n",
    "  if (fields := one_line.split())\n",
    "  if fields[0].endswith(':00')\n",
    ")"
   ]
  },
  {
   "cell_type": "code",
   "execution_count": 38,
   "metadata": {},
   "outputs": [
    {
     "name": "stdout",
     "output_type": "stream",
     "text": [
      "time=20, temp=18.0\n",
      "time=6, temp=15.0\n"
     ]
    }
   ],
   "source": [
    "for time, temp in g:\n",
    "    print(f'{time=}, {temp=}')"
   ]
  },
  {
   "cell_type": "code",
   "execution_count": null,
   "metadata": {},
   "outputs": [],
   "source": []
  }
 ],
 "metadata": {
  "kernelspec": {
   "display_name": "Python 3",
   "language": "python",
   "name": "python3"
  },
  "language_info": {
   "codemirror_mode": {
    "name": "ipython",
    "version": 3
   },
   "file_extension": ".py",
   "mimetype": "text/x-python",
   "name": "python",
   "nbconvert_exporter": "python",
   "pygments_lexer": "ipython3",
   "version": "3.9.2"
  }
 },
 "nbformat": 4,
 "nbformat_minor": 4
}
