{
 "cells": [
  {
   "cell_type": "code",
   "execution_count": 1,
   "id": "e6383506",
   "metadata": {},
   "outputs": [],
   "source": [
    "import pandas as pd\n",
    "from pandas import Series, DataFrame"
   ]
  },
  {
   "cell_type": "code",
   "execution_count": 2,
   "id": "2f375d3d",
   "metadata": {},
   "outputs": [
    {
     "data": {
      "text/plain": [
       "0            this\n",
       "1              is\n",
       "2               a\n",
       "3           bunch\n",
       "4              of\n",
       "5           words\n",
       "6             for\n",
       "7              my\n",
       "8           video\n",
       "9             all\n",
       "10          about\n",
       "11          using\n",
       "12        regular\n",
       "13    expressions\n",
       "14             to\n",
       "15        extract\n",
       "16           text\n",
       "17            and\n",
       "18           find\n",
       "19       patterns\n",
       "20             in\n",
       "21         Pandas\n",
       "dtype: object"
      ]
     },
     "execution_count": 2,
     "metadata": {},
     "output_type": "execute_result"
    }
   ],
   "source": [
    "s = Series('this is a bunch of words for my video all about using regular expressions to extract text and find patterns in Pandas'.split())\n",
    "s"
   ]
  },
  {
   "cell_type": "code",
   "execution_count": 4,
   "id": "2fbe05df",
   "metadata": {},
   "outputs": [
    {
     "data": {
      "text/plain": [
       "0            this\n",
       "1              is\n",
       "8           video\n",
       "11          using\n",
       "13    expressions\n",
       "18           find\n",
       "20             in\n",
       "dtype: object"
      ]
     },
     "execution_count": 4,
     "metadata": {},
     "output_type": "execute_result"
    }
   ],
   "source": [
    "# let's find all of the words containing the letter \"i\"\n",
    "\n",
    "s.loc[s.str.contains('i')]"
   ]
  },
  {
   "cell_type": "code",
   "execution_count": 5,
   "id": "c5f5f7e1",
   "metadata": {},
   "outputs": [
    {
     "data": {
      "text/plain": [
       "8           video\n",
       "12        regular\n",
       "13    expressions\n",
       "15        extract\n",
       "16           text\n",
       "19       patterns\n",
       "dtype: object"
      ]
     },
     "execution_count": 5,
     "metadata": {},
     "output_type": "execute_result"
    }
   ],
   "source": [
    "# let's find all of the words containing the letter \"e\"\n",
    "s.loc[s.str.contains('e')]"
   ]
  },
  {
   "cell_type": "code",
   "execution_count": 6,
   "id": "4aeeca42",
   "metadata": {},
   "outputs": [
    {
     "data": {
      "text/plain": [
       "0            this\n",
       "1              is\n",
       "8           video\n",
       "11          using\n",
       "12        regular\n",
       "13    expressions\n",
       "15        extract\n",
       "16           text\n",
       "18           find\n",
       "19       patterns\n",
       "20             in\n",
       "dtype: object"
      ]
     },
     "execution_count": 6,
     "metadata": {},
     "output_type": "execute_result"
    }
   ],
   "source": [
    "# let's find all of the words containing either \"e\" or \"i\"\n",
    "\n",
    "# option 1: Use | to combine our two boolean series, for a new one that we apply as a mask index\n",
    "s.loc[s.str.contains('e') | s.str.contains('i')]"
   ]
  },
  {
   "cell_type": "code",
   "execution_count": 7,
   "id": "c21389aa",
   "metadata": {},
   "outputs": [
    {
     "data": {
      "text/plain": [
       "0            this\n",
       "1              is\n",
       "8           video\n",
       "11          using\n",
       "12        regular\n",
       "13    expressions\n",
       "15        extract\n",
       "16           text\n",
       "18           find\n",
       "19       patterns\n",
       "20             in\n",
       "dtype: object"
      ]
     },
     "execution_count": 7,
     "metadata": {},
     "output_type": "execute_result"
    }
   ],
   "source": [
    "# option 2: Use a regular expression!\n",
    "# create a character class, meaning a small set of characters that any one of which can/should match our string\n",
    "\n",
    "s.loc[s.str.contains('[ei]')]    # [ei] means: one of these characters must match\n"
   ]
  },
  {
   "cell_type": "code",
   "execution_count": 8,
   "id": "2b2eaf07",
   "metadata": {},
   "outputs": [
    {
     "data": {
      "text/plain": [
       "0            this\n",
       "1              is\n",
       "8           video\n",
       "11          using\n",
       "12        regular\n",
       "13    expressions\n",
       "15        extract\n",
       "16           text\n",
       "18           find\n",
       "19       patterns\n",
       "20             in\n",
       "dtype: object"
      ]
     },
     "execution_count": 8,
     "metadata": {},
     "output_type": "execute_result"
    }
   ],
   "source": [
    "# let's be explicit about using regular expressions -- in the future, the default might switch to False\n",
    "\n",
    "\n",
    "s.loc[s.str.contains('[ei]', regex=True)]    # clearly state/show we're using regular expressions"
   ]
  },
  {
   "cell_type": "code",
   "execution_count": 10,
   "id": "8218ab0c",
   "metadata": {},
   "outputs": [
    {
     "data": {
      "text/plain": [
       "8       video\n",
       "10      about\n",
       "12    regular\n",
       "dtype: object"
      ]
     },
     "execution_count": 10,
     "metadata": {},
     "output_type": "execute_result"
    }
   ],
   "source": [
    "s.loc[s.str.contains('^...[aeiou]')]  # anchor to the start, and then find the fourth character is a vowel"
   ]
  },
  {
   "cell_type": "code",
   "execution_count": 11,
   "id": "6bca18bd",
   "metadata": {},
   "outputs": [
    {
     "data": {
      "text/plain": [
       "0            this\n",
       "1              is\n",
       "2               a\n",
       "3           bunch\n",
       "4              of\n",
       "5           words\n",
       "6             for\n",
       "7              my\n",
       "8           video\n",
       "9             all\n",
       "10          about\n",
       "11          using\n",
       "12        regular\n",
       "13    expressions\n",
       "14             to\n",
       "15        extract\n",
       "16           text\n",
       "17            and\n",
       "18           find\n",
       "19       patterns\n",
       "20             in\n",
       "21         Pandas\n",
       "dtype: object"
      ]
     },
     "execution_count": 11,
     "metadata": {},
     "output_type": "execute_result"
    }
   ],
   "source": [
    "s"
   ]
  },
  {
   "cell_type": "code",
   "execution_count": 12,
   "id": "3dd8a679",
   "metadata": {},
   "outputs": [
    {
     "data": {
      "text/plain": [
       "0            this\n",
       "1              IS\n",
       "2               a\n",
       "3           bunch\n",
       "4              of\n",
       "5           words\n",
       "6             for\n",
       "7              my\n",
       "8           video\n",
       "9             all\n",
       "10          about\n",
       "11          using\n",
       "12        regular\n",
       "13    expressions\n",
       "14             to\n",
       "15        extract\n",
       "16           text\n",
       "17            and\n",
       "18           find\n",
       "19       patterns\n",
       "20             in\n",
       "21         Pandas\n",
       "dtype: object"
      ]
     },
     "execution_count": 12,
     "metadata": {},
     "output_type": "execute_result"
    }
   ],
   "source": [
    "s.replace('is', 'IS')   # change lowercase \"is\" to all-caps \"IS\""
   ]
  },
  {
   "cell_type": "code",
   "execution_count": 13,
   "id": "0db4f559",
   "metadata": {},
   "outputs": [
    {
     "data": {
      "text/plain": [
       "0              IS\n",
       "1              IS\n",
       "2               a\n",
       "3           bunch\n",
       "4              of\n",
       "5           words\n",
       "6             for\n",
       "7              my\n",
       "8           video\n",
       "9             all\n",
       "10          about\n",
       "11          using\n",
       "12        regular\n",
       "13    expressions\n",
       "14             to\n",
       "15        extract\n",
       "16           text\n",
       "17            and\n",
       "18           find\n",
       "19       patterns\n",
       "20             in\n",
       "21         Pandas\n",
       "dtype: object"
      ]
     },
     "execution_count": 13,
     "metadata": {},
     "output_type": "execute_result"
    }
   ],
   "source": [
    "#  what if I want to do this to any word containing the two characters \"is\"?\n",
    "\n",
    "s.replace('.*is.*', 'IS', regex=True)   "
   ]
  },
  {
   "cell_type": "code",
   "execution_count": null,
   "id": "5ae86474",
   "metadata": {},
   "outputs": [],
   "source": []
  }
 ],
 "metadata": {
  "kernelspec": {
   "display_name": "Python 3 (ipykernel)",
   "language": "python",
   "name": "python3"
  },
  "language_info": {
   "codemirror_mode": {
    "name": "ipython",
    "version": 3
   },
   "file_extension": ".py",
   "mimetype": "text/x-python",
   "name": "python",
   "nbconvert_exporter": "python",
   "pygments_lexer": "ipython3",
   "version": "3.11.3"
  }
 },
 "nbformat": 4,
 "nbformat_minor": 5
}
