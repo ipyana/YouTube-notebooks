{
 "cells": [
  {
   "cell_type": "markdown",
   "id": "628d453e",
   "metadata": {},
   "source": [
    "# Deep vs. shallow copies"
   ]
  },
  {
   "cell_type": "code",
   "execution_count": 1,
   "id": "dc5e2a09",
   "metadata": {},
   "outputs": [],
   "source": [
    "mylist = [10, 20, 30]\n",
    "\n",
    "x = mylist   "
   ]
  },
  {
   "cell_type": "code",
   "execution_count": 2,
   "id": "7a0ade34",
   "metadata": {},
   "outputs": [
    {
     "data": {
      "text/plain": [
       "[10, 20, 30]"
      ]
     },
     "execution_count": 2,
     "metadata": {},
     "output_type": "execute_result"
    }
   ],
   "source": [
    "mylist"
   ]
  },
  {
   "cell_type": "code",
   "execution_count": 3,
   "id": "a786d727",
   "metadata": {},
   "outputs": [
    {
     "data": {
      "text/plain": [
       "[10, 20, 30]"
      ]
     },
     "execution_count": 3,
     "metadata": {},
     "output_type": "execute_result"
    }
   ],
   "source": [
    "x"
   ]
  },
  {
   "cell_type": "code",
   "execution_count": 4,
   "id": "cfc06f98",
   "metadata": {},
   "outputs": [
    {
     "data": {
      "text/plain": [
       "True"
      ]
     },
     "execution_count": 4,
     "metadata": {},
     "output_type": "execute_result"
    }
   ],
   "source": [
    "mylist == x"
   ]
  },
  {
   "cell_type": "code",
   "execution_count": 5,
   "id": "d1085e90",
   "metadata": {},
   "outputs": [
    {
     "data": {
      "text/plain": [
       "4403606400"
      ]
     },
     "execution_count": 5,
     "metadata": {},
     "output_type": "execute_result"
    }
   ],
   "source": [
    "id(mylist)"
   ]
  },
  {
   "cell_type": "code",
   "execution_count": 6,
   "id": "54d592b3",
   "metadata": {},
   "outputs": [
    {
     "data": {
      "text/plain": [
       "4403606400"
      ]
     },
     "execution_count": 6,
     "metadata": {},
     "output_type": "execute_result"
    }
   ],
   "source": [
    "id(x)"
   ]
  },
  {
   "cell_type": "code",
   "execution_count": 7,
   "id": "4616c1fb",
   "metadata": {},
   "outputs": [
    {
     "data": {
      "text/plain": [
       "True"
      ]
     },
     "execution_count": 7,
     "metadata": {},
     "output_type": "execute_result"
    }
   ],
   "source": [
    "mylist is x"
   ]
  },
  {
   "cell_type": "code",
   "execution_count": 8,
   "id": "4c5d1e9a",
   "metadata": {},
   "outputs": [],
   "source": [
    "x = mylist[:] # slice [start:end+1]"
   ]
  },
  {
   "cell_type": "code",
   "execution_count": 9,
   "id": "2d2bf86f",
   "metadata": {},
   "outputs": [
    {
     "data": {
      "text/plain": [
       "[10, 20, 30]"
      ]
     },
     "execution_count": 9,
     "metadata": {},
     "output_type": "execute_result"
    }
   ],
   "source": [
    "mylist"
   ]
  },
  {
   "cell_type": "code",
   "execution_count": 10,
   "id": "2b137aec",
   "metadata": {},
   "outputs": [
    {
     "data": {
      "text/plain": [
       "[10, 20, 30]"
      ]
     },
     "execution_count": 10,
     "metadata": {},
     "output_type": "execute_result"
    }
   ],
   "source": [
    "x"
   ]
  },
  {
   "cell_type": "code",
   "execution_count": 11,
   "id": "f73a983f",
   "metadata": {},
   "outputs": [
    {
     "data": {
      "text/plain": [
       "True"
      ]
     },
     "execution_count": 11,
     "metadata": {},
     "output_type": "execute_result"
    }
   ],
   "source": [
    "mylist == x"
   ]
  },
  {
   "cell_type": "code",
   "execution_count": 12,
   "id": "2502b839",
   "metadata": {},
   "outputs": [
    {
     "data": {
      "text/plain": [
       "False"
      ]
     },
     "execution_count": 12,
     "metadata": {},
     "output_type": "execute_result"
    }
   ],
   "source": [
    "mylist is x"
   ]
  },
  {
   "cell_type": "code",
   "execution_count": 13,
   "id": "b32dd39c",
   "metadata": {},
   "outputs": [],
   "source": [
    "x = mylist.copy() "
   ]
  },
  {
   "cell_type": "code",
   "execution_count": 14,
   "id": "500ec739",
   "metadata": {},
   "outputs": [
    {
     "data": {
      "text/plain": [
       "[10, 20, 30]"
      ]
     },
     "execution_count": 14,
     "metadata": {},
     "output_type": "execute_result"
    }
   ],
   "source": [
    "mylist"
   ]
  },
  {
   "cell_type": "code",
   "execution_count": 15,
   "id": "f368060b",
   "metadata": {},
   "outputs": [
    {
     "data": {
      "text/plain": [
       "[10, 20, 30]"
      ]
     },
     "execution_count": 15,
     "metadata": {},
     "output_type": "execute_result"
    }
   ],
   "source": [
    "x"
   ]
  },
  {
   "cell_type": "code",
   "execution_count": 16,
   "id": "bb6ca81c",
   "metadata": {},
   "outputs": [
    {
     "data": {
      "text/plain": [
       "True"
      ]
     },
     "execution_count": 16,
     "metadata": {},
     "output_type": "execute_result"
    }
   ],
   "source": [
    "mylist == x"
   ]
  },
  {
   "cell_type": "code",
   "execution_count": 17,
   "id": "dfd75a19",
   "metadata": {},
   "outputs": [
    {
     "data": {
      "text/plain": [
       "False"
      ]
     },
     "execution_count": 17,
     "metadata": {},
     "output_type": "execute_result"
    }
   ],
   "source": [
    "mylist is x"
   ]
  },
  {
   "cell_type": "code",
   "execution_count": 18,
   "id": "a7c5d64a",
   "metadata": {},
   "outputs": [
    {
     "data": {
      "text/plain": [
       "4403606400"
      ]
     },
     "execution_count": 18,
     "metadata": {},
     "output_type": "execute_result"
    }
   ],
   "source": [
    "id(mylist)"
   ]
  },
  {
   "cell_type": "code",
   "execution_count": 19,
   "id": "6f928bdd",
   "metadata": {},
   "outputs": [
    {
     "data": {
      "text/plain": [
       "4403370432"
      ]
     },
     "execution_count": 19,
     "metadata": {},
     "output_type": "execute_result"
    }
   ],
   "source": [
    "id(x)"
   ]
  },
  {
   "cell_type": "code",
   "execution_count": 20,
   "id": "4099d09c",
   "metadata": {},
   "outputs": [],
   "source": [
    "import copy\n",
    "\n",
    "x = copy.copy(mylist)"
   ]
  },
  {
   "cell_type": "code",
   "execution_count": 21,
   "id": "071c8268",
   "metadata": {},
   "outputs": [
    {
     "data": {
      "text/plain": [
       "True"
      ]
     },
     "execution_count": 21,
     "metadata": {},
     "output_type": "execute_result"
    }
   ],
   "source": [
    "x == mylist"
   ]
  },
  {
   "cell_type": "code",
   "execution_count": 22,
   "id": "e678bc7a",
   "metadata": {},
   "outputs": [
    {
     "data": {
      "text/plain": [
       "False"
      ]
     },
     "execution_count": 22,
     "metadata": {},
     "output_type": "execute_result"
    }
   ],
   "source": [
    "x is mylist"
   ]
  },
  {
   "cell_type": "code",
   "execution_count": 23,
   "id": "2976cdd2",
   "metadata": {},
   "outputs": [],
   "source": [
    "mylist = [[10, 20, 30], [40, 50, 60], [70, 80, 90]]\n",
    "\n",
    "x = mylist.copy()"
   ]
  },
  {
   "cell_type": "code",
   "execution_count": 24,
   "id": "cd4272b1",
   "metadata": {},
   "outputs": [
    {
     "data": {
      "text/plain": [
       "True"
      ]
     },
     "execution_count": 24,
     "metadata": {},
     "output_type": "execute_result"
    }
   ],
   "source": [
    "mylist == x"
   ]
  },
  {
   "cell_type": "code",
   "execution_count": 25,
   "id": "a7f01fc6",
   "metadata": {},
   "outputs": [
    {
     "data": {
      "text/plain": [
       "False"
      ]
     },
     "execution_count": 25,
     "metadata": {},
     "output_type": "execute_result"
    }
   ],
   "source": [
    "mylist is x"
   ]
  },
  {
   "cell_type": "code",
   "execution_count": 26,
   "id": "3f3b8c8c",
   "metadata": {},
   "outputs": [
    {
     "data": {
      "text/plain": [
       "[10, 20, 30]"
      ]
     },
     "execution_count": 26,
     "metadata": {},
     "output_type": "execute_result"
    }
   ],
   "source": [
    "mylist[0]"
   ]
  },
  {
   "cell_type": "code",
   "execution_count": 27,
   "id": "35ca792b",
   "metadata": {},
   "outputs": [
    {
     "data": {
      "text/plain": [
       "[10, 20, 30, 35]"
      ]
     },
     "execution_count": 27,
     "metadata": {},
     "output_type": "execute_result"
    }
   ],
   "source": [
    "mylist[0].append(35)\n",
    "mylist[0]"
   ]
  },
  {
   "cell_type": "code",
   "execution_count": 28,
   "id": "73df04a8",
   "metadata": {},
   "outputs": [
    {
     "data": {
      "text/plain": [
       "[[10, 20, 30, 35], [40, 50, 60], [70, 80, 90]]"
      ]
     },
     "execution_count": 28,
     "metadata": {},
     "output_type": "execute_result"
    }
   ],
   "source": [
    "mylist"
   ]
  },
  {
   "cell_type": "code",
   "execution_count": 29,
   "id": "eb87cce9",
   "metadata": {},
   "outputs": [
    {
     "data": {
      "text/plain": [
       "[[10, 20, 30, 35], [40, 50, 60], [70, 80, 90]]"
      ]
     },
     "execution_count": 29,
     "metadata": {},
     "output_type": "execute_result"
    }
   ],
   "source": [
    "x"
   ]
  },
  {
   "cell_type": "markdown",
   "id": "18f98d82",
   "metadata": {},
   "source": [
    "# Simple copy in Python Tutor\n",
    "\n",
    "https://pythontutor.com/live.html#code=mylist%20%3D%20%5B%5B10,%2020,%2030%5D,%20%0A%20%20%20%20%20%20%20%20%5B40,%2050,%2060%5D,%20%0A%20%20%20%20%20%20%20%20%5B70,%2080,%2090%5D%5D%0A%0Ax%20%3D%20mylist.copy%28%29%0A%0Amylist%5B0%5D.append%2835%29%0A%0Aprint%28x%29%0A&cumulative=false&curInstr=6&heapPrimitives=nevernest&mode=display&origin=opt-live.js&py=3&rawInputLstJSON=%5B%5D&textReferences=false"
   ]
  },
  {
   "cell_type": "markdown",
   "id": "acbea93c",
   "metadata": {},
   "source": [
    "# Deep copy in Python tutor\n",
    "\n",
    "https://pythontutor.com/live.html#code=import%20copy%0A%0Amylist%20%3D%20%5B%5B10,%2020,%2030%5D,%20%0A%20%20%20%20%20%20%20%20%5B40,%2050,%2060%5D,%20%0A%20%20%20%20%20%20%20%20%5B70,%2080,%2090%5D%5D%0A%0Ax%20%3D%20copy.deepcopy%28mylist%29%0A%0Amylist%5B0%5D.append%2835%29%0A%0Aprint%28x%29%0A&cumulative=false&curInstr=7&heapPrimitives=nevernest&mode=display&origin=opt-live.js&py=3&rawInputLstJSON=%5B%5D&textReferences=false"
   ]
  },
  {
   "cell_type": "code",
   "execution_count": null,
   "id": "9f1c73bb",
   "metadata": {},
   "outputs": [],
   "source": []
  }
 ],
 "metadata": {
  "kernelspec": {
   "display_name": "Python 3 (ipykernel)",
   "language": "python",
   "name": "python3"
  },
  "language_info": {
   "codemirror_mode": {
    "name": "ipython",
    "version": 3
   },
   "file_extension": ".py",
   "mimetype": "text/x-python",
   "name": "python",
   "nbconvert_exporter": "python",
   "pygments_lexer": "ipython3",
   "version": "3.10.1"
  }
 },
 "nbformat": 4,
 "nbformat_minor": 5
}
