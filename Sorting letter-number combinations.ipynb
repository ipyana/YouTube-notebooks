{
 "cells": [
  {
   "cell_type": "code",
   "execution_count": 1,
   "id": "e4e699f0-8204-4969-b3c8-25668f627c15",
   "metadata": {},
   "outputs": [],
   "source": [
    "# sort them first by letter, and then by number\n",
    "mylist = ['a1', 'b2', 'c3', 'a10', 'b5', 'c6']"
   ]
  },
  {
   "cell_type": "code",
   "execution_count": 2,
   "id": "353383f8-066f-46f9-ba09-eef0efd49e07",
   "metadata": {},
   "outputs": [
    {
     "data": {
      "text/plain": [
       "[-1, 47, 3, -45, -17, 15, 12, 1, 50, -12]"
      ]
     },
     "execution_count": 2,
     "metadata": {},
     "output_type": "execute_result"
    }
   ],
   "source": [
    "import random\n",
    "\n",
    "random.seed(0)\n",
    "numbers = [random.randint(-50, 50)\n",
    "           for i in range(10)]\n",
    "numbers"
   ]
  },
  {
   "cell_type": "code",
   "execution_count": 3,
   "id": "4bfc7772-0e9c-49b0-b224-cb330c85ed09",
   "metadata": {},
   "outputs": [
    {
     "data": {
      "text/plain": [
       "[-45, -17, -12, -1, 1, 3, 12, 15, 47, 50]"
      ]
     },
     "execution_count": 3,
     "metadata": {},
     "output_type": "execute_result"
    }
   ],
   "source": [
    "sorted(numbers)"
   ]
  },
  {
   "cell_type": "code",
   "execution_count": 4,
   "id": "4180ee17-fe6b-4fef-9a59-172e2e1230e5",
   "metadata": {},
   "outputs": [
    {
     "data": {
      "text/plain": [
       "['This',\n",
       " 'YouTube',\n",
       " 'a',\n",
       " 'bunch',\n",
       " 'demonstration',\n",
       " 'for',\n",
       " 'is',\n",
       " 'my',\n",
       " 'of',\n",
       " 'on',\n",
       " 'words']"
      ]
     },
     "execution_count": 4,
     "metadata": {},
     "output_type": "execute_result"
    }
   ],
   "source": [
    "words = 'This is a bunch of words for my demonstration on YouTube'.split()\n",
    "\n",
    "sorted(words)"
   ]
  },
  {
   "cell_type": "code",
   "execution_count": 5,
   "id": "051a4e54-4bf2-4b44-a31b-4452f4c286c9",
   "metadata": {},
   "outputs": [
    {
     "data": {
      "text/plain": [
       "84"
      ]
     },
     "execution_count": 5,
     "metadata": {},
     "output_type": "execute_result"
    }
   ],
   "source": [
    "ord('T')"
   ]
  },
  {
   "cell_type": "code",
   "execution_count": 6,
   "id": "4cd23158-ac27-4c30-b8c7-745f43efaa9a",
   "metadata": {},
   "outputs": [
    {
     "data": {
      "text/plain": [
       "116"
      ]
     },
     "execution_count": 6,
     "metadata": {},
     "output_type": "execute_result"
    }
   ],
   "source": [
    "ord('t')"
   ]
  },
  {
   "cell_type": "code",
   "execution_count": 7,
   "id": "ea359b7f-6aac-415e-b1f2-2c54268e62af",
   "metadata": {},
   "outputs": [
    {
     "data": {
      "text/plain": [
       "[[5, 12, 6], [5, 15, -10], [10, 7, 8], [10, 20, 30]]"
      ]
     },
     "execution_count": 7,
     "metadata": {},
     "output_type": "execute_result"
    }
   ],
   "source": [
    "# list of lists\n",
    "mylist = [[10, 20, 30], [5, 15, -10], [5, 12, 6], [10, 7, 8]]\n",
    "\n",
    "sorted(mylist)"
   ]
  },
  {
   "cell_type": "code",
   "execution_count": 10,
   "id": "28374e3a-390e-4b03-9e46-9f30b174a43e",
   "metadata": {},
   "outputs": [
    {
     "data": {
      "text/plain": [
       "['49', '97', '53', '5', '33', '65', '62', '51', '100', '38']"
      ]
     },
     "execution_count": 10,
     "metadata": {},
     "output_type": "execute_result"
    }
   ],
   "source": [
    "# get these random numbers as strings\n",
    "\n",
    "random.seed(0)\n",
    "numbers = [str(random.randint(0, 100))\n",
    "           for i in range(10)]\n",
    "\n",
    "numbers"
   ]
  },
  {
   "cell_type": "code",
   "execution_count": 11,
   "id": "1e4284c4-ec16-4c17-a422-afb34ea673c8",
   "metadata": {},
   "outputs": [
    {
     "data": {
      "text/plain": [
       "['100', '33', '38', '49', '5', '51', '53', '62', '65', '97']"
      ]
     },
     "execution_count": 11,
     "metadata": {},
     "output_type": "execute_result"
    }
   ],
   "source": [
    "sorted(numbers)"
   ]
  },
  {
   "cell_type": "code",
   "execution_count": 14,
   "id": "905c4ea7-d304-44ed-b8a5-bbb675c7c503",
   "metadata": {},
   "outputs": [
    {
     "data": {
      "text/plain": [
       "['a49', 'b97', 'c53', 'a5', 'b33', 'c65', 'a62', 'b51', 'c100', 'a38']"
      ]
     },
     "execution_count": 14,
     "metadata": {},
     "output_type": "execute_result"
    }
   ],
   "source": [
    "# let's create a list of 10 strings containing 'a', 'b', and 'c'\n",
    "# and then these numbers\n",
    "\n",
    "mylist = [  f'{letter}{number}'\n",
    "    for letter, number in zip('abcabcabca', numbers)\n",
    "]\n",
    "\n",
    "mylist"
   ]
  },
  {
   "cell_type": "code",
   "execution_count": 15,
   "id": "ed6a7e7e-6f36-48d2-8fda-751b294f1ecb",
   "metadata": {},
   "outputs": [
    {
     "data": {
      "text/plain": [
       "['a38', 'a49', 'a5', 'a62', 'b33', 'b51', 'b97', 'c100', 'c53', 'c65']"
      ]
     },
     "execution_count": 15,
     "metadata": {},
     "output_type": "execute_result"
    }
   ],
   "source": [
    "# first sort by letter\n",
    "# then sort by number, but numerically\n",
    "\n",
    "sorted(mylist)"
   ]
  },
  {
   "cell_type": "code",
   "execution_count": 19,
   "id": "bdfb3f5e-434e-45d9-abb9-e1e2aa52a9a4",
   "metadata": {},
   "outputs": [
    {
     "data": {
      "text/plain": [
       "[('a', 49),\n",
       " ('b', 97),\n",
       " ('c', 53),\n",
       " ('a', 5),\n",
       " ('b', 33),\n",
       " ('c', 65),\n",
       " ('a', 62),\n",
       " ('b', 51),\n",
       " ('c', 100),\n",
       " ('a', 38)]"
      ]
     },
     "execution_count": 19,
     "metadata": {},
     "output_type": "execute_result"
    }
   ],
   "source": [
    "# first character is a letter\n",
    "# the rest of the characters are digits\n",
    "\n",
    "# I want to get this into a form that I can sort\n",
    "# how about a list of 2-element tuples? \n",
    "# - 1st element will be a one-character string\n",
    "# - 2nd element will be an integer\n",
    "\n",
    "new_list = [\n",
    "    (one_item[0], int(one_item[1:]))\n",
    "    for one_item in mylist\n",
    "]\n",
    "new_list"
   ]
  },
  {
   "cell_type": "code",
   "execution_count": 20,
   "id": "9626e092-1aad-4e50-a801-63bbaf890ca7",
   "metadata": {},
   "outputs": [
    {
     "data": {
      "text/plain": [
       "[('a', 5),\n",
       " ('a', 38),\n",
       " ('a', 49),\n",
       " ('a', 62),\n",
       " ('b', 33),\n",
       " ('b', 51),\n",
       " ('b', 97),\n",
       " ('c', 53),\n",
       " ('c', 65),\n",
       " ('c', 100)]"
      ]
     },
     "execution_count": 20,
     "metadata": {},
     "output_type": "execute_result"
    }
   ],
   "source": [
    "sorted(new_list)"
   ]
  },
  {
   "cell_type": "code",
   "execution_count": null,
   "id": "006b0348-7911-4a81-8210-770027cc2e2e",
   "metadata": {},
   "outputs": [],
   "source": []
  }
 ],
 "metadata": {
  "kernelspec": {
   "display_name": "Python 3 (ipykernel)",
   "language": "python",
   "name": "python3"
  },
  "language_info": {
   "codemirror_mode": {
    "name": "ipython",
    "version": 3
   },
   "file_extension": ".py",
   "mimetype": "text/x-python",
   "name": "python",
   "nbconvert_exporter": "python",
   "pygments_lexer": "ipython3",
   "version": "3.12.1"
  }
 },
 "nbformat": 4,
 "nbformat_minor": 5
}
