{
 "cells": [
  {
   "cell_type": "code",
   "execution_count": 1,
   "metadata": {},
   "outputs": [
    {
     "data": {
      "text/plain": [
       "['emond.d',\n",
       " 'xinetd.d-migrated2launchd',\n",
       " 'ssh_config.system_default',\n",
       " 'ssh_config.applesaved',\n",
       " 'periodic',\n",
       " 'manpaths',\n",
       " 'services~previous',\n",
       " 'rc.common',\n",
       " 'csh.logout~orig',\n",
       " 'auto_master',\n",
       " 'php.ini.default-5.2-previous~orig',\n",
       " 'csh.login',\n",
       " 'syslog.conf',\n",
       " 'rtadvd.conf~previous',\n",
       " 'syslog.conf~previous',\n",
       " 'krb5.keytab',\n",
       " 'sudoers.d',\n",
       " 'bash_completion.d',\n",
       " 'ssl',\n",
       " 'kern_loader.conf.applesaved',\n",
       " 'nanorc',\n",
       " 'ttys~previous',\n",
       " 'csh.logout',\n",
       " 'aliases.db',\n",
       " 'hosts.lpd',\n",
       " 'bashrc_Apple_Terminal',\n",
       " 'racoon',\n",
       " 'snmp',\n",
       " 'zshrc_Apple_Terminal',\n",
       " 'named.conf.applesaved',\n",
       " 'gettytab',\n",
       " 'master.passwd~orig',\n",
       " 'kern_loader.conf',\n",
       " 'authorization.user_modified',\n",
       " 'networks~orig',\n",
       " 'paths.d',\n",
       " 'asl',\n",
       " 'csh.login~orig',\n",
       " 'rtadvd.conf',\n",
       " 'security',\n",
       " 'protocols~previous',\n",
       " 'group',\n",
       " 'printcap',\n",
       " 'auto_home',\n",
       " 'php.ini.default-previous',\n",
       " 'sudoers~',\n",
       " 'manpaths.d',\n",
       " 'smb.conf.applesaved',\n",
       " 'ppp',\n",
       " 'shells',\n",
       " 'pear.conf-previous',\n",
       " 'crontab',\n",
       " 'slpsa.conf.applesaved',\n",
       " 'rc.common~previous',\n",
       " 'xinetd.d',\n",
       " 'ttys',\n",
       " 'php-fpm.d',\n",
       " 'group~previous',\n",
       " 'php-fpm.conf.default',\n",
       " 'paths',\n",
       " 'rmtab',\n",
       " 'csh.cshrc~orig',\n",
       " 'inetd.conf.applesaved',\n",
       " 'xtab',\n",
       " 'php.ini.default',\n",
       " 'php-NOTICE-PLANNED-REMOVAL.txt',\n",
       " 'syslog.conf.applesaved',\n",
       " 'localtime',\n",
       " 'pf.conf',\n",
       " '6to4.conf.applesaved',\n",
       " 'CiscoSystemsVPNClient',\n",
       " 'launchd.conf',\n",
       " 'sudoers',\n",
       " 'ftpusers~orig',\n",
       " 'bashrc',\n",
       " 'find.codes~orig',\n",
       " 'auto_master~orig',\n",
       " 'newsyslog.d',\n",
       " 'emacs',\n",
       " 'irbrc',\n",
       " 'pam.d',\n",
       " 'zshrc',\n",
       " 'defaults',\n",
       " 'hosts.equiv',\n",
       " 'networks',\n",
       " 'find.codes',\n",
       " 'rpc~previous',\n",
       " 'apache2',\n",
       " 'autofs.conf',\n",
       " 'ssh',\n",
       " 'ftpusers',\n",
       " 'postgres-reg.ini',\n",
       " 'slpsa.conf',\n",
       " 'profile',\n",
       " 'csh.cshrc',\n",
       " 'fstab.hd~previous',\n",
       " 'ntp.conf.applesaved',\n",
       " 'ntp_opendirectory.conf',\n",
       " 'ssh_config~orig',\n",
       " 'profile~orig',\n",
       " 'authorization.deprecated',\n",
       " 'locate.rc',\n",
       " 'resolv.conf',\n",
       " 'nfs.conf',\n",
       " 'crontab.applesaved',\n",
       " 'dictionaries-common',\n",
       " 'sudoers~orig',\n",
       " 'sudo_lecture',\n",
       " 'asl.conf',\n",
       " 'ttys.applesaved',\n",
       " 'moduli~previous',\n",
       " 'rc.netboot',\n",
       " 'X11',\n",
       " 'afpovertcp.cfg~orig',\n",
       " 'hosts~orig',\n",
       " 'fstab',\n",
       " 'opt',\n",
       " 'nfs.conf~orig',\n",
       " 'hostconfig',\n",
       " 'smb.conf.old',\n",
       " 'kern_loader.conf~previous',\n",
       " 'xinetd.conf.applesaved',\n",
       " 'rtadvd.conf.applesaved',\n",
       " 'sshd_config.system_default',\n",
       " 'hosts',\n",
       " 'efax.rc~previous',\n",
       " 'postfix',\n",
       " 'pf.os',\n",
       " 'pf.anchors',\n",
       " 'php.ini.default-previous~orig',\n",
       " 'ntp.conf',\n",
       " 'php.ini.default-5.2-previous',\n",
       " 'gettytab~orig',\n",
       " 'passwd~orig',\n",
       " 'rpc',\n",
       " 'master.passwd',\n",
       " 'sshd_config~previous',\n",
       " 'openldap',\n",
       " 'aliases',\n",
       " 'paths~orig',\n",
       " 'fonts',\n",
       " 'openssl',\n",
       " 'com.apple.screensharing.agent.launchd',\n",
       " 'wfs',\n",
       " 'hostconfig.system_default',\n",
       " 'shells~orig',\n",
       " 'sshd_config.applesaved',\n",
       " 'dumpdates',\n",
       " 'protocols',\n",
       " 'AFP.conf',\n",
       " 'cups',\n",
       " 'man.conf',\n",
       " 'services',\n",
       " 'mail.rc~orig',\n",
       " 'resolver',\n",
       " 'uucp',\n",
       " 'passwd',\n",
       " 'zprofile',\n",
       " 'afpovertcp.cfg',\n",
       " 'newsyslog.conf',\n",
       " 'bashrc~previous',\n",
       " 'mail.rc',\n",
       " 'notify.conf',\n",
       " 'sysctl.conf.pg']"
      ]
     },
     "execution_count": 1,
     "metadata": {},
     "output_type": "execute_result"
    }
   ],
   "source": [
    "import os\n",
    "os.listdir('/etc')"
   ]
  },
  {
   "cell_type": "code",
   "execution_count": 2,
   "metadata": {},
   "outputs": [
    {
     "ename": "FileNotFoundError",
     "evalue": "[Errno 2] No such file or directory: '/etc/*.conf'",
     "output_type": "error",
     "traceback": [
      "\u001b[0;31m---------------------------------------------------------------------------\u001b[0m",
      "\u001b[0;31mFileNotFoundError\u001b[0m                         Traceback (most recent call last)",
      "\u001b[0;32m<ipython-input-2-4e9bcddb7e7e>\u001b[0m in \u001b[0;36m<module>\u001b[0;34m\u001b[0m\n\u001b[0;32m----> 1\u001b[0;31m \u001b[0mos\u001b[0m\u001b[0;34m.\u001b[0m\u001b[0mlistdir\u001b[0m\u001b[0;34m(\u001b[0m\u001b[0;34m'/etc/*.conf'\u001b[0m\u001b[0;34m)\u001b[0m\u001b[0;34m\u001b[0m\u001b[0;34m\u001b[0m\u001b[0m\n\u001b[0m",
      "\u001b[0;31mFileNotFoundError\u001b[0m: [Errno 2] No such file or directory: '/etc/*.conf'"
     ]
    }
   ],
   "source": [
    "os.listdir('/etc/*.conf')"
   ]
  },
  {
   "cell_type": "code",
   "execution_count": 3,
   "metadata": {},
   "outputs": [
    {
     "data": {
      "text/plain": [
       "['/etc/syslog.conf',\n",
       " '/etc/kern_loader.conf',\n",
       " '/etc/rtadvd.conf',\n",
       " '/etc/pf.conf',\n",
       " '/etc/launchd.conf',\n",
       " '/etc/autofs.conf',\n",
       " '/etc/slpsa.conf',\n",
       " '/etc/ntp_opendirectory.conf',\n",
       " '/etc/resolv.conf',\n",
       " '/etc/nfs.conf',\n",
       " '/etc/asl.conf',\n",
       " '/etc/ntp.conf',\n",
       " '/etc/AFP.conf',\n",
       " '/etc/man.conf',\n",
       " '/etc/newsyslog.conf',\n",
       " '/etc/notify.conf']"
      ]
     },
     "execution_count": 3,
     "metadata": {},
     "output_type": "execute_result"
    }
   ],
   "source": [
    "# filename globbing\n",
    "\n",
    "import glob\n",
    "glob.glob('/etc/*.conf')"
   ]
  },
  {
   "cell_type": "code",
   "execution_count": 4,
   "metadata": {},
   "outputs": [
    {
     "data": {
      "text/plain": [
       "['/etc/pf.conf', '/etc/nfs.conf']"
      ]
     },
     "execution_count": 4,
     "metadata": {},
     "output_type": "execute_result"
    }
   ],
   "source": [
    "glob.glob('/etc/?f*.conf')"
   ]
  },
  {
   "cell_type": "code",
   "execution_count": 6,
   "metadata": {},
   "outputs": [
    {
     "data": {
      "text/plain": [
       "['/etc/kern_loader.conf',\n",
       " '/etc/launchd.conf',\n",
       " '/etc/autofs.conf',\n",
       " '/etc/asl.conf']"
      ]
     },
     "execution_count": 6,
     "metadata": {},
     "output_type": "execute_result"
    }
   ],
   "source": [
    "glob.glob('/etc/[abcdefghijkl]*.conf')"
   ]
  },
  {
   "cell_type": "code",
   "execution_count": 10,
   "metadata": {},
   "outputs": [
    {
     "data": {
      "text/plain": [
       "['/Users/reuven/Desktop/oreilly-modules-syllabus.txt',\n",
       " '/Users/reuven/Desktop/podcast-pitch.txt',\n",
       " '/Users/reuven/Desktop/oreilly-notes.txt',\n",
       " '/Users/reuven/Desktop/ari-interview.txt',\n",
       " '/Users/reuven/Desktop/machine-learning-links.txt',\n",
       " '/Users/reuven/Desktop/asyncio-notes.txt']"
      ]
     },
     "execution_count": 10,
     "metadata": {},
     "output_type": "execute_result"
    }
   ],
   "source": [
    "glob.glob('/Users/reuven/Desktop/*.txt', recursive=True)"
   ]
  },
  {
   "cell_type": "code",
   "execution_count": 11,
   "metadata": {},
   "outputs": [
    {
     "data": {
      "text/plain": [
       "<generator object _iglob at 0x105eec3c0>"
      ]
     },
     "execution_count": 11,
     "metadata": {},
     "output_type": "execute_result"
    }
   ],
   "source": [
    "glob.iglob('/Users/reuven/Desktop/*.txt')"
   ]
  },
  {
   "cell_type": "code",
   "execution_count": 12,
   "metadata": {},
   "outputs": [
    {
     "name": "stdout",
     "output_type": "stream",
     "text": [
      "/Users/reuven/Desktop/oreilly-modules-syllabus.txt\n",
      "/Users/reuven/Desktop/podcast-pitch.txt\n",
      "/Users/reuven/Desktop/oreilly-notes.txt\n",
      "/Users/reuven/Desktop/ari-interview.txt\n",
      "/Users/reuven/Desktop/machine-learning-links.txt\n",
      "/Users/reuven/Desktop/asyncio-notes.txt\n"
     ]
    }
   ],
   "source": [
    "for one_filename in glob.iglob('/Users/reuven/Desktop/*.txt'):\n",
    "    print(one_filename)"
   ]
  },
  {
   "cell_type": "code",
   "execution_count": 13,
   "metadata": {},
   "outputs": [],
   "source": [
    "filename = 'my*file.txt'"
   ]
  },
  {
   "cell_type": "code",
   "execution_count": 14,
   "metadata": {},
   "outputs": [
    {
     "data": {
      "text/plain": [
       "'my[*]file.txt'"
      ]
     },
     "execution_count": 14,
     "metadata": {},
     "output_type": "execute_result"
    }
   ],
   "source": [
    "glob.escape(filename)"
   ]
  },
  {
   "cell_type": "code",
   "execution_count": 15,
   "metadata": {},
   "outputs": [],
   "source": [
    "filename = 'my*[]file.txt'"
   ]
  },
  {
   "cell_type": "code",
   "execution_count": 16,
   "metadata": {},
   "outputs": [
    {
     "data": {
      "text/plain": [
       "'my[*][[]]file.txt'"
      ]
     },
     "execution_count": 16,
     "metadata": {},
     "output_type": "execute_result"
    }
   ],
   "source": [
    "glob.escape(filename)"
   ]
  },
  {
   "cell_type": "code",
   "execution_count": null,
   "metadata": {},
   "outputs": [],
   "source": []
  }
 ],
 "metadata": {
  "kernelspec": {
   "display_name": "Python 3",
   "language": "python",
   "name": "python3"
  },
  "language_info": {
   "codemirror_mode": {
    "name": "ipython",
    "version": 3
   },
   "file_extension": ".py",
   "mimetype": "text/x-python",
   "name": "python",
   "nbconvert_exporter": "python",
   "pygments_lexer": "ipython3",
   "version": "3.9.2"
  }
 },
 "nbformat": 4,
 "nbformat_minor": 4
}
