{
 "cells": [
  {
   "cell_type": "code",
   "execution_count": 1,
   "id": "9f449fac",
   "metadata": {},
   "outputs": [],
   "source": [
    "import pandas as pd\n",
    "from pandas import Series, DataFrame"
   ]
  },
  {
   "cell_type": "code",
   "execution_count": 2,
   "id": "6568fbb6",
   "metadata": {},
   "outputs": [],
   "source": [
    "filename = '/Users/reuven/Courses/Current/data/nyc-parking-violations-2020.csv'\n",
    "\n",
    "df = pd.read_csv(filename, usecols=['Issue Date', 'Vehicle Make', 'Vehicle Color', 'Street Name'])"
   ]
  },
  {
   "cell_type": "code",
   "execution_count": 3,
   "id": "22cac4a9",
   "metadata": {},
   "outputs": [
    {
     "data": {
      "text/html": [
       "<div><div id=24a449ec-6bc6-4e37-811c-20eb064d3730 style=\"display:none; background-color:#9D6CFF; color:white; width:200px; height:30px; padding-left:5px; border-radius:4px; flex-direction:row; justify-content:space-around; align-items:center;\" onmouseover=\"this.style.backgroundColor='#BA9BF8'\" onmouseout=\"this.style.backgroundColor='#9D6CFF'\" onclick=\"window.commands?.execute('create-mitosheet-from-dataframe-output');\">See Full Dataframe in Mito</div> <script> if (window.commands?.hasCommand('create-mitosheet-from-dataframe-output')) document.getElementById('24a449ec-6bc6-4e37-811c-20eb064d3730').style.display = 'flex' </script> <table border=\"1\" class=\"dataframe\">\n",
       "  <thead>\n",
       "    <tr style=\"text-align: right;\">\n",
       "      <th></th>\n",
       "      <th>Issue Date</th>\n",
       "      <th>Vehicle Make</th>\n",
       "      <th>Street Name</th>\n",
       "      <th>Vehicle Color</th>\n",
       "    </tr>\n",
       "  </thead>\n",
       "  <tbody>\n",
       "    <tr>\n",
       "      <th>0</th>\n",
       "      <td>05/08/1972 12:00:00 AM</td>\n",
       "      <td>HONDA</td>\n",
       "      <td>43 ST</td>\n",
       "      <td>BK</td>\n",
       "    </tr>\n",
       "    <tr>\n",
       "      <th>1</th>\n",
       "      <td>08/29/1977 12:00:00 AM</td>\n",
       "      <td>ME/BE</td>\n",
       "      <td>UNION ST</td>\n",
       "      <td>BLK</td>\n",
       "    </tr>\n",
       "    <tr>\n",
       "      <th>2</th>\n",
       "      <td>10/03/1988 12:00:00 AM</td>\n",
       "      <td>LEXUS</td>\n",
       "      <td>CLERMONT AVENUE</td>\n",
       "      <td>BLACK</td>\n",
       "    </tr>\n",
       "    <tr>\n",
       "      <th>3</th>\n",
       "      <td>01/03/1990 12:00:00 AM</td>\n",
       "      <td>CHEVR</td>\n",
       "      <td>DIVISION AVE</td>\n",
       "      <td>NaN</td>\n",
       "    </tr>\n",
       "    <tr>\n",
       "      <th>4</th>\n",
       "      <td>02/14/1990 12:00:00 AM</td>\n",
       "      <td>JEEP</td>\n",
       "      <td>GRAND ST</td>\n",
       "      <td>GREY</td>\n",
       "    </tr>\n",
       "    <tr>\n",
       "      <th>5</th>\n",
       "      <td>07/21/1990 12:00:00 AM</td>\n",
       "      <td>HYUN</td>\n",
       "      <td>B 99 ST</td>\n",
       "      <td>GY</td>\n",
       "    </tr>\n",
       "    <tr>\n",
       "      <th>6</th>\n",
       "      <td>09/19/1990 12:00:00 AM</td>\n",
       "      <td>INTER</td>\n",
       "      <td>W/S/O WASHINGTON ST</td>\n",
       "      <td>WH</td>\n",
       "    </tr>\n",
       "    <tr>\n",
       "      <th>7</th>\n",
       "      <td>10/14/1990 12:00:00 AM</td>\n",
       "      <td>BMW</td>\n",
       "      <td>BAINBRIDGE AVE</td>\n",
       "      <td>BLK</td>\n",
       "    </tr>\n",
       "    <tr>\n",
       "      <th>8</th>\n",
       "      <td>07/25/1991 12:00:00 AM</td>\n",
       "      <td>FORD</td>\n",
       "      <td>94 ST</td>\n",
       "      <td>GREY</td>\n",
       "    </tr>\n",
       "    <tr>\n",
       "      <th>9</th>\n",
       "      <td>01/01/2000 12:00:00 AM</td>\n",
       "      <td>CMCKU</td>\n",
       "      <td>E 54 ST</td>\n",
       "      <td>RED</td>\n",
       "    </tr>\n",
       "  </tbody>\n",
       "</table></div>"
      ],
      "text/plain": [
       "               Issue Date Vehicle Make          Street Name Vehicle Color\n",
       "0  05/08/1972 12:00:00 AM        HONDA                43 ST            BK\n",
       "1  08/29/1977 12:00:00 AM        ME/BE             UNION ST           BLK\n",
       "2  10/03/1988 12:00:00 AM        LEXUS      CLERMONT AVENUE         BLACK\n",
       "3  01/03/1990 12:00:00 AM        CHEVR         DIVISION AVE           NaN\n",
       "4  02/14/1990 12:00:00 AM         JEEP             GRAND ST          GREY\n",
       "5  07/21/1990 12:00:00 AM         HYUN              B 99 ST            GY\n",
       "6  09/19/1990 12:00:00 AM        INTER  W/S/O WASHINGTON ST            WH\n",
       "7  10/14/1990 12:00:00 AM          BMW       BAINBRIDGE AVE           BLK\n",
       "8  07/25/1991 12:00:00 AM         FORD                94 ST          GREY\n",
       "9  01/01/2000 12:00:00 AM        CMCKU              E 54 ST           RED"
      ]
     },
     "execution_count": 3,
     "metadata": {},
     "output_type": "execute_result"
    }
   ],
   "source": [
    "df.head(10)"
   ]
  },
  {
   "cell_type": "code",
   "execution_count": 4,
   "id": "10885fe4",
   "metadata": {},
   "outputs": [
    {
     "data": {
      "text/plain": [
       "Vehicle Color\n",
       "WH       2344858\n",
       "GY       2307704\n",
       "BK       2066374\n",
       "WHITE    1061234\n",
       "BL        775124\n",
       "RD        483298\n",
       "BLACK     465110\n",
       "GREY      306787\n",
       "BROWN     292348\n",
       "SILVE     191477\n",
       "Name: count, dtype: int64"
      ]
     },
     "execution_count": 4,
     "metadata": {},
     "output_type": "execute_result"
    }
   ],
   "source": [
    "# how commonly were different colored cars ticketed in New York?\n",
    "df['Vehicle Color'].value_counts().head(10)"
   ]
  },
  {
   "cell_type": "code",
   "execution_count": 5,
   "id": "3d307463",
   "metadata": {},
   "outputs": [
    {
     "data": {
      "text/html": [
       "<div><div id=c6c2b9b0-4bda-4c8c-8681-d7ca16fa14dd style=\"display:none; background-color:#9D6CFF; color:white; width:200px; height:30px; padding-left:5px; border-radius:4px; flex-direction:row; justify-content:space-around; align-items:center;\" onmouseover=\"this.style.backgroundColor='#BA9BF8'\" onmouseout=\"this.style.backgroundColor='#9D6CFF'\" onclick=\"window.commands?.execute('create-mitosheet-from-dataframe-output');\">See Full Dataframe in Mito</div> <script> if (window.commands?.hasCommand('create-mitosheet-from-dataframe-output')) document.getElementById('c6c2b9b0-4bda-4c8c-8681-d7ca16fa14dd').style.display = 'flex' </script> <table border=\"1\" class=\"dataframe\">\n",
       "  <thead>\n",
       "    <tr style=\"text-align: right;\">\n",
       "      <th></th>\n",
       "      <th>Issue Date</th>\n",
       "      <th>Vehicle Make</th>\n",
       "      <th>Street Name</th>\n",
       "      <th>Vehicle Color</th>\n",
       "    </tr>\n",
       "  </thead>\n",
       "  <tbody>\n",
       "    <tr>\n",
       "      <th>0</th>\n",
       "      <td>05/08/1972 12:00:00 AM</td>\n",
       "      <td>HONDA</td>\n",
       "      <td>43 ST</td>\n",
       "      <td>BK</td>\n",
       "    </tr>\n",
       "    <tr>\n",
       "      <th>1</th>\n",
       "      <td>08/29/1977 12:00:00 AM</td>\n",
       "      <td>ME/BE</td>\n",
       "      <td>UNION ST</td>\n",
       "      <td>BLK</td>\n",
       "    </tr>\n",
       "    <tr>\n",
       "      <th>2</th>\n",
       "      <td>10/03/1988 12:00:00 AM</td>\n",
       "      <td>LEXUS</td>\n",
       "      <td>CLERMONT AVENUE</td>\n",
       "      <td>BLACK</td>\n",
       "    </tr>\n",
       "    <tr>\n",
       "      <th>3</th>\n",
       "      <td>01/03/1990 12:00:00 AM</td>\n",
       "      <td>CHEVR</td>\n",
       "      <td>DIVISION AVE</td>\n",
       "      <td>NaN</td>\n",
       "    </tr>\n",
       "    <tr>\n",
       "      <th>4</th>\n",
       "      <td>02/14/1990 12:00:00 AM</td>\n",
       "      <td>JEEP</td>\n",
       "      <td>GRAND ST</td>\n",
       "      <td>GREY</td>\n",
       "    </tr>\n",
       "    <tr>\n",
       "      <th>...</th>\n",
       "      <td>...</td>\n",
       "      <td>...</td>\n",
       "      <td>...</td>\n",
       "      <td>...</td>\n",
       "    </tr>\n",
       "    <tr>\n",
       "      <th>10</th>\n",
       "      <td>01/02/2000 12:00:00 AM</td>\n",
       "      <td>HONDA</td>\n",
       "      <td>ROCKAWAY AVE</td>\n",
       "      <td>GREY</td>\n",
       "    </tr>\n",
       "    <tr>\n",
       "      <th>11</th>\n",
       "      <td>01/02/2000 12:00:00 AM</td>\n",
       "      <td>HONDA</td>\n",
       "      <td>E 167 ST</td>\n",
       "      <td>GRAY</td>\n",
       "    </tr>\n",
       "    <tr>\n",
       "      <th>12</th>\n",
       "      <td>01/02/2000 12:00:00 AM</td>\n",
       "      <td>HONDA</td>\n",
       "      <td>ROCKAWAY AVE</td>\n",
       "      <td>BLACK</td>\n",
       "    </tr>\n",
       "    <tr>\n",
       "      <th>13</th>\n",
       "      <td>01/02/2000 12:00:00 AM</td>\n",
       "      <td>HONDA</td>\n",
       "      <td>ROCKAWAY AVE</td>\n",
       "      <td>BLACK</td>\n",
       "    </tr>\n",
       "    <tr>\n",
       "      <th>14</th>\n",
       "      <td>01/03/2000 12:00:00 AM</td>\n",
       "      <td>HONDA</td>\n",
       "      <td>MARTENSE ST</td>\n",
       "      <td>TAN</td>\n",
       "    </tr>\n",
       "  </tbody>\n",
       "</table></div>"
      ],
      "text/plain": [
       "                Issue Date Vehicle Make          Street Name Vehicle Color\n",
       "0   05/08/1972 12:00:00 AM        HONDA                43 ST            BK\n",
       "1   08/29/1977 12:00:00 AM        ME/BE             UNION ST           BLK\n",
       "2   10/03/1988 12:00:00 AM        LEXUS      CLERMONT AVENUE         BLACK\n",
       "3   01/03/1990 12:00:00 AM        CHEVR         DIVISION AVE           NaN\n",
       "4   02/14/1990 12:00:00 AM         JEEP             GRAND ST          GREY\n",
       "5   07/21/1990 12:00:00 AM         HYUN              B 99 ST            GY\n",
       "6   09/19/1990 12:00:00 AM        INTER  W/S/O WASHINGTON ST            WH\n",
       "7   10/14/1990 12:00:00 AM          BMW       BAINBRIDGE AVE           BLK\n",
       "8   07/25/1991 12:00:00 AM         FORD                94 ST          GREY\n",
       "9   01/01/2000 12:00:00 AM        CMCKU              E 54 ST           RED\n",
       "10  01/02/2000 12:00:00 AM        HONDA         ROCKAWAY AVE          GREY\n",
       "11  01/02/2000 12:00:00 AM        HONDA             E 167 ST          GRAY\n",
       "12  01/02/2000 12:00:00 AM        HONDA         ROCKAWAY AVE         BLACK\n",
       "13  01/02/2000 12:00:00 AM        HONDA         ROCKAWAY AVE         BLACK\n",
       "14  01/03/2000 12:00:00 AM        HONDA          MARTENSE ST           TAN"
      ]
     },
     "execution_count": 5,
     "metadata": {},
     "output_type": "execute_result"
    }
   ],
   "source": [
    "df.head(15)"
   ]
  },
  {
   "cell_type": "code",
   "execution_count": 6,
   "id": "6e7ca388",
   "metadata": {},
   "outputs": [
    {
     "data": {
      "text/plain": [
       "0           BLACK\n",
       "1             BLK\n",
       "2           BLACK\n",
       "3             NaN\n",
       "4            GREY\n",
       "            ...  \n",
       "12495729       BR\n",
       "12495730      BLK\n",
       "12495731       GY\n",
       "12495732      BLK\n",
       "12495733    WHITE\n",
       "Name: Vehicle Color, Length: 12495734, dtype: object"
      ]
     },
     "execution_count": 6,
     "metadata": {},
     "output_type": "execute_result"
    }
   ],
   "source": [
    "# I can run the .replace method, giving the original and new values\n",
    "\n",
    "df['Vehicle Color'].replace('BK', 'BLACK')"
   ]
  },
  {
   "cell_type": "code",
   "execution_count": 7,
   "id": "f2e3b831",
   "metadata": {},
   "outputs": [
    {
     "data": {
      "text/plain": [
       "Vehicle Color\n",
       "BLACK    2531484\n",
       "WH       2344858\n",
       "GY       2307704\n",
       "WHITE    1061234\n",
       "BL        775124\n",
       "RD        483298\n",
       "GREY      306787\n",
       "BROWN     292348\n",
       "SILVE     191477\n",
       "GR        182929\n",
       "BLUE      178298\n",
       "RED       161693\n",
       "TN        120576\n",
       "BR        102204\n",
       "YW         98700\n",
       "Name: count, dtype: int64"
      ]
     },
     "execution_count": 7,
     "metadata": {},
     "output_type": "execute_result"
    }
   ],
   "source": [
    "df['Vehicle Color'].replace('BK', 'BLACK').value_counts().head(15)"
   ]
  },
  {
   "cell_type": "code",
   "execution_count": null,
   "id": "3dd180d2",
   "metadata": {},
   "outputs": [],
   "source": [
    "# this will work, but what a pain!\n",
    "\n",
    "df['Vehicle Color'] = df['Vehicle Color'].replace('BK', 'BLACK')\n",
    "df['Vehicle Color'] = df['Vehicle Color'].replace('WH', 'WHITE')"
   ]
  },
  {
   "cell_type": "code",
   "execution_count": 8,
   "id": "01a7d569",
   "metadata": {},
   "outputs": [
    {
     "data": {
      "text/plain": [
       "0           BLACK\n",
       "1           BLACK\n",
       "2           BLACK\n",
       "3             NaN\n",
       "4            GRAY\n",
       "            ...  \n",
       "12495729       BR\n",
       "12495730    BLACK\n",
       "12495731     GRAY\n",
       "12495732    BLACK\n",
       "12495733    WHITE\n",
       "Name: Vehicle Color, Length: 12495734, dtype: object"
      ]
     },
     "execution_count": 8,
     "metadata": {},
     "output_type": "execute_result"
    }
   ],
   "source": [
    "# instead, we can define a dictionary!\n",
    "\n",
    "color_map = {'BK':'BLACK', 'BLK':'BLACK', 'WH':'WHITE', 'GY':'GRAY', 'GREY':'GRAY'}\n",
    "\n",
    "df['Vehicle Color'].replace(color_map)"
   ]
  },
  {
   "cell_type": "code",
   "execution_count": 9,
   "id": "e1a362e3",
   "metadata": {},
   "outputs": [],
   "source": [
    "# assign the column back, and we're set!\n",
    "df['Vehicle Color'] = df['Vehicle Color'].replace(color_map)"
   ]
  },
  {
   "cell_type": "code",
   "execution_count": 10,
   "id": "fbb8285e",
   "metadata": {},
   "outputs": [
    {
     "data": {
      "text/plain": [
       "Vehicle Color\n",
       "WHITE    3406092\n",
       "GRAY     2655345\n",
       "BLACK    2623023\n",
       "BL        775124\n",
       "RD        483298\n",
       "BROWN     292348\n",
       "SILVE     191477\n",
       "GR        182929\n",
       "BLUE      178298\n",
       "RED       161693\n",
       "TN        120576\n",
       "BR        102204\n",
       "YW         98700\n",
       "OTHER      60245\n",
       "GREEN      58765\n",
       "GL         54851\n",
       "GRY        46527\n",
       "MR         42812\n",
       "WHT        35433\n",
       "YELLO      32792\n",
       "Name: count, dtype: int64"
      ]
     },
     "execution_count": 10,
     "metadata": {},
     "output_type": "execute_result"
    }
   ],
   "source": [
    "df['Vehicle Color'].value_counts().head(20)"
   ]
  },
  {
   "cell_type": "code",
   "execution_count": 11,
   "id": "8f6f2f37",
   "metadata": {},
   "outputs": [
    {
     "data": {
      "text/plain": [
       "Vehicle Color\n",
       "WHITE    3406092\n",
       "GRAY     2655345\n",
       "BLACK    2623023\n",
       "BLUE      953422\n",
       "RED       644991\n",
       "BROWN     292348\n",
       "GREEN     241694\n",
       "SILVE     191477\n",
       "TN        120576\n",
       "BR        102204\n",
       "YW         98700\n",
       "OTHER      60245\n",
       "GL         54851\n",
       "GRY        46527\n",
       "MR         42812\n",
       "WHT        35433\n",
       "YELLO      32792\n",
       "WHI        29760\n",
       "OR         28100\n",
       "BK.        27830\n",
       "Name: count, dtype: int64"
      ]
     },
     "execution_count": 11,
     "metadata": {},
     "output_type": "execute_result"
    }
   ],
   "source": [
    "# instead, we can define a dictionary!\n",
    "\n",
    "color_map = {'BK':'BLACK', 'BLK':'BLACK', 'WH':'WHITE', 'GY':'GRAY', 'GREY':'GRAY',\n",
    "            'BL':'BLUE', 'RD':'RED', 'GR':'GREEN'}\n",
    "\n",
    "df['Vehicle Color'] = df['Vehicle Color'].replace(color_map)\n",
    "\n",
    "df['Vehicle Color'].value_counts().head(20)"
   ]
  },
  {
   "cell_type": "code",
   "execution_count": 12,
   "id": "fef338de",
   "metadata": {},
   "outputs": [],
   "source": [
    "filename = '/Users/reuven/Courses/Current/data/nyc-parking-violations-2020.csv'\n",
    "\n",
    "df = pd.read_csv(filename, usecols=['Issue Date', 'Vehicle Make', 'Vehicle Color', 'Street Name'])"
   ]
  },
  {
   "cell_type": "code",
   "execution_count": 13,
   "id": "99ed7cb7",
   "metadata": {},
   "outputs": [
    {
     "data": {
      "text/plain": [
       "0       BK\n",
       "1      BLK\n",
       "2    BLACK\n",
       "3      NaN\n",
       "4     GREY\n",
       "5       GY\n",
       "6       WH\n",
       "7      BLK\n",
       "8     GREY\n",
       "9      RED\n",
       "Name: Vehicle Color, dtype: object"
      ]
     },
     "execution_count": 13,
     "metadata": {},
     "output_type": "execute_result"
    }
   ],
   "source": [
    "df['Vehicle Color'].head(10)"
   ]
  },
  {
   "cell_type": "code",
   "execution_count": 15,
   "id": "8982f73f",
   "metadata": {},
   "outputs": [
    {
     "data": {
      "text/html": [
       "<div><div id=332ff2bd-d3ac-401b-a1e6-733c43b24589 style=\"display:none; background-color:#9D6CFF; color:white; width:200px; height:30px; padding-left:5px; border-radius:4px; flex-direction:row; justify-content:space-around; align-items:center;\" onmouseover=\"this.style.backgroundColor='#BA9BF8'\" onmouseout=\"this.style.backgroundColor='#9D6CFF'\" onclick=\"window.commands?.execute('create-mitosheet-from-dataframe-output');\">See Full Dataframe in Mito</div> <script> if (window.commands?.hasCommand('create-mitosheet-from-dataframe-output')) document.getElementById('332ff2bd-d3ac-401b-a1e6-733c43b24589').style.display = 'flex' </script> <table border=\"1\" class=\"dataframe\">\n",
       "  <thead>\n",
       "    <tr style=\"text-align: right;\">\n",
       "      <th></th>\n",
       "      <th>Issue Date</th>\n",
       "      <th>Vehicle Make</th>\n",
       "      <th>Street Name</th>\n",
       "      <th>Vehicle Color</th>\n",
       "    </tr>\n",
       "  </thead>\n",
       "  <tbody>\n",
       "    <tr>\n",
       "      <th>0</th>\n",
       "      <td>05/08/1972 12:00:00 AM</td>\n",
       "      <td>HONDA</td>\n",
       "      <td>43 ST</td>\n",
       "      <td>BLACK</td>\n",
       "    </tr>\n",
       "    <tr>\n",
       "      <th>1</th>\n",
       "      <td>08/29/1977 12:00:00 AM</td>\n",
       "      <td>ME/BE</td>\n",
       "      <td>UNION ST</td>\n",
       "      <td>BLACK</td>\n",
       "    </tr>\n",
       "    <tr>\n",
       "      <th>2</th>\n",
       "      <td>10/03/1988 12:00:00 AM</td>\n",
       "      <td>LEXUS</td>\n",
       "      <td>CLERMONT AVENUE</td>\n",
       "      <td>BLACK</td>\n",
       "    </tr>\n",
       "    <tr>\n",
       "      <th>3</th>\n",
       "      <td>01/03/1990 12:00:00 AM</td>\n",
       "      <td>CHEVR</td>\n",
       "      <td>DIVISION AVE</td>\n",
       "      <td>NaN</td>\n",
       "    </tr>\n",
       "    <tr>\n",
       "      <th>4</th>\n",
       "      <td>02/14/1990 12:00:00 AM</td>\n",
       "      <td>JEEP</td>\n",
       "      <td>GRAND ST</td>\n",
       "      <td>GREY</td>\n",
       "    </tr>\n",
       "    <tr>\n",
       "      <th>...</th>\n",
       "      <td>...</td>\n",
       "      <td>...</td>\n",
       "      <td>...</td>\n",
       "      <td>...</td>\n",
       "    </tr>\n",
       "    <tr>\n",
       "      <th>12495729</th>\n",
       "      <td>01/03/2040 12:00:00 AM</td>\n",
       "      <td>FORD</td>\n",
       "      <td>3RD AVE</td>\n",
       "      <td>BR</td>\n",
       "    </tr>\n",
       "    <tr>\n",
       "      <th>12495730</th>\n",
       "      <td>04/19/2045 12:00:00 AM</td>\n",
       "      <td>HONDA</td>\n",
       "      <td>PELHAM PARK DR</td>\n",
       "      <td>BLACK</td>\n",
       "    </tr>\n",
       "    <tr>\n",
       "      <th>12495731</th>\n",
       "      <td>01/17/2049 12:00:00 AM</td>\n",
       "      <td>FORD</td>\n",
       "      <td>LYDIG AVE</td>\n",
       "      <td>GY</td>\n",
       "    </tr>\n",
       "    <tr>\n",
       "      <th>12495732</th>\n",
       "      <td>12/19/2063 12:00:00 AM</td>\n",
       "      <td>TOYOT</td>\n",
       "      <td>E 68 STREET</td>\n",
       "      <td>BLACK</td>\n",
       "    </tr>\n",
       "    <tr>\n",
       "      <th>12495733</th>\n",
       "      <td>06/04/2064 12:00:00 AM</td>\n",
       "      <td>UTILI</td>\n",
       "      <td>W/S/O 182 STREET</td>\n",
       "      <td>WHITE</td>\n",
       "    </tr>\n",
       "  </tbody>\n",
       "</table></div>"
      ],
      "text/plain": [
       "                      Issue Date Vehicle Make       Street Name Vehicle Color\n",
       "0         05/08/1972 12:00:00 AM        HONDA             43 ST         BLACK\n",
       "1         08/29/1977 12:00:00 AM        ME/BE          UNION ST         BLACK\n",
       "2         10/03/1988 12:00:00 AM        LEXUS   CLERMONT AVENUE         BLACK\n",
       "3         01/03/1990 12:00:00 AM        CHEVR      DIVISION AVE           NaN\n",
       "4         02/14/1990 12:00:00 AM         JEEP          GRAND ST          GREY\n",
       "...                          ...          ...               ...           ...\n",
       "12495729  01/03/2040 12:00:00 AM         FORD           3RD AVE            BR\n",
       "12495730  04/19/2045 12:00:00 AM        HONDA    PELHAM PARK DR         BLACK\n",
       "12495731  01/17/2049 12:00:00 AM         FORD         LYDIG AVE            GY\n",
       "12495732  12/19/2063 12:00:00 AM        TOYOT       E 68 STREET         BLACK\n",
       "12495733  06/04/2064 12:00:00 AM        UTILI  W/S/O 182 STREET         WHITE\n",
       "\n",
       "[12495734 rows x 4 columns]"
      ]
     },
     "execution_count": 15,
     "metadata": {},
     "output_type": "execute_result"
    }
   ],
   "source": [
    "# anything that starts with B and ends with K should be considered black\n",
    "# I can express it with a regular expression!\n",
    "\n",
    "df.replace('^B.*K$', 'BLACK', regex=True)"
   ]
  },
  {
   "cell_type": "code",
   "execution_count": null,
   "id": "2e7c3b76",
   "metadata": {},
   "outputs": [],
   "source": []
  }
 ],
 "metadata": {
  "kernelspec": {
   "display_name": "Python 3 (ipykernel)",
   "language": "python",
   "name": "python3"
  },
  "language_info": {
   "codemirror_mode": {
    "name": "ipython",
    "version": 3
   },
   "file_extension": ".py",
   "mimetype": "text/x-python",
   "name": "python",
   "nbconvert_exporter": "python",
   "pygments_lexer": "ipython3",
   "version": "3.11.3"
  }
 },
 "nbformat": 4,
 "nbformat_minor": 5
}
