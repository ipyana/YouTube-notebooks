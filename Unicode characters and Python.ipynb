{
 "cells": [
  {
   "cell_type": "code",
   "execution_count": 1,
   "id": "777df00c",
   "metadata": {},
   "outputs": [
    {
     "name": "stdout",
     "output_type": "stream",
     "text": [
      "97\n",
      "98\n",
      "99\n",
      "100\n",
      "101\n"
     ]
    }
   ],
   "source": [
    "s = 'abcde'\n",
    "\n",
    "# I want to know the Unicode numbers for the characters in s\n",
    "\n",
    "for one_character in s:\n",
    "    print(ord(one_character))"
   ]
  },
  {
   "cell_type": "code",
   "execution_count": 2,
   "id": "d2a7d52d",
   "metadata": {},
   "outputs": [
    {
     "data": {
      "text/plain": [
       "36"
      ]
     },
     "execution_count": 2,
     "metadata": {},
     "output_type": "execute_result"
    }
   ],
   "source": [
    "ord('$')"
   ]
  },
  {
   "cell_type": "code",
   "execution_count": 3,
   "id": "c2706ca9",
   "metadata": {},
   "outputs": [
    {
     "data": {
      "text/plain": [
       "40"
      ]
     },
     "execution_count": 3,
     "metadata": {},
     "output_type": "execute_result"
    }
   ],
   "source": [
    "ord('(')"
   ]
  },
  {
   "cell_type": "code",
   "execution_count": 4,
   "id": "c6ce0295",
   "metadata": {},
   "outputs": [
    {
     "data": {
      "text/plain": [
       "90"
      ]
     },
     "execution_count": 4,
     "metadata": {},
     "output_type": "execute_result"
    }
   ],
   "source": [
    "ord('Z')"
   ]
  },
  {
   "cell_type": "code",
   "execution_count": 5,
   "id": "0a331044",
   "metadata": {},
   "outputs": [
    {
     "data": {
      "text/plain": [
       "4"
      ]
     },
     "execution_count": 5,
     "metadata": {},
     "output_type": "execute_result"
    }
   ],
   "source": [
    "s = 'שלום'\n",
    "len(s)"
   ]
  },
  {
   "cell_type": "code",
   "execution_count": 6,
   "id": "42533cca",
   "metadata": {},
   "outputs": [
    {
     "name": "stdout",
     "output_type": "stream",
     "text": [
      "1513\n",
      "1500\n",
      "1493\n",
      "1501\n"
     ]
    }
   ],
   "source": [
    "for one_character in s:\n",
    "    print(ord(one_character))"
   ]
  },
  {
   "cell_type": "code",
   "execution_count": 7,
   "id": "f28fdd55",
   "metadata": {},
   "outputs": [
    {
     "name": "stdout",
     "output_type": "stream",
     "text": [
      "20013\n",
      "25991\n"
     ]
    }
   ],
   "source": [
    "s = '中文'\n",
    "\n",
    "for one_character in s:\n",
    "    print(ord(one_character))"
   ]
  },
  {
   "cell_type": "code",
   "execution_count": 8,
   "id": "ee24ebd0",
   "metadata": {},
   "outputs": [],
   "source": [
    "# How can I insert these characters into my strings?\n"
   ]
  },
  {
   "cell_type": "code",
   "execution_count": 9,
   "id": "cc40bb72",
   "metadata": {},
   "outputs": [
    {
     "data": {
      "text/plain": [
       "'a'"
      ]
     },
     "execution_count": 9,
     "metadata": {},
     "output_type": "execute_result"
    }
   ],
   "source": [
    "# I can use chr()\n",
    "chr(97)"
   ]
  },
  {
   "cell_type": "code",
   "execution_count": 10,
   "id": "6c8c06d6",
   "metadata": {},
   "outputs": [
    {
     "data": {
      "text/plain": [
       "'ש'"
      ]
     },
     "execution_count": 10,
     "metadata": {},
     "output_type": "execute_result"
    }
   ],
   "source": [
    "chr(1513)"
   ]
  },
  {
   "cell_type": "code",
   "execution_count": 11,
   "id": "80db7ff0",
   "metadata": {},
   "outputs": [
    {
     "data": {
      "text/plain": [
       "'中'"
      ]
     },
     "execution_count": 11,
     "metadata": {},
     "output_type": "execute_result"
    }
   ],
   "source": [
    "chr(20013)"
   ]
  },
  {
   "cell_type": "code",
   "execution_count": 12,
   "id": "cb4f5a64",
   "metadata": {},
   "outputs": [],
   "source": [
    "s = f'{chr(1513)}{chr(1500)}{chr(1493)}{chr(1501)}'"
   ]
  },
  {
   "cell_type": "code",
   "execution_count": 13,
   "id": "be502196",
   "metadata": {},
   "outputs": [
    {
     "data": {
      "text/plain": [
       "'שלום'"
      ]
     },
     "execution_count": 13,
     "metadata": {},
     "output_type": "execute_result"
    }
   ],
   "source": [
    "s"
   ]
  },
  {
   "cell_type": "code",
   "execution_count": 15,
   "id": "3d9e26fe",
   "metadata": {},
   "outputs": [
    {
     "name": "stdout",
     "output_type": "stream",
     "text": [
      "0x61\n",
      "0x62\n",
      "0x63\n",
      "0x64\n",
      "0x65\n"
     ]
    }
   ],
   "source": [
    "# hexadecimal numbers use digits 0-9, a-f\n",
    "\n",
    "s = 'abcde'\n",
    "\n",
    "# I want to know the Unicode numbers for the characters in s\n",
    "\n",
    "for one_character in s:\n",
    "    print(hex(ord(one_character)))"
   ]
  },
  {
   "cell_type": "code",
   "execution_count": 18,
   "id": "79a8be52",
   "metadata": {},
   "outputs": [
    {
     "name": "stdout",
     "output_type": "stream",
     "text": [
      "abcde\n"
     ]
    }
   ],
   "source": [
    "# \\xHH == a Unicode character with two hex digits\n",
    "print('\\x61\\x62\\x63\\x64\\x65')"
   ]
  },
  {
   "cell_type": "code",
   "execution_count": 19,
   "id": "9b1f949c",
   "metadata": {},
   "outputs": [
    {
     "name": "stdout",
     "output_type": "stream",
     "text": [
      "0x5e9\n",
      "0x5dc\n",
      "0x5d5\n",
      "0x5dd\n"
     ]
    }
   ],
   "source": [
    "s = 'שלום'\n",
    "for one_character in s:\n",
    "    print(hex(ord(one_character)))"
   ]
  },
  {
   "cell_type": "code",
   "execution_count": 22,
   "id": "4aafb8a7",
   "metadata": {},
   "outputs": [
    {
     "name": "stdout",
     "output_type": "stream",
     "text": [
      "שלום\n"
     ]
    }
   ],
   "source": [
    "# if your character will fit into 4 hex digits, you can use \\u\n",
    "print('\\u05e9\\u05dc\\u05d5\\u05dd')"
   ]
  },
  {
   "cell_type": "code",
   "execution_count": 23,
   "id": "77da0c8b",
   "metadata": {},
   "outputs": [
    {
     "name": "stdout",
     "output_type": "stream",
     "text": [
      "abcde\n"
     ]
    }
   ],
   "source": [
    "# can I use \\u with two-digit hex codes?  Yes, if you put two leading zeroes!\n",
    "print('\\u0061\\u0062\\u0063\\u0064\\u0065')"
   ]
  },
  {
   "cell_type": "code",
   "execution_count": 24,
   "id": "ebc85ce8",
   "metadata": {},
   "outputs": [
    {
     "name": "stdout",
     "output_type": "stream",
     "text": [
      "0x4e2d\n",
      "0x6587\n"
     ]
    }
   ],
   "source": [
    "s = '中文'\n",
    "\n",
    "for one_character in s:\n",
    "    print(hex(ord(one_character)))"
   ]
  },
  {
   "cell_type": "code",
   "execution_count": 26,
   "id": "5d829aba",
   "metadata": {},
   "outputs": [
    {
     "name": "stdout",
     "output_type": "stream",
     "text": [
      "中文\n"
     ]
    }
   ],
   "source": [
    "print('\\u4e2d\\u6587')"
   ]
  },
  {
   "cell_type": "code",
   "execution_count": 27,
   "id": "31a4e870",
   "metadata": {},
   "outputs": [
    {
     "data": {
      "text/plain": [
       "128293"
      ]
     },
     "execution_count": 27,
     "metadata": {},
     "output_type": "execute_result"
    }
   ],
   "source": [
    "s = '🔥'\n",
    "ord(s)"
   ]
  },
  {
   "cell_type": "code",
   "execution_count": 28,
   "id": "4a0867dc",
   "metadata": {},
   "outputs": [
    {
     "data": {
      "text/plain": [
       "'0x1f525'"
      ]
     },
     "execution_count": 28,
     "metadata": {},
     "output_type": "execute_result"
    }
   ],
   "source": [
    "hex(ord(s))"
   ]
  },
  {
   "cell_type": "code",
   "execution_count": 29,
   "id": "dd39ece6",
   "metadata": {},
   "outputs": [
    {
     "name": "stdout",
     "output_type": "stream",
     "text": [
      "I am on 🔥\n"
     ]
    }
   ],
   "source": [
    "# if you have more than 4 hex digits, you can use \\U with 8 hex digits!\n",
    "\n",
    "print('I am on \\U0001f525')"
   ]
  },
  {
   "cell_type": "code",
   "execution_count": 30,
   "id": "44636bac",
   "metadata": {},
   "outputs": [
    {
     "name": "stdout",
     "output_type": "stream",
     "text": [
      "LATIN SMALL LETTER A\n",
      "LATIN SMALL LETTER B\n",
      "LATIN SMALL LETTER C\n",
      "LATIN SMALL LETTER D\n",
      "LATIN SMALL LETTER E\n"
     ]
    }
   ],
   "source": [
    "import unicodedata \n",
    "\n",
    "s = 'abcde'\n",
    "\n",
    "for one_character in s:\n",
    "    print(unicodedata.name(one_character))"
   ]
  },
  {
   "cell_type": "code",
   "execution_count": 32,
   "id": "9b29aabe",
   "metadata": {},
   "outputs": [
    {
     "name": "stdout",
     "output_type": "stream",
     "text": [
      "abcde\n"
     ]
    }
   ],
   "source": [
    "print('\\N{LATIN SMALL LETTER A}\\N{LATIN SMALL LETTER B}\\N{LATIN SMALL LETTER C}\\N{LATIN SMALL LETTER D}\\N{LATIN SMALL LETTER E}')"
   ]
  },
  {
   "cell_type": "code",
   "execution_count": 33,
   "id": "0ec264d9",
   "metadata": {},
   "outputs": [
    {
     "name": "stdout",
     "output_type": "stream",
     "text": [
      "HEBREW LETTER SHIN\n",
      "HEBREW LETTER LAMED\n",
      "HEBREW LETTER VAV\n",
      "HEBREW LETTER FINAL MEM\n"
     ]
    }
   ],
   "source": [
    "s = 'שלום'\n",
    "for one_character in s:\n",
    "    print(unicodedata.name(one_character))"
   ]
  },
  {
   "cell_type": "code",
   "execution_count": 34,
   "id": "75074a5a",
   "metadata": {},
   "outputs": [
    {
     "name": "stdout",
     "output_type": "stream",
     "text": [
      "CJK UNIFIED IDEOGRAPH-4E2D\n",
      "CJK UNIFIED IDEOGRAPH-6587\n"
     ]
    }
   ],
   "source": [
    "s = '中文'\n",
    "\n",
    "for one_character in s:\n",
    "    print(unicodedata.name(one_character))"
   ]
  },
  {
   "cell_type": "code",
   "execution_count": 35,
   "id": "f4e954c4",
   "metadata": {},
   "outputs": [
    {
     "name": "stdout",
     "output_type": "stream",
     "text": [
      "中文\n"
     ]
    }
   ],
   "source": [
    "print('\\N{CJK UNIFIED IDEOGRAPH-4E2D}\\N{CJK UNIFIED IDEOGRAPH-6587}')"
   ]
  },
  {
   "cell_type": "code",
   "execution_count": 36,
   "id": "8343e46d",
   "metadata": {},
   "outputs": [
    {
     "name": "stdout",
     "output_type": "stream",
     "text": [
      "I am on 🔥!\n"
     ]
    }
   ],
   "source": [
    "print('I am on \\N{FIRE}!')"
   ]
  },
  {
   "cell_type": "code",
   "execution_count": null,
   "id": "8b7d4b40",
   "metadata": {},
   "outputs": [],
   "source": []
  }
 ],
 "metadata": {
  "kernelspec": {
   "display_name": "Python 3 (ipykernel)",
   "language": "python",
   "name": "python3"
  },
  "language_info": {
   "codemirror_mode": {
    "name": "ipython",
    "version": 3
   },
   "file_extension": ".py",
   "mimetype": "text/x-python",
   "name": "python",
   "nbconvert_exporter": "python",
   "pygments_lexer": "ipython3",
   "version": "3.10.2"
  }
 },
 "nbformat": 4,
 "nbformat_minor": 5
}
