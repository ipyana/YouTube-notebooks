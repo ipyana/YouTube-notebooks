{
 "cells": [
  {
   "cell_type": "code",
   "execution_count": 10,
   "metadata": {},
   "outputs": [],
   "source": [
    "\n",
    "filename = '/Users/reuven/Library/Thunderbird/Profiles/5sj97g04.default/ImapMail/imap.emailsrvr.com/INBOX.sbd/raffle'"
   ]
  },
  {
   "cell_type": "code",
   "execution_count": 13,
   "metadata": {},
   "outputs": [
    {
     "name": "stdout",
     "output_type": "stream",
     "text": [
      "From \r",
      "\r\n",
      "Delivered-To: reuven@lerner.co.il\r",
      "\r\n",
      "Return-Path: <bounces+3703489-4fa9-reuven=lerner.co.il@drip.lerner.co.il>\r",
      "\r\n",
      "Delivered-To: reuven@lerner.co.il\r",
      "\r\n",
      "Received: from proxy9.mail.iad3b.rsapps.net ([172.31.157.83])\r",
      "\r\n",
      "\tby store528a.mail.iad3a.rsapps.net (Dovecot) with LMTP id SeFwBiQZlGBbFAAAAetRCw\r",
      "\r\n",
      "\tfor <reuven@lerner.co.il>; Thu, 06 May 2021 12:28:20 -0400\r",
      "\r\n",
      "Received: from smtp24.gate.iad3b ([172.31.255.6])\r",
      "\r\n",
      "\t(using TLSv1.2 with cipher ECDHE-RSA-AES256-GCM-SHA384 (256/256 bits))\r",
      "\r\n",
      "\tby proxy9.mail.iad3b.rsapps.net with LMTPS\r",
      "\r\n",
      "\tid COMsBiQZlGAAMAAAC4PSzw\r",
      "\r\n",
      "\t(envelope-from <bounces+3703489-4fa9-reuven=lerner.co.il@drip.lerner.co.il>)\r",
      "\r\n",
      "\tfor <reuven@lerner.co.il>; Thu, 06 May 2021 12:28:20 -0400\r",
      "\r\n",
      "Return-Path: <bounces+3703489-4fa9-reuven=lerner.co.il@drip.lerner.co.il>\r",
      "\r\n",
      "X-Spam-Exception: WHITELISTED\r",
      "\r\n",
      "X-Spam-Threshold: 95\r",
      "\r\n",
      "X-Spam-Score: 0\r",
      "\r\n",
      "X-Spam-Flag: NO\r",
      "\r\n",
      "X-Virus-Scanned: OK\r",
      "\r\n",
      "X-Orig-To: reuven@lerner.co.il\r",
      "\r\n",
      "X-Originating-Ip: [167.89.79.139]\r",
      "\r\n",
      "Authentication-Results: smtp24.gate.iad3b.rsapps.net; iprev=pass policy.iprev=\"167.89.79.139\"; spf=pass smtp.mailfrom=\"bounces+3703489-4fa9-reuven=lerner.co.il@drip.lerner.co.il\" smtp.helo=\"o6.m.dripemail2.com\"; dkim=pass header.d=lerner.co.il; dmarc=pass (p=quarantine; dis=none) header.from=lerner.co.il\r",
      "\r\n",
      "X-Suspicious-Flag: NO\r",
      "\r\n",
      "X-Classification-ID: 11635878-ae88-11eb-8970-525400892b35-1-1\r",
      "\r\n",
      "Received: from [167.89.79.139] ([167.89.79.139:62061] helo=o6.m.dripemail2.com)\r",
      "\r\n",
      "\tby smtp24.gate.iad3b.rsapps.net (envelope-from <bounces+3703489-4fa9-reuven=lerner.co.il@drip.lerner.co.il>)\r",
      "\r\n",
      "\t(ecelerity 4.2.38.62370 r(:)) with ESMTPS (cipher=AES256-GCM-SHA384) \r",
      "\r\n",
      "\tid 9F/32-21095-32914906; Thu, 06 May 2021 12:28:19 -0400\r",
      "\r\n",
      "DKIM-Signature: v=1; a=rsa-sha256; c=relaxed/relaxed; d=lerner.co.il;\r",
      "\r\n",
      "\th=content-type:from:mime-version:subject:to;\r",
      "\r\n",
      "\ts=d; bh=Blj3C8fBWPn2XTzDaD5K/ksMuD9LiXCGmtyBWU0Uj88=;\r",
      "\r\n",
      "\tb=T6Y3XNVv1grGPfmDIu2ztB4bF2gddu3Y+/AQEkFL9Tnp2y6F6eiaDBufeAHDhf7c34MD\r",
      "\r\n",
      "\tOjCJUb/ZUpq4S07PpiNnvkIvC1172yqbzP5TgDv6T20ybdzsHzaTEDUYMkIiWM5+AUsIOy\r",
      "\r\n",
      "\t60HJvUtb3QiB0zR7RM1JJhk95HABCqv4E=\r",
      "\r\n",
      "Received: by filterdrecv-canary-66d758f8fb-lgl2p with SMTP id filterdrecv-canary-66d758f8fb-lgl2p-1-60941923-4D\r",
      "\r\n",
      "        2021-05-06 16:28:19.437700287 +0000 UTC m=+673758.374860703\r",
      "\r\n",
      "Received: from MzcwMzQ4OQ (unknown)\r",
      "\r\n",
      "\tby geopod-ismtpd-5-0 (SG) with HTTP\r",
      "\r\n",
      "\tid YVOx4SeiQgaFHoqAd_8giA\r",
      "\r\n",
      "\tThu, 06 May 2021 16:28:19.357 +0000 (UTC)\r",
      "\r\n",
      "Content-Type: multipart/alternative; boundary=65c0e9e77d0546071ffc7aec3ce08dc4585a39c8ca1f2edc244d4e2bdd82\r",
      "\r\n",
      "Date: Thu, 06 May 2021 16:28:19 +0000 (UTC)\r",
      "\r\n",
      "From: \"Reuven M. Lerner\" <reuven@lerner.co.il>\r",
      "\r\n",
      "Mime-Version: 1.0\r",
      "\r\n",
      "Message-ID: <YVOx4SeiQgaFHoqAd_8giA@geopod-ismtpd-5-0>\r",
      "\r\n",
      "Subject: [TEST] Want to attend PyCon?\r",
      "\r\n",
      "X-Drip-SendingAccount: 6168218\r",
      "\r\n",
      "X-SG-EID: \r",
      "\r\n",
      " =?us-ascii?Q?SwkhCJL9NpG7l70QytRni+SInszNHgk=2FmVypyKneG=2FCcZCNS0IwjXL8w3634qT?=\r",
      "\r\n",
      " =?us-ascii?Q?hhae9GhVvwQvR6Viop3R8A2GwpkxzAV3rCP8rUF?=\r",
      "\r\n",
      " =?us-ascii?Q?AKvc7ClKF2e7jTuOp=2FM1GOsUunHlXNYc0GXDSTI?=\r",
      "\r\n",
      " =?us-ascii?Q?eIJAfuieEID8=2FH8PGvO+FXQVWDNKptHj3y6g2Kv?=\r",
      "\r\n",
      " =?us-ascii?Q?FXcnFYI7+bxpzJbhiIrBRV49wNR7JJw=2FsG6Rkbo?=\r",
      "\r\n",
      " =?us-ascii?Q?=2FMDxljExOqXHlCZj=2FifbnYPyPQNglM5XPbhZj1X?=\r",
      "\r\n",
      " =?us-ascii?Q?wb0J0Aefj6BXSJp5htHrw=3D=3D?=\r",
      "\r\n",
      "X-SG-ID: \r",
      "\r\n",
      " =?us-ascii?Q?N2C25iY2uzGMFz6rgvQsb8raWjw0ZPf1VmjsCkspi=2FIHJB=2FeqzSDbcmNkuJiuK?=\r",
      "\r\n",
      " =?us-ascii?Q?Fg3N4ORZAdcHg=2FstZ3wdCeNg=3D=3D?=\r",
      "\r\n",
      "To: reuven@lerner.co.il\r",
      "\r\n",
      "X-Entity-ID: 5bp/n17IzSzEkvSgzQ4kYA==\r",
      "\r\n",
      "\r",
      "\r\n",
      "--65c0e9e77d0546071ffc7aec3ce08dc4585a39c8ca1f2edc244d4e2bdd82\r",
      "\r\n",
      "Content-Transfer-Encoding: quoted-printable\r",
      "\r\n",
      "Content-Type: text/plain; charset=us-ascii\r",
      "\r\n",
      "Mime-Version: 1.0\r",
      "\r\n",
      "\r",
      "\r\n",
      "*********************\r",
      "\r\n",
      "Want to attend PyCon?\r",
      "\r\n",
      "*********************\r",
      "\r\n",
      "\r",
      "\r\n",
      "Hi, {{ subscriber.first_name }}!\r",
      "\r\n",
      "\r",
      "\r\n",
      "Next week is an exciting one in the Python community: It's PyCon,\r",
      "\r\n",
      "the annual get together for everyone who uses, contributes to, or\r",
      "\r\n",
      "wants to learn Python.\r",
      "\r\n",
      "\r",
      "\r\n",
      "The bad news, of course, is that because of the coronavirus\r",
      "\r\n",
      "pandemic, PyCon won't be held in person.\r",
      "\r\n",
      "\r",
      "\r\n",
      "The good news is that it'll be online, meaning that even if you\r",
      "\r\n",
      "can't fly to Pittsburgh (where it was scheduled to take place),\r",
      "\r\n",
      "you can still attend.\r",
      "\r\n",
      "\r",
      "\r\n",
      "Other good news:* For the third year in a row, I'll be giving a\r",
      "\r\n",
      "talk. This year, my talk is called, \"When is an exception not an\r",
      "\r\n",
      "exception? Warnings in Python.\" I recorded it a week ago, and\r",
      "\r\n",
      "will be in the live chat room when it's broadcast on Saturday\r",
      "\r\n",
      "afternoon (Eastern time).\r",
      "\r\n",
      "* Also for the third year in a row, I'm sponsoring PyCon, as well\r",
      "\r\n",
      "as the Python Software Foundation. I won't have a booth, since\r",
      "\r\n",
      "the conference will be taking place at night and over holidays in\r",
      "\r\n",
      "Israel, but I am trying to help support the language that we use\r",
      "\r\n",
      "and love. And my snazzy new training logo is on the PyCon site,\r",
      "\r\n",
      "which makes me feel good.\r",
      "\r\n",
      "\r",
      "\r\n",
      "Because I'm a sponsor, I'm entitled to several free tickets to\r",
      "\r\n",
      "PyCon. And so: If you want to attend PyCon, but haven't been\r",
      "\r\n",
      "able to do so for whatever reason, I'd love to help you out!\r",
      "\r\n",
      "\r",
      "\r\n",
      "It's simple: Just respond to this message, and I'll put you in a\r",
      "\r\n"
     ]
    }
   ],
   "source": [
    "!head -100 /Users/reuven/Library/Thunderbird/Profiles/5sj97g04.default/ImapMail/imap.emailsrvr.com/INBOX.sbd/raffle"
   ]
  },
  {
   "cell_type": "code",
   "execution_count": 22,
   "metadata": {
    "scrolled": true
   },
   "outputs": [
    {
     "data": {
      "text/plain": [
       "91"
      ]
     },
     "execution_count": 22,
     "metadata": {},
     "output_type": "execute_result"
    }
   ],
   "source": [
    "import mailbox\n",
    "\n",
    "all_addresses = {one_message['Reply-To'] or one_message['From']\n",
    "                 for one_message in mailbox.mbox(filename) }\n",
    "\n",
    "len(all_addresses)"
   ]
  },
  {
   "cell_type": "code",
   "execution_count": 27,
   "metadata": {},
   "outputs": [
    {
     "name": "stdout",
     "output_type": "stream",
     "text": [
     ""
     ]
    }
   ],
   "source": [
    "import random\n",
    "\n",
    "all_addresses = list(all_addresses)\n",
    "\n",
    "\n",
    "for i in range(4):\n",
    "    print(random.choice(all_addresses))"
   ]
  },
  {
   "cell_type": "code",
   "execution_count": 21,
   "metadata": {},
   "outputs": [
    {
     "data": {
      "text/plain": [
      ""
      ]
     },
     "execution_count": 21,
     "metadata": {},
     "output_type": "execute_result"
    }
   ],
   "source": [
    "all_addresses"
   ]
  },
  {
   "cell_type": "code",
   "execution_count": null,
   "metadata": {},
   "outputs": [],
   "source": []
  }
 ],
 "metadata": {
  "kernelspec": {
   "display_name": "Python 3",
   "language": "python",
   "name": "python3"
  },
  "language_info": {
   "codemirror_mode": {
    "name": "ipython",
    "version": 3
   },
   "file_extension": ".py",
   "mimetype": "text/x-python",
   "name": "python",
   "nbconvert_exporter": "python",
   "pygments_lexer": "ipython3",
   "version": "3.9.5"
  }
 },
 "nbformat": 4,
 "nbformat_minor": 4
}
