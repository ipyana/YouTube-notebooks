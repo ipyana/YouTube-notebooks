{
 "cells": [
  {
   "cell_type": "code",
   "execution_count": 1,
   "id": "4f431a79",
   "metadata": {},
   "outputs": [],
   "source": [
    "import pandas as pd\n"
   ]
  },
  {
   "cell_type": "code",
   "execution_count": 2,
   "id": "22a1a7b3",
   "metadata": {},
   "outputs": [
    {
     "name": "stderr",
     "output_type": "stream",
     "text": [
      "/var/folders/rr/0mnyyv811fs5vyp22gf4fxk00000gn/T/ipykernel_55105/171717074.py:1: DtypeWarning: Columns (6) have mixed types. Specify dtype option on import or set low_memory=False.\n",
      "  df = pd.read_csv('/Users/reuven/Courses/Current/data/nyc_taxi_2019-07.csv')\n"
     ]
    }
   ],
   "source": [
    "df = pd.read_csv('/Users/reuven/Courses/Current/data/nyc_taxi_2019-07.csv')"
   ]
  },
  {
   "cell_type": "code",
   "execution_count": 4,
   "id": "969170cc",
   "metadata": {},
   "outputs": [
    {
     "name": "stdout",
     "output_type": "stream",
     "text": [
      "-rw-r--r-- 1 reuven staff 558M Jun  4  2021 /Users/reuven/Courses/Current/data/nyc_taxi_2019-07.csv\r\n"
     ]
    }
   ],
   "source": [
    "!ls -lh /Users/reuven/Courses/Current/data/nyc_taxi_2019-07.csv"
   ]
  },
  {
   "cell_type": "code",
   "execution_count": 5,
   "id": "0650848b",
   "metadata": {},
   "outputs": [
    {
     "name": "stdout",
     "output_type": "stream",
     "text": [
      "<class 'pandas.core.frame.DataFrame'>\n",
      "RangeIndex: 6310419 entries, 0 to 6310418\n",
      "Data columns (total 18 columns):\n",
      " #   Column                 Dtype  \n",
      "---  ------                 -----  \n",
      " 0   VendorID               float64\n",
      " 1   tpep_pickup_datetime   object \n",
      " 2   tpep_dropoff_datetime  object \n",
      " 3   passenger_count        float64\n",
      " 4   trip_distance          float64\n",
      " 5   RatecodeID             float64\n",
      " 6   store_and_fwd_flag     object \n",
      " 7   PULocationID           int64  \n",
      " 8   DOLocationID           int64  \n",
      " 9   payment_type           float64\n",
      " 10  fare_amount            float64\n",
      " 11  extra                  float64\n",
      " 12  mta_tax                float64\n",
      " 13  tip_amount             float64\n",
      " 14  tolls_amount           float64\n",
      " 15  improvement_surcharge  float64\n",
      " 16  total_amount           float64\n",
      " 17  congestion_surcharge   float64\n",
      "dtypes: float64(13), int64(2), object(3)\n",
      "memory usage: 866.6+ MB\n"
     ]
    }
   ],
   "source": [
    "df.info()"
   ]
  },
  {
   "cell_type": "code",
   "execution_count": 6,
   "id": "6fbee9d0",
   "metadata": {},
   "outputs": [
    {
     "name": "stdout",
     "output_type": "stream",
     "text": [
      "<class 'pandas.core.frame.DataFrame'>\n",
      "RangeIndex: 6310419 entries, 0 to 6310418\n",
      "Data columns (total 18 columns):\n",
      " #   Column                 Dtype  \n",
      "---  ------                 -----  \n",
      " 0   VendorID               float64\n",
      " 1   tpep_pickup_datetime   object \n",
      " 2   tpep_dropoff_datetime  object \n",
      " 3   passenger_count        float64\n",
      " 4   trip_distance          float64\n",
      " 5   RatecodeID             float64\n",
      " 6   store_and_fwd_flag     object \n",
      " 7   PULocationID           int64  \n",
      " 8   DOLocationID           int64  \n",
      " 9   payment_type           float64\n",
      " 10  fare_amount            float64\n",
      " 11  extra                  float64\n",
      " 12  mta_tax                float64\n",
      " 13  tip_amount             float64\n",
      " 14  tolls_amount           float64\n",
      " 15  improvement_surcharge  float64\n",
      " 16  total_amount           float64\n",
      " 17  congestion_surcharge   float64\n",
      "dtypes: float64(13), int64(2), object(3)\n",
      "memory usage: 1.9 GB\n"
     ]
    }
   ],
   "source": [
    "df.info(memory_usage='deep')"
   ]
  },
  {
   "cell_type": "markdown",
   "id": "1f4d889d",
   "metadata": {},
   "source": [
    "# Method 1: Choose your columns wisely\n",
    "\n"
   ]
  },
  {
   "cell_type": "code",
   "execution_count": 7,
   "id": "15114650",
   "metadata": {},
   "outputs": [
    {
     "data": {
      "text/plain": [
       "(6310419, 18)"
      ]
     },
     "execution_count": 7,
     "metadata": {},
     "output_type": "execute_result"
    }
   ],
   "source": [
    "df.shape"
   ]
  },
  {
   "cell_type": "code",
   "execution_count": 8,
   "id": "e1a81bdd",
   "metadata": {},
   "outputs": [
    {
     "data": {
      "text/plain": [
       "Index(['VendorID', 'tpep_pickup_datetime', 'tpep_dropoff_datetime',\n",
       "       'passenger_count', 'trip_distance', 'RatecodeID', 'store_and_fwd_flag',\n",
       "       'PULocationID', 'DOLocationID', 'payment_type', 'fare_amount', 'extra',\n",
       "       'mta_tax', 'tip_amount', 'tolls_amount', 'improvement_surcharge',\n",
       "       'total_amount', 'congestion_surcharge'],\n",
       "      dtype='object')"
      ]
     },
     "execution_count": 8,
     "metadata": {},
     "output_type": "execute_result"
    }
   ],
   "source": [
    "df.columns"
   ]
  },
  {
   "cell_type": "code",
   "execution_count": 9,
   "id": "f827cfad",
   "metadata": {},
   "outputs": [],
   "source": [
    "df = pd.read_csv('/Users/reuven/Courses/Current/data/nyc_taxi_2019-07.csv',\n",
    "                usecols=['tpep_pickup_datetime', 'tpep_dropoff_datetime',\n",
    "                        'passenger_count', 'trip_distance', 'total_amount', 'payment_type'])"
   ]
  },
  {
   "cell_type": "code",
   "execution_count": 10,
   "id": "0c756ffa",
   "metadata": {},
   "outputs": [
    {
     "name": "stdout",
     "output_type": "stream",
     "text": [
      "<class 'pandas.core.frame.DataFrame'>\n",
      "RangeIndex: 6310419 entries, 0 to 6310418\n",
      "Data columns (total 6 columns):\n",
      " #   Column                 Dtype  \n",
      "---  ------                 -----  \n",
      " 0   tpep_pickup_datetime   object \n",
      " 1   tpep_dropoff_datetime  object \n",
      " 2   passenger_count        float64\n",
      " 3   trip_distance          float64\n",
      " 4   payment_type           float64\n",
      " 5   total_amount           float64\n",
      "dtypes: float64(4), object(2)\n",
      "memory usage: 1.1 GB\n"
     ]
    }
   ],
   "source": [
    "df.info(memory_usage='deep')"
   ]
  },
  {
   "cell_type": "markdown",
   "id": "39a31ce3",
   "metadata": {},
   "source": [
    "# Method 2: Choose dtypes appropriately"
   ]
  },
  {
   "cell_type": "code",
   "execution_count": 11,
   "id": "29ee8e82",
   "metadata": {},
   "outputs": [
    {
     "data": {
      "text/plain": [
       "1.0    4380890\n",
       "2.0     953756\n",
       "3.0     279181\n",
       "5.0     254262\n",
       "6.0     151710\n",
       "4.0     139710\n",
       "0.0     116884\n",
       "7.0         29\n",
       "8.0         22\n",
       "9.0         16\n",
       "Name: passenger_count, dtype: int64"
      ]
     },
     "execution_count": 11,
     "metadata": {},
     "output_type": "execute_result"
    }
   ],
   "source": [
    "df['passenger_count'].value_counts()"
   ]
  },
  {
   "cell_type": "code",
   "execution_count": 14,
   "id": "d677eef2",
   "metadata": {},
   "outputs": [],
   "source": [
    "# replace the old column with a new column of the same name, with 1/4 the memory usage!\n",
    "df['passenger_count'] = df['passenger_count'].astype('float16')"
   ]
  },
  {
   "cell_type": "code",
   "execution_count": 15,
   "id": "fb0d3096",
   "metadata": {},
   "outputs": [],
   "source": [
    "df['trip_distance'] = df['trip_distance'].astype('float16')\n",
    "df['total_amount'] = df['total_amount'].astype('float16')\n"
   ]
  },
  {
   "cell_type": "code",
   "execution_count": 16,
   "id": "3a3908b0",
   "metadata": {},
   "outputs": [
    {
     "name": "stdout",
     "output_type": "stream",
     "text": [
      "<class 'pandas.core.frame.DataFrame'>\n",
      "RangeIndex: 6310419 entries, 0 to 6310418\n",
      "Data columns (total 6 columns):\n",
      " #   Column                 Dtype  \n",
      "---  ------                 -----  \n",
      " 0   tpep_pickup_datetime   object \n",
      " 1   tpep_dropoff_datetime  object \n",
      " 2   passenger_count        float16\n",
      " 3   trip_distance          float16\n",
      " 4   payment_type           float64\n",
      " 5   total_amount           float16\n",
      "dtypes: float16(3), float64(1), object(2)\n",
      "memory usage: 999.0 MB\n"
     ]
    }
   ],
   "source": [
    "df.info(memory_usage='deep')"
   ]
  },
  {
   "cell_type": "code",
   "execution_count": 17,
   "id": "557b6ee7",
   "metadata": {},
   "outputs": [
    {
     "data": {
      "text/html": [
       "<div>\n",
       "<style scoped>\n",
       "    .dataframe tbody tr th:only-of-type {\n",
       "        vertical-align: middle;\n",
       "    }\n",
       "\n",
       "    .dataframe tbody tr th {\n",
       "        vertical-align: top;\n",
       "    }\n",
       "\n",
       "    .dataframe thead th {\n",
       "        text-align: right;\n",
       "    }\n",
       "</style>\n",
       "<table border=\"1\" class=\"dataframe\">\n",
       "  <thead>\n",
       "    <tr style=\"text-align: right;\">\n",
       "      <th></th>\n",
       "      <th>tpep_pickup_datetime</th>\n",
       "      <th>tpep_dropoff_datetime</th>\n",
       "      <th>passenger_count</th>\n",
       "      <th>trip_distance</th>\n",
       "      <th>payment_type</th>\n",
       "      <th>total_amount</th>\n",
       "    </tr>\n",
       "  </thead>\n",
       "  <tbody>\n",
       "    <tr>\n",
       "      <th>0</th>\n",
       "      <td>2019-07-01 00:51:04</td>\n",
       "      <td>2019-07-01 00:51:33</td>\n",
       "      <td>1.0</td>\n",
       "      <td>0.000000</td>\n",
       "      <td>1.0</td>\n",
       "      <td>4.941406</td>\n",
       "    </tr>\n",
       "    <tr>\n",
       "      <th>1</th>\n",
       "      <td>2019-07-01 00:46:04</td>\n",
       "      <td>2019-07-01 01:05:46</td>\n",
       "      <td>1.0</td>\n",
       "      <td>4.160156</td>\n",
       "      <td>2.0</td>\n",
       "      <td>20.296875</td>\n",
       "    </tr>\n",
       "    <tr>\n",
       "      <th>2</th>\n",
       "      <td>2019-07-01 00:25:09</td>\n",
       "      <td>2019-07-01 01:00:56</td>\n",
       "      <td>1.0</td>\n",
       "      <td>18.796875</td>\n",
       "      <td>1.0</td>\n",
       "      <td>70.687500</td>\n",
       "    </tr>\n",
       "    <tr>\n",
       "      <th>3</th>\n",
       "      <td>2019-07-01 00:33:32</td>\n",
       "      <td>2019-07-01 01:15:27</td>\n",
       "      <td>1.0</td>\n",
       "      <td>18.453125</td>\n",
       "      <td>1.0</td>\n",
       "      <td>66.375000</td>\n",
       "    </tr>\n",
       "    <tr>\n",
       "      <th>4</th>\n",
       "      <td>2019-07-01 00:00:55</td>\n",
       "      <td>2019-07-01 00:13:05</td>\n",
       "      <td>0.0</td>\n",
       "      <td>1.700195</td>\n",
       "      <td>1.0</td>\n",
       "      <td>15.296875</td>\n",
       "    </tr>\n",
       "    <tr>\n",
       "      <th>...</th>\n",
       "      <td>...</td>\n",
       "      <td>...</td>\n",
       "      <td>...</td>\n",
       "      <td>...</td>\n",
       "      <td>...</td>\n",
       "      <td>...</td>\n",
       "    </tr>\n",
       "    <tr>\n",
       "      <th>6310414</th>\n",
       "      <td>2019-07-29 16:34:53</td>\n",
       "      <td>2019-07-29 16:53:20</td>\n",
       "      <td>NaN</td>\n",
       "      <td>3.859375</td>\n",
       "      <td>NaN</td>\n",
       "      <td>29.000000</td>\n",
       "    </tr>\n",
       "    <tr>\n",
       "      <th>6310415</th>\n",
       "      <td>2019-07-29 16:07:57</td>\n",
       "      <td>2019-07-29 17:26:41</td>\n",
       "      <td>NaN</td>\n",
       "      <td>15.476562</td>\n",
       "      <td>NaN</td>\n",
       "      <td>54.437500</td>\n",
       "    </tr>\n",
       "    <tr>\n",
       "      <th>6310416</th>\n",
       "      <td>2019-07-29 16:01:31</td>\n",
       "      <td>2019-07-29 17:15:38</td>\n",
       "      <td>NaN</td>\n",
       "      <td>12.921875</td>\n",
       "      <td>NaN</td>\n",
       "      <td>65.375000</td>\n",
       "    </tr>\n",
       "    <tr>\n",
       "      <th>6310417</th>\n",
       "      <td>2019-07-29 16:58:00</td>\n",
       "      <td>2019-07-29 17:42:00</td>\n",
       "      <td>NaN</td>\n",
       "      <td>7.121094</td>\n",
       "      <td>NaN</td>\n",
       "      <td>43.000000</td>\n",
       "    </tr>\n",
       "    <tr>\n",
       "      <th>6310418</th>\n",
       "      <td>2019-07-29 16:16:00</td>\n",
       "      <td>2019-07-29 16:33:00</td>\n",
       "      <td>NaN</td>\n",
       "      <td>1.769531</td>\n",
       "      <td>NaN</td>\n",
       "      <td>22.156250</td>\n",
       "    </tr>\n",
       "  </tbody>\n",
       "</table>\n",
       "<p>6310419 rows × 6 columns</p>\n",
       "</div>"
      ],
      "text/plain": [
       "        tpep_pickup_datetime tpep_dropoff_datetime  passenger_count  \\\n",
       "0        2019-07-01 00:51:04   2019-07-01 00:51:33              1.0   \n",
       "1        2019-07-01 00:46:04   2019-07-01 01:05:46              1.0   \n",
       "2        2019-07-01 00:25:09   2019-07-01 01:00:56              1.0   \n",
       "3        2019-07-01 00:33:32   2019-07-01 01:15:27              1.0   \n",
       "4        2019-07-01 00:00:55   2019-07-01 00:13:05              0.0   \n",
       "...                      ...                   ...              ...   \n",
       "6310414  2019-07-29 16:34:53   2019-07-29 16:53:20              NaN   \n",
       "6310415  2019-07-29 16:07:57   2019-07-29 17:26:41              NaN   \n",
       "6310416  2019-07-29 16:01:31   2019-07-29 17:15:38              NaN   \n",
       "6310417  2019-07-29 16:58:00   2019-07-29 17:42:00              NaN   \n",
       "6310418  2019-07-29 16:16:00   2019-07-29 16:33:00              NaN   \n",
       "\n",
       "         trip_distance  payment_type  total_amount  \n",
       "0             0.000000           1.0      4.941406  \n",
       "1             4.160156           2.0     20.296875  \n",
       "2            18.796875           1.0     70.687500  \n",
       "3            18.453125           1.0     66.375000  \n",
       "4             1.700195           1.0     15.296875  \n",
       "...                ...           ...           ...  \n",
       "6310414       3.859375           NaN     29.000000  \n",
       "6310415      15.476562           NaN     54.437500  \n",
       "6310416      12.921875           NaN     65.375000  \n",
       "6310417       7.121094           NaN     43.000000  \n",
       "6310418       1.769531           NaN     22.156250  \n",
       "\n",
       "[6310419 rows x 6 columns]"
      ]
     },
     "execution_count": 17,
     "metadata": {},
     "output_type": "execute_result"
    }
   ],
   "source": [
    "df"
   ]
  },
  {
   "cell_type": "code",
   "execution_count": 20,
   "id": "9eaba978",
   "metadata": {},
   "outputs": [],
   "source": [
    "df['tpep_pickup_datetime'] = pd.to_datetime(df['tpep_pickup_datetime'])\n",
    "df['tpep_dropoff_datetime'] = pd.to_datetime(df['tpep_dropoff_datetime'])"
   ]
  },
  {
   "cell_type": "code",
   "execution_count": 22,
   "id": "0716a064",
   "metadata": {},
   "outputs": [
    {
     "name": "stdout",
     "output_type": "stream",
     "text": [
      "<class 'pandas.core.frame.DataFrame'>\n",
      "RangeIndex: 6310419 entries, 0 to 6310418\n",
      "Data columns (total 6 columns):\n",
      " #   Column                 Dtype         \n",
      "---  ------                 -----         \n",
      " 0   tpep_pickup_datetime   datetime64[ns]\n",
      " 1   tpep_dropoff_datetime  datetime64[ns]\n",
      " 2   passenger_count        float16       \n",
      " 3   trip_distance          float16       \n",
      " 4   payment_type           float64       \n",
      " 5   total_amount           float16       \n",
      "dtypes: datetime64[ns](2), float16(3), float64(1)\n",
      "memory usage: 180.5 MB\n"
     ]
    }
   ],
   "source": [
    "df.info(memory_usage='deep')"
   ]
  },
  {
   "cell_type": "markdown",
   "id": "4e465886",
   "metadata": {},
   "source": [
    "# Method 3: Remove rows you don't need"
   ]
  },
  {
   "cell_type": "code",
   "execution_count": 23,
   "id": "6d40fdee",
   "metadata": {},
   "outputs": [
    {
     "data": {
      "text/plain": [
       "False    6297132\n",
       "True       13287\n",
       "Name: total_amount, dtype: int64"
      ]
     },
     "execution_count": 23,
     "metadata": {},
     "output_type": "execute_result"
    }
   ],
   "source": [
    "# get rid of any rows in which the total_amount < 0\n",
    "\n",
    "(df['total_amount'] < 0).value_counts()"
   ]
  },
  {
   "cell_type": "code",
   "execution_count": 24,
   "id": "bde95c2f",
   "metadata": {},
   "outputs": [],
   "source": [
    "df = df.loc[df['total_amount'] >= 0]"
   ]
  },
  {
   "cell_type": "code",
   "execution_count": 25,
   "id": "a49fcd9f",
   "metadata": {},
   "outputs": [
    {
     "name": "stdout",
     "output_type": "stream",
     "text": [
      "<class 'pandas.core.frame.DataFrame'>\n",
      "Int64Index: 6297132 entries, 0 to 6310418\n",
      "Data columns (total 6 columns):\n",
      " #   Column                 Dtype         \n",
      "---  ------                 -----         \n",
      " 0   tpep_pickup_datetime   datetime64[ns]\n",
      " 1   tpep_dropoff_datetime  datetime64[ns]\n",
      " 2   passenger_count        float16       \n",
      " 3   trip_distance          float16       \n",
      " 4   payment_type           float64       \n",
      " 5   total_amount           float16       \n",
      "dtypes: datetime64[ns](2), float16(3), float64(1)\n",
      "memory usage: 228.2 MB\n"
     ]
    }
   ],
   "source": [
    "df.info(memory_usage='deep')"
   ]
  },
  {
   "cell_type": "code",
   "execution_count": 27,
   "id": "2e2cab18",
   "metadata": {},
   "outputs": [
    {
     "data": {
      "text/plain": [
       "False    6263194\n",
       "True       33938\n",
       "Name: passenger_count, dtype: int64"
      ]
     },
     "execution_count": 27,
     "metadata": {},
     "output_type": "execute_result"
    }
   ],
   "source": [
    "# remove any rows in which passenger_count is NaN\n",
    "\n",
    "(df['passenger_count'].isnull()).value_counts()"
   ]
  },
  {
   "cell_type": "code",
   "execution_count": 29,
   "id": "2d3d80df",
   "metadata": {},
   "outputs": [],
   "source": [
    "df = df.loc[~df['passenger_count'].isnull()]"
   ]
  },
  {
   "cell_type": "code",
   "execution_count": 30,
   "id": "8237f55a",
   "metadata": {},
   "outputs": [
    {
     "data": {
      "text/plain": [
       "(6263194, 6)"
      ]
     },
     "execution_count": 30,
     "metadata": {},
     "output_type": "execute_result"
    }
   ],
   "source": [
    "df.shape"
   ]
  },
  {
   "cell_type": "code",
   "execution_count": 31,
   "id": "d5055796",
   "metadata": {},
   "outputs": [
    {
     "name": "stdout",
     "output_type": "stream",
     "text": [
      "<class 'pandas.core.frame.DataFrame'>\n",
      "Int64Index: 6263194 entries, 0 to 6276459\n",
      "Data columns (total 6 columns):\n",
      " #   Column                 Dtype         \n",
      "---  ------                 -----         \n",
      " 0   tpep_pickup_datetime   datetime64[ns]\n",
      " 1   tpep_dropoff_datetime  datetime64[ns]\n",
      " 2   passenger_count        float16       \n",
      " 3   trip_distance          float16       \n",
      " 4   payment_type           float64       \n",
      " 5   total_amount           float16       \n",
      "dtypes: datetime64[ns](2), float16(3), float64(1)\n",
      "memory usage: 227.0 MB\n"
     ]
    }
   ],
   "source": [
    "df.info(memory_usage='deep')"
   ]
  },
  {
   "cell_type": "code",
   "execution_count": 33,
   "id": "62d8710d",
   "metadata": {},
   "outputs": [],
   "source": [
    "# now I can actually turn passenger_count into an integer column!\n",
    "\n",
    "df['passenger_count'] = df['passenger_count'].astype('int8')"
   ]
  },
  {
   "cell_type": "code",
   "execution_count": 34,
   "id": "f18e6d78",
   "metadata": {},
   "outputs": [
    {
     "name": "stdout",
     "output_type": "stream",
     "text": [
      "<class 'pandas.core.frame.DataFrame'>\n",
      "Int64Index: 6263194 entries, 0 to 6276459\n",
      "Data columns (total 6 columns):\n",
      " #   Column                 Dtype         \n",
      "---  ------                 -----         \n",
      " 0   tpep_pickup_datetime   datetime64[ns]\n",
      " 1   tpep_dropoff_datetime  datetime64[ns]\n",
      " 2   passenger_count        int8          \n",
      " 3   trip_distance          float16       \n",
      " 4   payment_type           float64       \n",
      " 5   total_amount           float16       \n",
      "dtypes: datetime64[ns](2), float16(2), float64(1), int8(1)\n",
      "memory usage: 221.0 MB\n"
     ]
    }
   ],
   "source": [
    "df.info(memory_usage='deep')"
   ]
  },
  {
   "cell_type": "code",
   "execution_count": 37,
   "id": "e820bd61",
   "metadata": {},
   "outputs": [],
   "source": [
    "df['payment_type'] = df['payment_type'].astype('int8')"
   ]
  },
  {
   "cell_type": "code",
   "execution_count": 38,
   "id": "63bf82dc",
   "metadata": {},
   "outputs": [
    {
     "name": "stdout",
     "output_type": "stream",
     "text": [
      "<class 'pandas.core.frame.DataFrame'>\n",
      "Int64Index: 6263194 entries, 0 to 6276459\n",
      "Data columns (total 6 columns):\n",
      " #   Column                 Dtype         \n",
      "---  ------                 -----         \n",
      " 0   tpep_pickup_datetime   datetime64[ns]\n",
      " 1   tpep_dropoff_datetime  datetime64[ns]\n",
      " 2   passenger_count        int8          \n",
      " 3   trip_distance          float16       \n",
      " 4   payment_type           int8          \n",
      " 5   total_amount           float16       \n",
      "dtypes: datetime64[ns](2), float16(2), int8(2)\n",
      "memory usage: 179.2 MB\n"
     ]
    }
   ],
   "source": [
    "df.info(memory_usage='deep')"
   ]
  },
  {
   "cell_type": "code",
   "execution_count": null,
   "id": "df31285b",
   "metadata": {},
   "outputs": [],
   "source": []
  }
 ],
 "metadata": {
  "kernelspec": {
   "display_name": "Python 3 (ipykernel)",
   "language": "python",
   "name": "python3"
  },
  "language_info": {
   "codemirror_mode": {
    "name": "ipython",
    "version": 3
   },
   "file_extension": ".py",
   "mimetype": "text/x-python",
   "name": "python",
   "nbconvert_exporter": "python",
   "pygments_lexer": "ipython3",
   "version": "3.11.0"
  }
 },
 "nbformat": 4,
 "nbformat_minor": 5
}
