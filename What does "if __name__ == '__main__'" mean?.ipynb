{
 "cells": [
  {
   "cell_type": "code",
   "execution_count": 1,
   "id": "46f8ae4f",
   "metadata": {},
   "outputs": [
    {
     "name": "stdout",
     "output_type": "stream",
     "text": [
      "Hello!\n"
     ]
    }
   ],
   "source": [
    "if __name__ == '__main__':\n",
    "    print('Hello!')"
   ]
  },
  {
   "cell_type": "code",
   "execution_count": 2,
   "id": "1a958ce3",
   "metadata": {},
   "outputs": [],
   "source": [
    "import random"
   ]
  },
  {
   "cell_type": "code",
   "execution_count": 3,
   "id": "21674900",
   "metadata": {},
   "outputs": [
    {
     "data": {
      "text/plain": [
       "['BPF',\n",
       " 'LOG4',\n",
       " 'NV_MAGICCONST',\n",
       " 'RECIP_BPF',\n",
       " 'Random',\n",
       " 'SG_MAGICCONST',\n",
       " 'SystemRandom',\n",
       " 'TWOPI',\n",
       " '_ONE',\n",
       " '_Sequence',\n",
       " '_Set',\n",
       " '__all__',\n",
       " '__builtins__',\n",
       " '__cached__',\n",
       " '__doc__',\n",
       " '__file__',\n",
       " '__loader__',\n",
       " '__name__',\n",
       " '__package__',\n",
       " '__spec__',\n",
       " '_accumulate',\n",
       " '_acos',\n",
       " '_bisect',\n",
       " '_ceil',\n",
       " '_cos',\n",
       " '_e',\n",
       " '_exp',\n",
       " '_floor',\n",
       " '_index',\n",
       " '_inst',\n",
       " '_isfinite',\n",
       " '_log',\n",
       " '_os',\n",
       " '_pi',\n",
       " '_random',\n",
       " '_repeat',\n",
       " '_sha512',\n",
       " '_sin',\n",
       " '_sqrt',\n",
       " '_test',\n",
       " '_test_generator',\n",
       " '_urandom',\n",
       " '_warn',\n",
       " 'betavariate',\n",
       " 'choice',\n",
       " 'choices',\n",
       " 'expovariate',\n",
       " 'gammavariate',\n",
       " 'gauss',\n",
       " 'getrandbits',\n",
       " 'getstate',\n",
       " 'lognormvariate',\n",
       " 'normalvariate',\n",
       " 'paretovariate',\n",
       " 'randbytes',\n",
       " 'randint',\n",
       " 'random',\n",
       " 'randrange',\n",
       " 'sample',\n",
       " 'seed',\n",
       " 'setstate',\n",
       " 'shuffle',\n",
       " 'triangular',\n",
       " 'uniform',\n",
       " 'vonmisesvariate',\n",
       " 'weibullvariate']"
      ]
     },
     "execution_count": 3,
     "metadata": {},
     "output_type": "execute_result"
    }
   ],
   "source": [
    "dir(random)  # lists attributes that we can retrieve via random"
   ]
  },
  {
   "cell_type": "code",
   "execution_count": 4,
   "id": "659f1748",
   "metadata": {},
   "outputs": [
    {
     "data": {
      "text/plain": [
       "13"
      ]
     },
     "execution_count": 4,
     "metadata": {},
     "output_type": "execute_result"
    }
   ],
   "source": [
    "random.randint(0, 100)"
   ]
  },
  {
   "cell_type": "code",
   "execution_count": 6,
   "id": "cc19a3de",
   "metadata": {},
   "outputs": [
    {
     "data": {
      "text/plain": [
       "'random'"
      ]
     },
     "execution_count": 6,
     "metadata": {},
     "output_type": "execute_result"
    }
   ],
   "source": [
    "# __name__ is the string that a module uses to identify itself, both to itself and to the outside world\n",
    "\n",
    "random.__name__"
   ]
  },
  {
   "cell_type": "code",
   "execution_count": 7,
   "id": "78d2c887",
   "metadata": {},
   "outputs": [],
   "source": [
    "import numpy as np"
   ]
  },
  {
   "cell_type": "code",
   "execution_count": 8,
   "id": "ff5b87d9",
   "metadata": {},
   "outputs": [
    {
     "data": {
      "text/plain": [
       "'numpy'"
      ]
     },
     "execution_count": 8,
     "metadata": {},
     "output_type": "execute_result"
    }
   ],
   "source": [
    "np.__name__  # what are you really called?"
   ]
  },
  {
   "cell_type": "code",
   "execution_count": 9,
   "id": "69bda169",
   "metadata": {},
   "outputs": [],
   "source": [
    "import mynewmod"
   ]
  },
  {
   "cell_type": "code",
   "execution_count": 10,
   "id": "8c74dcbf",
   "metadata": {},
   "outputs": [
    {
     "data": {
      "text/plain": [
       "'mynewmod'"
      ]
     },
     "execution_count": 10,
     "metadata": {},
     "output_type": "execute_result"
    }
   ],
   "source": [
    "mynewmod.__name__"
   ]
  },
  {
   "cell_type": "code",
   "execution_count": 11,
   "id": "d076ad7f",
   "metadata": {},
   "outputs": [
    {
     "data": {
      "text/plain": [
       "['__builtins__',\n",
       " '__cached__',\n",
       " '__doc__',\n",
       " '__file__',\n",
       " '__loader__',\n",
       " '__name__',\n",
       " '__package__',\n",
       " '__spec__',\n",
       " 'x',\n",
       " 'y']"
      ]
     },
     "execution_count": 11,
     "metadata": {},
     "output_type": "execute_result"
    }
   ],
   "source": [
    "dir(mynewmod)"
   ]
  },
  {
   "cell_type": "code",
   "execution_count": 12,
   "id": "60a921f1",
   "metadata": {},
   "outputs": [
    {
     "data": {
      "text/plain": [
       "100"
      ]
     },
     "execution_count": 12,
     "metadata": {},
     "output_type": "execute_result"
    }
   ],
   "source": [
    "mynewmod.x"
   ]
  },
  {
   "cell_type": "code",
   "execution_count": 13,
   "id": "1c6764d7",
   "metadata": {},
   "outputs": [
    {
     "data": {
      "text/plain": [
       "[10, 20, 30]"
      ]
     },
     "execution_count": 13,
     "metadata": {},
     "output_type": "execute_result"
    }
   ],
   "source": [
    "mynewmod.y"
   ]
  },
  {
   "cell_type": "code",
   "execution_count": 1,
   "id": "959810c6",
   "metadata": {},
   "outputs": [
    {
     "name": "stdout",
     "output_type": "stream",
     "text": [
      "Hello from mynewmod!\n",
      "Goodbye from mynewmod!\n"
     ]
    }
   ],
   "source": [
    "import mynewmod"
   ]
  },
  {
   "cell_type": "code",
   "execution_count": 2,
   "id": "644e0043",
   "metadata": {},
   "outputs": [
    {
     "data": {
      "text/plain": [
       "['__builtins__',\n",
       " '__cached__',\n",
       " '__doc__',\n",
       " '__file__',\n",
       " '__loader__',\n",
       " '__name__',\n",
       " '__package__',\n",
       " '__spec__',\n",
       " 'x',\n",
       " 'y']"
      ]
     },
     "execution_count": 2,
     "metadata": {},
     "output_type": "execute_result"
    }
   ],
   "source": [
    "dir(mynewmod)"
   ]
  },
  {
   "cell_type": "code",
   "execution_count": 1,
   "id": "72504b8a",
   "metadata": {},
   "outputs": [
    {
     "name": "stdout",
     "output_type": "stream",
     "text": [
      "Hello from mynewmod!\n",
      "Goodbye from mynewmod!\n"
     ]
    }
   ],
   "source": [
    "import mynewmod"
   ]
  },
  {
   "cell_type": "code",
   "execution_count": 2,
   "id": "8cafbe48",
   "metadata": {},
   "outputs": [],
   "source": [
    "# __name__ is a global variable inside of our module\n",
    "# outside of our module, it's attribute on the module object"
   ]
  },
  {
   "cell_type": "markdown",
   "id": "55bcc461",
   "metadata": {},
   "source": [
    "# What does `__name__` contain?\n",
    "\n",
    "It always contains a string, but the string's value depends on what we're doing:\n",
    "\n",
    "- If we have imported a module, then that module's `__name__` contains the string of the module's name (as we've already seen).\n",
    "- If the module is a program, the *first* program that we have loaded with Python, then its value will be a special string, `'__main__'`."
   ]
  },
  {
   "cell_type": "code",
   "execution_count": 3,
   "id": "93519cee",
   "metadata": {},
   "outputs": [
    {
     "data": {
      "text/plain": [
       "'__main__'"
      ]
     },
     "execution_count": 3,
     "metadata": {},
     "output_type": "execute_result"
    }
   ],
   "source": [
    "__name__"
   ]
  },
  {
   "cell_type": "code",
   "execution_count": 1,
   "id": "808b9f15",
   "metadata": {},
   "outputs": [],
   "source": [
    "import mynewmod"
   ]
  },
  {
   "cell_type": "code",
   "execution_count": 2,
   "id": "64ed14c1",
   "metadata": {},
   "outputs": [
    {
     "data": {
      "text/plain": [
       "100"
      ]
     },
     "execution_count": 2,
     "metadata": {},
     "output_type": "execute_result"
    }
   ],
   "source": [
    "mynewmod.x"
   ]
  },
  {
   "cell_type": "code",
   "execution_count": 3,
   "id": "0784a955",
   "metadata": {},
   "outputs": [
    {
     "data": {
      "text/plain": [
       "[10, 20, 30]"
      ]
     },
     "execution_count": 3,
     "metadata": {},
     "output_type": "execute_result"
    }
   ],
   "source": [
    "mynewmod.y"
   ]
  },
  {
   "cell_type": "markdown",
   "id": "46e25a01",
   "metadata": {},
   "source": [
    "# Who cares?  Who would use this?\n",
    "\n",
    "1. You might want to provide an interactive method of invoking your module.\n",
    "2. You might want to invoke automated testing on your module.\n",
    "3. You can do a bit of advertising for your module.\n",
    "4. If you're using `multiprocessing`, then you should put your code under `if __name__ == '__main__'`"
   ]
  },
  {
   "cell_type": "code",
   "execution_count": null,
   "id": "2e925b08",
   "metadata": {},
   "outputs": [],
   "source": []
  }
 ],
 "metadata": {
  "kernelspec": {
   "display_name": "Python 3 (ipykernel)",
   "language": "python",
   "name": "python3"
  },
  "language_info": {
   "codemirror_mode": {
    "name": "ipython",
    "version": 3
   },
   "file_extension": ".py",
   "mimetype": "text/x-python",
   "name": "python",
   "nbconvert_exporter": "python",
   "pygments_lexer": "ipython3",
   "version": "3.10.6"
  }
 },
 "nbformat": 4,
 "nbformat_minor": 5
}
