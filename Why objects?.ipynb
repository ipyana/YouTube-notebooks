{
 "cells": [
  {
   "cell_type": "code",
   "execution_count": 1,
   "id": "9dcab524",
   "metadata": {},
   "outputs": [
    {
     "data": {
      "text/plain": [
       "'Reuven'"
      ]
     },
     "execution_count": 1,
     "metadata": {},
     "output_type": "execute_result"
    }
   ],
   "source": [
    "# each person tuple contains:\n",
    "# 0: first name\n",
    "# 1: last name\n",
    "# 2: age\n",
    "# 3: shoe size\n",
    "\n",
    "person = ('Reuven', 'Lerner', 51, 46)\n",
    "\n",
    "person[0]"
   ]
  },
  {
   "cell_type": "code",
   "execution_count": 2,
   "id": "81d2d9e6",
   "metadata": {},
   "outputs": [
    {
     "data": {
      "text/plain": [
       "'Lerner'"
      ]
     },
     "execution_count": 2,
     "metadata": {},
     "output_type": "execute_result"
    }
   ],
   "source": [
    "person[1]"
   ]
  },
  {
   "cell_type": "code",
   "execution_count": 4,
   "id": "8f64b680",
   "metadata": {},
   "outputs": [
    {
     "data": {
      "text/plain": [
       "'Reuven Lerner'"
      ]
     },
     "execution_count": 4,
     "metadata": {},
     "output_type": "execute_result"
    }
   ],
   "source": [
    "def get_first_name(p):\n",
    "    return p[0]\n",
    "\n",
    "def get_last_name(p):\n",
    "    return p[1]\n",
    "\n",
    "def get_age(p):\n",
    "    return p[2]\n",
    "\n",
    "def get_shoe_size(p):\n",
    "    return p[3]\n",
    "\n",
    "def get_full_name(p):\n",
    "    return f'{p[0]} {p[1]}'\n",
    "\n",
    "get_full_name(person)"
   ]
  },
  {
   "cell_type": "code",
   "execution_count": 5,
   "id": "f9653c9d",
   "metadata": {},
   "outputs": [
    {
     "data": {
      "text/plain": [
       "46"
      ]
     },
     "execution_count": 5,
     "metadata": {},
     "output_type": "execute_result"
    }
   ],
   "source": [
    "get_shoe_size(person)"
   ]
  },
  {
   "cell_type": "code",
   "execution_count": 6,
   "id": "4f705aa8",
   "metadata": {},
   "outputs": [
    {
     "data": {
      "text/plain": [
       "'Reuven Lerner'"
      ]
     },
     "execution_count": 6,
     "metadata": {},
     "output_type": "execute_result"
    }
   ],
   "source": [
    "person = ('Reuven', 'Lerner', 51, 46, 'Israel')\n",
    "\n",
    "# each person tuple contains:\n",
    "# 0: first name\n",
    "# 1: last name\n",
    "# 2: age\n",
    "# 3: shoe size\n",
    "# 4: country\n",
    "\n",
    "def get_first_name(p):\n",
    "    return p[0]\n",
    "\n",
    "def get_last_name(p):\n",
    "    return p[1]\n",
    "\n",
    "def get_age(p):\n",
    "    return p[2]\n",
    "\n",
    "def get_shoe_size(p):\n",
    "    return p[3]\n",
    "\n",
    "def get_country(p):\n",
    "    return p[4]\n",
    "\n",
    "def get_full_name(p):\n",
    "    return f'{p[0]} {p[1]}'\n",
    "\n",
    "get_full_name(person)"
   ]
  },
  {
   "cell_type": "code",
   "execution_count": 12,
   "id": "1052d33d",
   "metadata": {},
   "outputs": [
    {
     "name": "stdout",
     "output_type": "stream",
     "text": [
      "Reuven\n"
     ]
    }
   ],
   "source": [
    "# a class defines a new type of data in Python\n",
    "\n",
    "class Person:\n",
    "    # methods are functions defined inside of a class\n",
    "\n",
    "    # \"dunder init\" -- \"double underscore before and after the word, init\"\n",
    "    # any dunder method in Python is special -- we normally don't invoke it ourselves,\n",
    "    #  but we let Python call it on our behalf at particular points in time\n",
    "\n",
    "    # this method is invoked immediately after a new Person object is created, but before it\n",
    "    # is returned to the user\n",
    "\n",
    "    # the role of __init__ is to add new attributes (after a dot) to the newly created object\n",
    "    # the first parameter for any method is called \"self\"\n",
    "    # any attribute we assign to self will be added to the new object\n",
    "\n",
    "    def __init__(self, first, last):\n",
    "        self.first = first\n",
    "        self.last = last\n",
    "        \n",
    "    def full_name(self):\n",
    "        return f'{self.first} {self.last}'\n",
    "        \n",
    "# I call the Person class and get back a new object of type Person\n",
    "# I pass two arguments, 'Reuven' and 'Lerner', which will be assigned to the fields\n",
    "# first and last\n",
    "p = Person('Reuven', 'Lerner')        \n",
    "\n",
    "# I can retrieve the field first with p.first\n",
    "print(p.first)"
   ]
  },
  {
   "cell_type": "code",
   "execution_count": 13,
   "id": "690c4755",
   "metadata": {},
   "outputs": [
    {
     "name": "stdout",
     "output_type": "stream",
     "text": [
      "Lerner\n"
     ]
    }
   ],
   "source": [
    "print(p.last)"
   ]
  },
  {
   "cell_type": "code",
   "execution_count": 14,
   "id": "1b3b1083",
   "metadata": {},
   "outputs": [
    {
     "data": {
      "text/plain": [
       "{'first': 'Reuven', 'last': 'Lerner'}"
      ]
     },
     "execution_count": 14,
     "metadata": {},
     "output_type": "execute_result"
    }
   ],
   "source": [
    "vars(p)"
   ]
  },
  {
   "cell_type": "code",
   "execution_count": 15,
   "id": "a98a63f6",
   "metadata": {},
   "outputs": [
    {
     "data": {
      "text/plain": [
       "{'first': 'Mary', 'last': 'Smith'}"
      ]
     },
     "execution_count": 15,
     "metadata": {},
     "output_type": "execute_result"
    }
   ],
   "source": [
    "p2 = Person('Mary', 'Smith')\n",
    "vars(p2)"
   ]
  },
  {
   "cell_type": "code",
   "execution_count": 16,
   "id": "f53b42d3",
   "metadata": {},
   "outputs": [
    {
     "data": {
      "text/plain": [
       "'Reuven Lerner'"
      ]
     },
     "execution_count": 16,
     "metadata": {},
     "output_type": "execute_result"
    }
   ],
   "source": [
    "p.full_name()"
   ]
  },
  {
   "cell_type": "code",
   "execution_count": 17,
   "id": "2405d64a",
   "metadata": {},
   "outputs": [
    {
     "data": {
      "text/plain": [
       "'Mary Smith'"
      ]
     },
     "execution_count": 17,
     "metadata": {},
     "output_type": "execute_result"
    }
   ],
   "source": [
    "p2.full_name()"
   ]
  },
  {
   "cell_type": "code",
   "execution_count": 18,
   "id": "df10822f",
   "metadata": {},
   "outputs": [
    {
     "data": {
      "text/plain": [
       "5"
      ]
     },
     "execution_count": 18,
     "metadata": {},
     "output_type": "execute_result"
    }
   ],
   "source": [
    "s = 'abcde'\n",
    "\n",
    "len(s)  # calling a function on s"
   ]
  },
  {
   "cell_type": "code",
   "execution_count": 19,
   "id": "3b3c9752",
   "metadata": {},
   "outputs": [
    {
     "data": {
      "text/plain": [
       "'ABCDE'"
      ]
     },
     "execution_count": 19,
     "metadata": {},
     "output_type": "execute_result"
    }
   ],
   "source": [
    "s.upper()   # calling a method on s"
   ]
  },
  {
   "cell_type": "code",
   "execution_count": null,
   "id": "4b3355fd",
   "metadata": {},
   "outputs": [],
   "source": []
  }
 ],
 "metadata": {
  "kernelspec": {
   "display_name": "Python 3 (ipykernel)",
   "language": "python",
   "name": "python3"
  },
  "language_info": {
   "codemirror_mode": {
    "name": "ipython",
    "version": 3
   },
   "file_extension": ".py",
   "mimetype": "text/x-python",
   "name": "python",
   "nbconvert_exporter": "python",
   "pygments_lexer": "ipython3",
   "version": "3.10.2"
  }
 },
 "nbformat": 4,
 "nbformat_minor": 5
}
