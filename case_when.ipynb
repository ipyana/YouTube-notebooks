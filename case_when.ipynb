{
 "cells": [
  {
   "cell_type": "code",
   "execution_count": 27,
   "id": "3616c4a8-d910-4bb4-8a63-d41b6b92395e",
   "metadata": {},
   "outputs": [],
   "source": [
    "# case_when method\n",
    "\n",
    "import numpy as np\n",
    "import pandas as pd\n",
    "from pandas import Series"
   ]
  },
  {
   "cell_type": "code",
   "execution_count": 28,
   "id": "c165ac4e-6db5-4841-9514-d86db4856d0c",
   "metadata": {},
   "outputs": [
    {
     "data": {
      "text/plain": [
       "'2.2.0'"
      ]
     },
     "execution_count": 28,
     "metadata": {},
     "output_type": "execute_result"
    }
   ],
   "source": [
    "# check the version\n",
    "pd.__version__"
   ]
  },
  {
   "cell_type": "code",
   "execution_count": 29,
   "id": "7272070c-ed3c-4521-b67b-7ec4bc6eb2bd",
   "metadata": {},
   "outputs": [
    {
     "data": {
      "text/plain": [
       "0    684\n",
       "1    559\n",
       "2    629\n",
       "3    192\n",
       "4    835\n",
       "5    763\n",
       "6    707\n",
       "7    359\n",
       "8      9\n",
       "9    723\n",
       "dtype: int64"
      ]
     },
     "execution_count": 29,
     "metadata": {},
     "output_type": "execute_result"
    }
   ],
   "source": [
    "# case_when allows us to say: when this condition is true, give me these values for those\n",
    "# elements \n",
    "\n",
    "np.random.seed(0)\n",
    "s = Series(np.random.randint(0, 1000, 10))\n",
    "s"
   ]
  },
  {
   "cell_type": "code",
   "execution_count": 32,
   "id": "f828b590-016f-48cb-82c5-9d57f466389b",
   "metadata": {},
   "outputs": [
    {
     "data": {
      "text/plain": [
       "0   -684\n",
       "1    559\n",
       "2   -629\n",
       "3    192\n",
       "4   -835\n",
       "5   -763\n",
       "6   -707\n",
       "7    359\n",
       "8      9\n",
       "9   -723\n",
       "dtype: int64"
      ]
     },
     "execution_count": 32,
     "metadata": {},
     "output_type": "execute_result"
    }
   ],
   "source": [
    "# I want to negate all of the values in s that are > 600\n",
    "\n",
    "# s.loc[s>600] = -s\n",
    "\n",
    "# caselist is a list of 2-element tuples\n",
    "# first element: a condition, basically a boolean series\n",
    "# second element: what values we should use to replace elements where the series is True\n",
    "\n",
    "s.case_when(caselist=[(s>600, -s)])"
   ]
  },
  {
   "cell_type": "code",
   "execution_count": 33,
   "id": "274e7bd9-c040-4065-bc8e-a878524fda53",
   "metadata": {},
   "outputs": [
    {
     "data": {
      "text/plain": [
       "0    684\n",
       "1    559\n",
       "2    629\n",
       "3    192\n",
       "4    835\n",
       "5    763\n",
       "6    707\n",
       "7    359\n",
       "8      9\n",
       "9    723\n",
       "dtype: int64"
      ]
     },
     "execution_count": 33,
     "metadata": {},
     "output_type": "execute_result"
    }
   ],
   "source": [
    "s"
   ]
  },
  {
   "cell_type": "code",
   "execution_count": 34,
   "id": "bc29bbb8-6af4-4c94-b89e-f21065d4beca",
   "metadata": {},
   "outputs": [
    {
     "data": {
      "text/plain": [
       "0   -684\n",
       "1    559\n",
       "2   -629\n",
       "3    384\n",
       "4   -835\n",
       "5   -763\n",
       "6   -707\n",
       "7    359\n",
       "8     18\n",
       "9   -723\n",
       "dtype: int64"
      ]
     },
     "execution_count": 34,
     "metadata": {},
     "output_type": "execute_result"
    }
   ],
   "source": [
    "# what if I want to negate any value of s that's >600, and I want to double\n",
    "# any value in s that's < 200?\n",
    "\n",
    "s.case_when(caselist=[(s>600, -s),\n",
    "                      (s<200, s*2)])"
   ]
  },
  {
   "cell_type": "code",
   "execution_count": 35,
   "id": "db84eeec-849e-430e-802d-84cf597ca7cf",
   "metadata": {},
   "outputs": [
    {
     "data": {
      "text/plain": [
       "0      4\n",
       "1    559\n",
       "2    629\n",
       "3      4\n",
       "4    835\n",
       "5    763\n",
       "6    707\n",
       "7    359\n",
       "8      3\n",
       "9      3\n",
       "dtype: int64"
      ]
     },
     "execution_count": 35,
     "metadata": {},
     "output_type": "execute_result"
    }
   ],
   "source": [
    "np.random.seed(0)\n",
    "s = Series(np.random.randint(0, 1000, 10))\n",
    "\n",
    "s.case_when(caselist=[(s%4==0, 4),\n",
    "                      (s%3==0, 3)])"
   ]
  },
  {
   "cell_type": "code",
   "execution_count": 36,
   "id": "a9e531bc-73b4-4944-a09c-918e7e676815",
   "metadata": {},
   "outputs": [
    {
     "data": {
      "text/plain": [
       "0      3\n",
       "1    559\n",
       "2    629\n",
       "3      3\n",
       "4    835\n",
       "5    763\n",
       "6    707\n",
       "7    359\n",
       "8      3\n",
       "9      3\n",
       "dtype: int64"
      ]
     },
     "execution_count": 36,
     "metadata": {},
     "output_type": "execute_result"
    }
   ],
   "source": [
    "s.case_when(caselist=[(s%3==0, 3),\n",
    "                      (s%4==0, 4)])"
   ]
  },
  {
   "cell_type": "code",
   "execution_count": 37,
   "id": "8fd025b2-3c86-4fb5-b122-50687561e574",
   "metadata": {},
   "outputs": [
    {
     "data": {
      "text/plain": [
       "0    by 3\n",
       "1     559\n",
       "2     629\n",
       "3    by 3\n",
       "4     835\n",
       "5     763\n",
       "6     707\n",
       "7     359\n",
       "8    by 3\n",
       "9    by 3\n",
       "dtype: object"
      ]
     },
     "execution_count": 37,
     "metadata": {},
     "output_type": "execute_result"
    }
   ],
   "source": [
    "s.case_when(caselist=[(s%3==0, 'by 3'),\n",
    "                      (s%4==0, 'by 4')])"
   ]
  },
  {
   "cell_type": "code",
   "execution_count": 39,
   "id": "2b92d934-7c38-43d8-b356-5484adae9167",
   "metadata": {},
   "outputs": [
    {
     "data": {
      "text/plain": [
       "0       by 3\n",
       "1    neither\n",
       "2    neither\n",
       "3       by 3\n",
       "4    neither\n",
       "5    neither\n",
       "6    neither\n",
       "7    neither\n",
       "8       by 3\n",
       "9       by 3\n",
       "dtype: object"
      ]
     },
     "execution_count": 39,
     "metadata": {},
     "output_type": "execute_result"
    }
   ],
   "source": [
    "# what if I want a default value?\n",
    "\n",
    "s.case_when(caselist=[(s%3==0, 'by 3'),\n",
    "                      (s%4==0, 'by 4'),\n",
    "                      (s==s, 'neither')])"
   ]
  },
  {
   "cell_type": "code",
   "execution_count": 40,
   "id": "21cdfcf5-9844-44e8-bd0a-387161e253af",
   "metadata": {},
   "outputs": [
    {
     "data": {
      "text/plain": [
       "0     no 9\n",
       "1    has 9\n",
       "2    has 9\n",
       "3    has 9\n",
       "4     no 9\n",
       "5     no 9\n",
       "6     no 9\n",
       "7    has 9\n",
       "8    has 9\n",
       "9     no 9\n",
       "dtype: object"
      ]
     },
     "execution_count": 40,
     "metadata": {},
     "output_type": "execute_result"
    }
   ],
   "source": [
    "np.random.seed(0)\n",
    "s = Series(np.random.randint(0, 1000, 10))\n",
    "\n",
    "# let's find out which numbers contain the digit 9\n",
    "s.case_when(caselist=[(s.astype(str).str.contains('9'), 'has 9'),\n",
    "                      (s==s, 'no 9')])"
   ]
  },
  {
   "cell_type": "code",
   "execution_count": 41,
   "id": "be70b75f-36cf-4320-b56f-75156d1a1920",
   "metadata": {},
   "outputs": [
    {
     "data": {
      "text/plain": [
       "0    684.0\n",
       "1    559.0\n",
       "2    629.0\n",
       "3      NaN\n",
       "4      NaN\n",
       "5    763.0\n",
       "6    707.0\n",
       "7    359.0\n",
       "8      NaN\n",
       "9    723.0\n",
       "dtype: float64"
      ]
     },
     "execution_count": 41,
     "metadata": {},
     "output_type": "execute_result"
    }
   ],
   "source": [
    "# any outlier values should be turned into NaN\n",
    "\n",
    "np.random.seed(0)\n",
    "s = Series(np.random.randint(0, 1000, 10))\n",
    "\n",
    "s.case_when(caselist=[(s < s.mean() - s.std(), np.nan),\n",
    "                      (s > s.mean() + s.std(), np.nan)])\n",
    "                      "
   ]
  },
  {
   "cell_type": "code",
   "execution_count": 44,
   "id": "4c2e6c26-57f7-4a31-a1d8-6ce50a82b92c",
   "metadata": {},
   "outputs": [
    {
     "data": {
      "text/plain": [
       "0    high\n",
       "1    high\n",
       "2    high\n",
       "3     low\n",
       "4    high\n",
       "5    high\n",
       "6    high\n",
       "7     low\n",
       "8     low\n",
       "9    high\n",
       "dtype: object"
      ]
     },
     "execution_count": 44,
     "metadata": {},
     "output_type": "execute_result"
    }
   ],
   "source": [
    "np.random.seed(0)\n",
    "s = Series(np.random.randint(0, 1000, 10))\n",
    "\n",
    "s.case_when(caselist=[(lambda s_: s_.lt(500), 'low'),\n",
    "                      (lambda s_: s_.ge(500), 'high')])\n",
    "                      \n"
   ]
  },
  {
   "cell_type": "code",
   "execution_count": 45,
   "id": "45996edd-d030-4d72-8bed-8e792a679ce6",
   "metadata": {},
   "outputs": [],
   "source": [
    "from pandas import DataFrame\n"
   ]
  },
  {
   "cell_type": "code",
   "execution_count": 47,
   "id": "b3a0c769-bf1f-4f25-a884-cca61c9f8254",
   "metadata": {},
   "outputs": [
    {
     "data": {
      "text/html": [
       "<div>\n",
       "<style scoped>\n",
       "    .dataframe tbody tr th:only-of-type {\n",
       "        vertical-align: middle;\n",
       "    }\n",
       "\n",
       "    .dataframe tbody tr th {\n",
       "        vertical-align: top;\n",
       "    }\n",
       "\n",
       "    .dataframe thead th {\n",
       "        text-align: right;\n",
       "    }\n",
       "</style>\n",
       "<table border=\"1\" class=\"dataframe\">\n",
       "  <thead>\n",
       "    <tr style=\"text-align: right;\">\n",
       "      <th></th>\n",
       "      <th>w</th>\n",
       "      <th>x</th>\n",
       "      <th>y</th>\n",
       "      <th>z</th>\n",
       "    </tr>\n",
       "  </thead>\n",
       "  <tbody>\n",
       "    <tr>\n",
       "      <th>a</th>\n",
       "      <td>44</td>\n",
       "      <td>47</td>\n",
       "      <td>64</td>\n",
       "      <td>67</td>\n",
       "    </tr>\n",
       "    <tr>\n",
       "      <th>b</th>\n",
       "      <td>67</td>\n",
       "      <td>9</td>\n",
       "      <td>83</td>\n",
       "      <td>21</td>\n",
       "    </tr>\n",
       "    <tr>\n",
       "      <th>c</th>\n",
       "      <td>36</td>\n",
       "      <td>87</td>\n",
       "      <td>70</td>\n",
       "      <td>88</td>\n",
       "    </tr>\n",
       "    <tr>\n",
       "      <th>d</th>\n",
       "      <td>88</td>\n",
       "      <td>12</td>\n",
       "      <td>58</td>\n",
       "      <td>65</td>\n",
       "    </tr>\n",
       "  </tbody>\n",
       "</table>\n",
       "</div>"
      ],
      "text/plain": [
       "    w   x   y   z\n",
       "a  44  47  64  67\n",
       "b  67   9  83  21\n",
       "c  36  87  70  88\n",
       "d  88  12  58  65"
      ]
     },
     "execution_count": 47,
     "metadata": {},
     "output_type": "execute_result"
    }
   ],
   "source": [
    "np.random.seed(0)\n",
    "df = DataFrame(np.random.randint(0, 100, [4,4]),\n",
    "              index=list('abcd'),\n",
    "              columns=list('wxyz'))\n",
    "\n",
    "df"
   ]
  },
  {
   "cell_type": "code",
   "execution_count": 50,
   "id": "78d2ac73-343f-4ba1-9a6e-910fdabcdfc4",
   "metadata": {},
   "outputs": [
    {
     "data": {
      "text/plain": [
       "a    0\n",
       "b    9\n",
       "c    0\n",
       "d    9\n",
       "Name: w, dtype: int64"
      ]
     },
     "execution_count": 50,
     "metadata": {},
     "output_type": "execute_result"
    }
   ],
   "source": [
    "df['w'].case_when([(lambda s_: s_ > s_.mean(), 9),\n",
    "                  (lambda s_: s_ == s_, 0)])"
   ]
  },
  {
   "cell_type": "code",
   "execution_count": null,
   "id": "516758ef-b7fc-483c-b2e5-5231689ac90e",
   "metadata": {},
   "outputs": [],
   "source": []
  }
 ],
 "metadata": {
  "kernelspec": {
   "display_name": "Python 3 (ipykernel)",
   "language": "python",
   "name": "python3"
  },
  "language_info": {
   "codemirror_mode": {
    "name": "ipython",
    "version": 3
   },
   "file_extension": ".py",
   "mimetype": "text/x-python",
   "name": "python",
   "nbconvert_exporter": "python",
   "pygments_lexer": "ipython3",
   "version": "3.12.1"
  }
 },
 "nbformat": 4,
 "nbformat_minor": 5
}
