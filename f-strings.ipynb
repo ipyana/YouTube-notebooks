{
 "cells": [
  {
   "cell_type": "markdown",
   "metadata": {},
   "source": [
    "# f-strings!"
   ]
  },
  {
   "cell_type": "code",
   "execution_count": 1,
   "metadata": {},
   "outputs": [
    {
     "name": "stdout",
     "output_type": "stream",
     "text": [
      "Hello, Reuven Lerner.  How are you today?\n"
     ]
    }
   ],
   "source": [
    "first_name = 'Reuven'\n",
    "last_name = 'Lerner'\n",
    "\n",
    "s = 'Hello, ' + first_name + ' ' + last_name + '.  How are you today?'\n",
    "print(s)"
   ]
  },
  {
   "cell_type": "code",
   "execution_count": 4,
   "metadata": {},
   "outputs": [
    {
     "name": "stdout",
     "output_type": "stream",
     "text": [
      "Hello, Reuven Lerner.  How are you today?\n"
     ]
    }
   ],
   "source": [
    "s = 'Hello, {0} {1}.  How are you today?'\n",
    "print(s.format(first_name, last_name))   # *args, **kwargs"
   ]
  },
  {
   "cell_type": "code",
   "execution_count": 5,
   "metadata": {},
   "outputs": [
    {
     "name": "stdout",
     "output_type": "stream",
     "text": [
      "Hello, Reuven Lerner.  How are you today, Reuven?\n"
     ]
    }
   ],
   "source": [
    "s = 'Hello, {0} {1}.  How are you today, {0}?'\n",
    "print(s.format(first_name, last_name))   # *args, **kwargs"
   ]
  },
  {
   "cell_type": "code",
   "execution_count": 3,
   "metadata": {},
   "outputs": [
    {
     "name": "stdout",
     "output_type": "stream",
     "text": [
      "10 + 20 = 30.\n"
     ]
    }
   ],
   "source": [
    "x = 10\n",
    "y = 20\n",
    "\n",
    "s = str(x) + ' + ' + str(y) + ' = ' + str(x+y) + '.'\n",
    "print(s)"
   ]
  },
  {
   "cell_type": "code",
   "execution_count": 6,
   "metadata": {},
   "outputs": [
    {
     "name": "stdout",
     "output_type": "stream",
     "text": [
      "10 + 20 = 30\n"
     ]
    }
   ],
   "source": [
    "s = '{0} + {1} = {2}'\n",
    "print(s.format(x, y, x+y))"
   ]
  },
  {
   "cell_type": "code",
   "execution_count": 7,
   "metadata": {},
   "outputs": [
    {
     "name": "stdout",
     "output_type": "stream",
     "text": [
      "Hello, Reuven Lerner.  How are you today, Reuven?\n"
     ]
    }
   ],
   "source": [
    "# as of Python 3.6, we have f-strings\n",
    "# use an f before the opening quote\n",
    "# anything inside of {} in the string is evaluated, and the result is inserted\n",
    "\n",
    "s = f'Hello, {first_name} {last_name}.  How are you today, {first_name}?'\n",
    "print(s)"
   ]
  },
  {
   "cell_type": "code",
   "execution_count": 8,
   "metadata": {},
   "outputs": [
    {
     "data": {
      "text/plain": [
       "str"
      ]
     },
     "execution_count": 8,
     "metadata": {},
     "output_type": "execute_result"
    }
   ],
   "source": [
    "type(s)"
   ]
  },
  {
   "cell_type": "code",
   "execution_count": 9,
   "metadata": {},
   "outputs": [
    {
     "name": "stdout",
     "output_type": "stream",
     "text": [
      "10 + 20 = 30.\n"
     ]
    }
   ],
   "source": [
    "s = f'{x} + {y} = {x+y}.'\n",
    "print(s)"
   ]
  },
  {
   "cell_type": "code",
   "execution_count": 10,
   "metadata": {},
   "outputs": [
    {
     "name": "stdout",
     "output_type": "stream",
     "text": [
      "Hello, Reuven Lerner.\n"
     ]
    }
   ],
   "source": [
    "s = f'Hello, {first_name} {last_name}.'\n",
    "print(s)"
   ]
  },
  {
   "cell_type": "code",
   "execution_count": 11,
   "metadata": {},
   "outputs": [
    {
     "name": "stdout",
     "output_type": "stream",
     "text": [
      "Hello, Reuven          Lerner         .\n"
     ]
    }
   ],
   "source": [
    "# every data type can be modified with a \"format string\"\n",
    "# that comes after a : inside of the curly braces.\n",
    "\n",
    "s = f'Hello, {first_name:15} {last_name:15}.'\n",
    "print(s)"
   ]
  },
  {
   "cell_type": "code",
   "execution_count": 13,
   "metadata": {},
   "outputs": [
    {
     "name": "stdout",
     "output_type": "stream",
     "text": [
      "Hello,          Reuven     Lerner     .\n"
     ]
    }
   ],
   "source": [
    "# < left-justifies\n",
    "# ^ centers\n",
    "# > right-justifies\n",
    "\n",
    "s = f'Hello, {first_name:>15} {last_name:^15}.'\n",
    "print(s)"
   ]
  },
  {
   "cell_type": "code",
   "execution_count": 14,
   "metadata": {},
   "outputs": [
    {
     "name": "stdout",
     "output_type": "stream",
     "text": [
      "Hello, *********Reuven ____Lerner_____.\n"
     ]
    }
   ],
   "source": [
    "\n",
    "s = f'Hello, {first_name:*>15} {last_name:_^15}.'\n",
    "print(s)"
   ]
  },
  {
   "cell_type": "code",
   "execution_count": 21,
   "metadata": {},
   "outputs": [
    {
     "name": "stdout",
     "output_type": "stream",
     "text": [
      " 1.23e+02 + 90.12 = 2.14e+02\n"
     ]
    }
   ],
   "source": [
    "x = 123.456\n",
    "y = 90.12\n",
    "\n",
    "print(f'{x:9.3} + {y} = {x+y:5.3}')"
   ]
  },
  {
   "cell_type": "code",
   "execution_count": 25,
   "metadata": {},
   "outputs": [
    {
     "name": "stdout",
     "output_type": "stream",
     "text": [
      "a............100\n",
      "bcde...........2\n",
      "fghijklmn...3456\n",
      "op............78\n"
     ]
    }
   ],
   "source": [
    "d = {'a':100, 'bcde':2, 'fghijklmn':3456, 'op':78}\n",
    "\n",
    "for key, value in d.items():\n",
    "    print(f'{key:.<10}{value:.>6}')"
   ]
  },
  {
   "cell_type": "code",
   "execution_count": null,
   "metadata": {},
   "outputs": [],
   "source": []
  }
 ],
 "metadata": {
  "kernelspec": {
   "display_name": "Python 3",
   "language": "python",
   "name": "python3"
  },
  "language_info": {
   "codemirror_mode": {
    "name": "ipython",
    "version": 3
   },
   "file_extension": ".py",
   "mimetype": "text/x-python",
   "name": "python",
   "nbconvert_exporter": "python",
   "pygments_lexer": "ipython3",
   "version": "3.9.6"
  }
 },
 "nbformat": 4,
 "nbformat_minor": 4
}
