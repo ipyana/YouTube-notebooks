{
 "cells": [
  {
   "cell_type": "code",
   "execution_count": 2,
   "metadata": {},
   "outputs": [
    {
     "name": "stdout",
     "output_type": "stream",
     "text": [
      "Yes, x is 100!\n",
      "Yes, y is 200!\n"
     ]
    }
   ],
   "source": [
    "x = 100\n",
    "y = 200\n",
    "\n",
    "if x == 100:\n",
    "    print('Yes, x is 100!')    # runs if the \"if\" statement gets a True value\n",
    "else:\n",
    "    print('Sorry, x is not 100')  # runs if the \"if\" statement gets a False value\n",
    "    \n",
    "if y == 200:\n",
    "    print('Yes, y is 200!')  # runs if the \"if\" statement gets a True value\n",
    "else:\n",
    "    print('Sorry, y is not 200')  # runs if the \"if\" statement gets a False value"
   ]
  },
  {
   "cell_type": "code",
   "execution_count": 3,
   "metadata": {},
   "outputs": [
    {
     "name": "stdout",
     "output_type": "stream",
     "text": [
      "Yes, x is 100!\n",
      "Sorry, y is not 200\n"
     ]
    }
   ],
   "source": [
    "x = 100\n",
    "y = 400\n",
    "\n",
    "if x == 100:\n",
    "    print('Yes, x is 100!')    # runs if the \"if\" statement gets a True value\n",
    "else:\n",
    "    print('Sorry, x is not 100')  # runs if the \"if\" statement gets a False value\n",
    "    \n",
    "if y == 200:\n",
    "    print('Yes, y is 200!')  # runs if the \"if\" statement gets a True value\n",
    "else:\n",
    "    print('Sorry, y is not 200')  # runs if the \"if\" statement gets a False value"
   ]
  },
  {
   "cell_type": "code",
   "execution_count": 5,
   "metadata": {},
   "outputs": [
    {
     "name": "stdout",
     "output_type": "stream",
     "text": [
      "Yes, x is 100!\n",
      "Sorry, x is not 200\n"
     ]
    }
   ],
   "source": [
    "x = 100\n",
    "\n",
    "if x == 100:\n",
    "    print('Yes, x is 100!')    # runs if the \"if\" statement gets a True value\n",
    "else:\n",
    "    print('Sorry, x is not 100')  # runs if the \"if\" statement gets a False value\n",
    "    \n",
    "\n",
    "\n",
    "if x == 200:\n",
    "    print('Yes, y is 200!')  # runs if the \"if\" statement gets a True value\n",
    "else:\n",
    "    print('Sorry, x is not 200')  # runs if the \"if\" statement gets a False value"
   ]
  },
  {
   "cell_type": "code",
   "execution_count": 7,
   "metadata": {},
   "outputs": [
    {
     "name": "stdout",
     "output_type": "stream",
     "text": [
      "Yes, x > 10!\n",
      "Yes, x > 20!\n"
     ]
    }
   ],
   "source": [
    "x = 100\n",
    "\n",
    "if x > 10:\n",
    "    print('Yes, x > 10!')\n",
    "else:\n",
    "    print('Sorry, x is not > 10') \n",
    "    \n",
    "\n",
    "\n",
    "if x > 20:\n",
    "    print('Yes, x > 20!')\n",
    "else:\n",
    "    print('Sorry, y is not > 20')"
   ]
  },
  {
   "cell_type": "code",
   "execution_count": 8,
   "metadata": {},
   "outputs": [
    {
     "name": "stdout",
     "output_type": "stream",
     "text": [
      "Yes, x > 10!\n",
      "Yes, x > 20!\n"
     ]
    }
   ],
   "source": [
    "x = 100\n",
    "\n",
    "if x > 10:\n",
    "    print('Yes, x > 10!')\n",
    "\n",
    "\n",
    "\n",
    "if x > 20:\n",
    "    print('Yes, x > 20!')\n"
   ]
  },
  {
   "cell_type": "code",
   "execution_count": 10,
   "metadata": {},
   "outputs": [
    {
     "name": "stdout",
     "output_type": "stream",
     "text": [
      "Yes, x > 20!\n"
     ]
    }
   ],
   "source": [
    "x = 150\n",
    "\n",
    "if x > 20:\n",
    "    print('Yes, x > 20!')\n",
    "\n",
    "elif x > 10:\n",
    "    print('Yes, x > 10!')\n",
    "    \n",
    "elif x > 5:\n",
    "    print('Yes, x > 5!')\n",
    "\n",
    "else:\n",
    "    print('Something else entirely')"
   ]
  },
  {
   "cell_type": "code",
   "execution_count": null,
   "metadata": {},
   "outputs": [],
   "source": []
  }
 ],
 "metadata": {
  "kernelspec": {
   "display_name": "Python 3",
   "language": "python",
   "name": "python3"
  },
  "language_info": {
   "codemirror_mode": {
    "name": "ipython",
    "version": 3
   },
   "file_extension": ".py",
   "mimetype": "text/x-python",
   "name": "python",
   "nbconvert_exporter": "python",
   "pygments_lexer": "ipython3",
   "version": "3.9.2"
  }
 },
 "nbformat": 4,
 "nbformat_minor": 4
}
