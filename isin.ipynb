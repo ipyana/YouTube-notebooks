{
 "cells": [
  {
   "cell_type": "code",
   "execution_count": 1,
   "id": "fe73298f-9745-4162-a2e8-9bab8237955f",
   "metadata": {},
   "outputs": [],
   "source": [
    "import numpy as np\n",
    "import pandas as pd\n",
    "from pandas import Series, DataFrame"
   ]
  },
  {
   "cell_type": "code",
   "execution_count": 2,
   "id": "537a4580-5e00-461a-b902-a6d3cffe4d1d",
   "metadata": {},
   "outputs": [
    {
     "data": {
      "text/html": [
       "<div>\n",
       "<style scoped>\n",
       "    .dataframe tbody tr th:only-of-type {\n",
       "        vertical-align: middle;\n",
       "    }\n",
       "\n",
       "    .dataframe tbody tr th {\n",
       "        vertical-align: top;\n",
       "    }\n",
       "\n",
       "    .dataframe thead th {\n",
       "        text-align: right;\n",
       "    }\n",
       "</style>\n",
       "<table border=\"1\" class=\"dataframe\">\n",
       "  <thead>\n",
       "    <tr style=\"text-align: right;\">\n",
       "      <th></th>\n",
       "      <th>u</th>\n",
       "      <th>v</th>\n",
       "      <th>w</th>\n",
       "      <th>x</th>\n",
       "      <th>y</th>\n",
       "      <th>z</th>\n",
       "    </tr>\n",
       "  </thead>\n",
       "  <tbody>\n",
       "    <tr>\n",
       "      <th>a</th>\n",
       "      <td>454</td>\n",
       "      <td>999</td>\n",
       "      <td>144</td>\n",
       "      <td>254</td>\n",
       "      <td>300</td>\n",
       "      <td>220</td>\n",
       "    </tr>\n",
       "    <tr>\n",
       "      <th>b</th>\n",
       "      <td>534</td>\n",
       "      <td>580</td>\n",
       "      <td>274</td>\n",
       "      <td>888</td>\n",
       "      <td>993</td>\n",
       "      <td>846</td>\n",
       "    </tr>\n",
       "    <tr>\n",
       "      <th>c</th>\n",
       "      <td>744</td>\n",
       "      <td>408</td>\n",
       "      <td>3</td>\n",
       "      <td>257</td>\n",
       "      <td>761</td>\n",
       "      <td>291</td>\n",
       "    </tr>\n",
       "    <tr>\n",
       "      <th>d</th>\n",
       "      <td>49</td>\n",
       "      <td>328</td>\n",
       "      <td>216</td>\n",
       "      <td>258</td>\n",
       "      <td>235</td>\n",
       "      <td>341</td>\n",
       "    </tr>\n",
       "    <tr>\n",
       "      <th>e</th>\n",
       "      <td>315</td>\n",
       "      <td>702</td>\n",
       "      <td>232</td>\n",
       "      <td>751</td>\n",
       "      <td>944</td>\n",
       "      <td>364</td>\n",
       "    </tr>\n",
       "    <tr>\n",
       "      <th>f</th>\n",
       "      <td>201</td>\n",
       "      <td>588</td>\n",
       "      <td>659</td>\n",
       "      <td>847</td>\n",
       "      <td>942</td>\n",
       "      <td>170</td>\n",
       "    </tr>\n",
       "  </tbody>\n",
       "</table>\n",
       "</div>"
      ],
      "text/plain": [
       "     u    v    w    x    y    z\n",
       "a  454  999  144  254  300  220\n",
       "b  534  580  274  888  993  846\n",
       "c  744  408    3  257  761  291\n",
       "d   49  328  216  258  235  341\n",
       "e  315  702  232  751  944  364\n",
       "f  201  588  659  847  942  170"
      ]
     },
     "execution_count": 2,
     "metadata": {},
     "output_type": "execute_result"
    }
   ],
   "source": [
    "df = DataFrame(np.random.randint(0, 1000, [6,6]),\n",
    "               index=list('abcdef'),\n",
    "               columns=list('uvwxyz'))\n",
    "df"
   ]
  },
  {
   "cell_type": "code",
   "execution_count": 3,
   "id": "744dadee-7774-49e5-a6d9-661453da24e0",
   "metadata": {},
   "outputs": [
    {
     "data": {
      "text/plain": [
       "u     True\n",
       "v    False\n",
       "w    False\n",
       "x    False\n",
       "y    False\n",
       "z    False\n",
       "Name: c, dtype: bool"
      ]
     },
     "execution_count": 3,
     "metadata": {},
     "output_type": "execute_result"
    }
   ],
   "source": [
    "# I want to know where row 'c' is 744\n",
    "df.loc['c'] == 744"
   ]
  },
  {
   "cell_type": "code",
   "execution_count": 4,
   "id": "a2f41b84-1405-474c-8306-4b1e2faffa98",
   "metadata": {},
   "outputs": [
    {
     "data": {
      "text/plain": [
       "u    False\n",
       "v     True\n",
       "w    False\n",
       "x    False\n",
       "y    False\n",
       "z    False\n",
       "Name: c, dtype: bool"
      ]
     },
     "execution_count": 4,
     "metadata": {},
     "output_type": "execute_result"
    }
   ],
   "source": [
    "# I want to know where row 'c' in 408\n",
    "df.loc['c'] == 408"
   ]
  },
  {
   "cell_type": "code",
   "execution_count": 5,
   "id": "5e864450-0f63-40bc-a7c5-d4161c94b1fb",
   "metadata": {},
   "outputs": [
    {
     "data": {
      "text/plain": [
       "u    False\n",
       "v    False\n",
       "w     True\n",
       "x    False\n",
       "y    False\n",
       "z    False\n",
       "Name: c, dtype: bool"
      ]
     },
     "execution_count": 5,
     "metadata": {},
     "output_type": "execute_result"
    }
   ],
   "source": [
    "# I want to know where row 'c' in 3\n",
    "df.loc['c'] == 3"
   ]
  },
  {
   "cell_type": "code",
   "execution_count": 7,
   "id": "2217a229-7885-4337-9c9a-6e20d9131aa9",
   "metadata": {},
   "outputs": [
    {
     "data": {
      "text/plain": [
       "u     True\n",
       "v     True\n",
       "w     True\n",
       "x    False\n",
       "y    False\n",
       "z    False\n",
       "Name: c, dtype: bool"
      ]
     },
     "execution_count": 7,
     "metadata": {},
     "output_type": "execute_result"
    }
   ],
   "source": [
    "# I want to know where 'c' is either 744, 408, or 3\n",
    "# we can use | as a version of \"or\" on our series\n",
    "\n",
    "(df.loc['c'] == 744) | (df.loc['c'] == 408) | (df.loc['c'] == 3)"
   ]
  },
  {
   "cell_type": "code",
   "execution_count": 8,
   "id": "16598de1-5296-44d3-a3e4-981a7e6aabe8",
   "metadata": {},
   "outputs": [
    {
     "data": {
      "text/plain": [
       "u     True\n",
       "v     True\n",
       "w     True\n",
       "x    False\n",
       "y    False\n",
       "z    False\n",
       "Name: c, dtype: bool"
      ]
     },
     "execution_count": 8,
     "metadata": {},
     "output_type": "execute_result"
    }
   ],
   "source": [
    "# there's another way to do this, the \"isin\" method\n",
    "df.loc['c'].isin([744, 408, 3])"
   ]
  },
  {
   "cell_type": "code",
   "execution_count": 9,
   "id": "f829c31d-d795-4a09-ade7-ca0a5ad9c483",
   "metadata": {},
   "outputs": [
    {
     "name": "stdout",
     "output_type": "stream",
     "text": [
      "319 µs ± 5.52 µs per loop (mean ± std. dev. of 7 runs, 1,000 loops each)\n"
     ]
    }
   ],
   "source": [
    "# which of these techniques will execute faster?\n",
    "\n",
    "%timeit (df.loc['c'] == 744) | (df.loc['c'] == 408) | (df.loc['c'] == 3)"
   ]
  },
  {
   "cell_type": "code",
   "execution_count": 10,
   "id": "3899176f-7534-4b23-8eea-d1e8600dfa96",
   "metadata": {},
   "outputs": [
    {
     "name": "stdout",
     "output_type": "stream",
     "text": [
      "80.2 µs ± 296 ns per loop (mean ± std. dev. of 7 runs, 10,000 loops each)\n"
     ]
    }
   ],
   "source": [
    "%timeit df.loc['c'].isin([744, 408, 3])"
   ]
  },
  {
   "cell_type": "code",
   "execution_count": 11,
   "id": "f07bb90d-f453-49f3-9af7-ea5528291da0",
   "metadata": {},
   "outputs": [
    {
     "data": {
      "text/plain": [
       "0.2507836990595611"
      ]
     },
     "execution_count": 11,
     "metadata": {},
     "output_type": "execute_result"
    }
   ],
   "source": [
    "80 / 319"
   ]
  },
  {
   "cell_type": "code",
   "execution_count": null,
   "id": "cd7da7a5-75f7-4022-b2ab-35bf64b58584",
   "metadata": {},
   "outputs": [],
   "source": []
  }
 ],
 "metadata": {
  "kernelspec": {
   "display_name": "Python 3 (ipykernel)",
   "language": "python",
   "name": "python3"
  },
  "language_info": {
   "codemirror_mode": {
    "name": "ipython",
    "version": 3
   },
   "file_extension": ".py",
   "mimetype": "text/x-python",
   "name": "python",
   "nbconvert_exporter": "python",
   "pygments_lexer": "ipython3",
   "version": "3.11.4"
  }
 },
 "nbformat": 4,
 "nbformat_minor": 5
}
