{
 "cells": [
  {
   "cell_type": "markdown",
   "id": "a77e1e5c",
   "metadata": {},
   "source": [
    "# Which is faster: `for` loop or a list comprehension?"
   ]
  },
  {
   "cell_type": "code",
   "execution_count": 1,
   "id": "c135d8e4",
   "metadata": {},
   "outputs": [],
   "source": [
    "\n",
    "def traditional_loop():\n",
    "    x = []\n",
    "    \n",
    "    for i in range(1_000_000):\n",
    "        x.append(i ** 2)\n",
    "        \n",
    "    return x\n",
    "\n",
    "def comprehension():\n",
    "    return [i**2\n",
    "           for i in range(1_000_000)]"
   ]
  },
  {
   "cell_type": "code",
   "execution_count": 2,
   "id": "7cd58171",
   "metadata": {},
   "outputs": [
    {
     "name": "stdout",
     "output_type": "stream",
     "text": [
      "72.1 ms ± 320 µs per loop (mean ± std. dev. of 7 runs, 10 loops each)\n"
     ]
    }
   ],
   "source": [
    "%timeit traditional_loop()"
   ]
  },
  {
   "cell_type": "code",
   "execution_count": 3,
   "id": "14b3112b",
   "metadata": {},
   "outputs": [
    {
     "name": "stdout",
     "output_type": "stream",
     "text": [
      "65.9 ms ± 286 µs per loop (mean ± std. dev. of 7 runs, 10 loops each)\n"
     ]
    }
   ],
   "source": [
    "%timeit comprehension()"
   ]
  },
  {
   "cell_type": "code",
   "execution_count": 6,
   "id": "b65801f6",
   "metadata": {},
   "outputs": [
    {
     "name": "stdout",
     "output_type": "stream",
     "text": [
      "71.1 ms ± 608 µs per loop (mean ± std. dev. of 7 runs, 10 loops each)\n"
     ]
    }
   ],
   "source": [
    "%%timeit\n",
    "\n",
    "x = []\n",
    "\n",
    "for i in range(1_000_000):\n",
    "    x.append(i ** 2)"
   ]
  },
  {
   "cell_type": "code",
   "execution_count": 7,
   "id": "83d1c8ad",
   "metadata": {},
   "outputs": [
    {
     "name": "stdout",
     "output_type": "stream",
     "text": [
      "65.6 ms ± 578 µs per loop (mean ± std. dev. of 7 runs, 10 loops each)\n"
     ]
    }
   ],
   "source": [
    "%%timeit\n",
    "\n",
    "x = [i**2\n",
    "    for i in range(1_000_000)]"
   ]
  },
  {
   "cell_type": "code",
   "execution_count": null,
   "id": "f8991f47",
   "metadata": {},
   "outputs": [],
   "source": []
  }
 ],
 "metadata": {
  "kernelspec": {
   "display_name": "Python 3 (ipykernel)",
   "language": "python",
   "name": "python3"
  },
  "language_info": {
   "codemirror_mode": {
    "name": "ipython",
    "version": 3
   },
   "file_extension": ".py",
   "mimetype": "text/x-python",
   "name": "python",
   "nbconvert_exporter": "python",
   "pygments_lexer": "ipython3",
   "version": "3.11.0"
  }
 },
 "nbformat": 4,
 "nbformat_minor": 5
}
